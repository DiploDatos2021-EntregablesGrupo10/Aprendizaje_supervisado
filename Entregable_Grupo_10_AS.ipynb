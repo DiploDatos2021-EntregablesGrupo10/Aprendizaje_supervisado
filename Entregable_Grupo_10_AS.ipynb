{
  "nbformat": 4,
  "nbformat_minor": 0,
  "metadata": {
    "kernelspec": {
      "display_name": "Python 3",
      "language": "python",
      "name": "python3"
    },
    "language_info": {
      "codemirror_mode": {
        "name": "ipython",
        "version": 3
      },
      "file_extension": ".py",
      "mimetype": "text/x-python",
      "name": "python",
      "nbconvert_exporter": "python",
      "pygments_lexer": "ipython3",
      "version": "3.7.3"
    },
    "colab": {
      "name": "Entregable_Grupo_10_AS.ipynb",
      "provenance": [],
      "collapsed_sections": [],
      "toc_visible": true
    }
  },
  "cells": [
    {
      "cell_type": "markdown",
      "metadata": {
        "id": "tUCFjkg9VPCB"
      },
      "source": [
        "# Diplodatos Kaggle Competition"
      ]
    },
    {
      "cell_type": "markdown",
      "metadata": {
        "id": "ghMvRTbiVPCE"
      },
      "source": [
        "A continuacion se presenta una exploracion de los datos de la competencia de Kaggle así como varios modelos de aprendizaje supervisado propuestos:\n"
      ]
    },
    {
      "cell_type": "code",
      "metadata": {
        "id": "fm1Nx3HxVPCG"
      },
      "source": [
        "# Importamos los paquetes requeridos\n",
        "import os\n",
        "import numpy as np\n",
        "import pandas as pd\n",
        "import matplotlib.pyplot as plt"
      ],
      "execution_count": null,
      "outputs": []
    },
    {
      "cell_type": "markdown",
      "metadata": {
        "id": "LBuUb8rqVPCH"
      },
      "source": [
        "## Read Data"
      ]
    },
    {
      "cell_type": "code",
      "metadata": {
        "id": "dKhm4fPKVPCI"
      },
      "source": [
        "train_df = pd.read_csv(\"https://raw.githubusercontent.com/DiploDatos/AprendizajeSupervisado/master/practico/data/travel_insurance_prediction_train.csv\")\n",
        "test_df = pd.read_csv(\"https://raw.githubusercontent.com/DiploDatos/AprendizajeSupervisado/master/practico/data/travel_insurance_prediction_test.csv\")"
      ],
      "execution_count": null,
      "outputs": []
    },
    {
      "cell_type": "markdown",
      "metadata": {
        "id": "pAF2rrpEVPCJ"
      },
      "source": [
        "## Exploramos los datos\n"
      ]
    },
    {
      "cell_type": "markdown",
      "metadata": {
        "id": "gJJdXe7n1RQM"
      },
      "source": [
        "El dataset consiste en un conjunto de clientes de una agencia de viajes y se brinda informacion acerca de cada cliente, tal como su edad, su trabajo, sus ingresos mensuales, como esta compuesta su familia, si ha viajado antes o no y si ha contratado seguro de viaje. "
      ]
    },
    {
      "cell_type": "code",
      "metadata": {
        "colab": {
          "base_uri": "https://localhost:8080/"
        },
        "id": "MG1GegI2VPCJ",
        "outputId": "1b984ba4-8ea4-443b-ae0e-fdb37f37f37e"
      },
      "source": [
        "train_df.head()"
      ],
      "execution_count": null,
      "outputs": [
        {
          "output_type": "execute_result",
          "data": {
            "text/html": [
              "<div>\n",
              "<style scoped>\n",
              "    .dataframe tbody tr th:only-of-type {\n",
              "        vertical-align: middle;\n",
              "    }\n",
              "\n",
              "    .dataframe tbody tr th {\n",
              "        vertical-align: top;\n",
              "    }\n",
              "\n",
              "    .dataframe thead th {\n",
              "        text-align: right;\n",
              "    }\n",
              "</style>\n",
              "<table border=\"1\" class=\"dataframe\">\n",
              "  <thead>\n",
              "    <tr style=\"text-align: right;\">\n",
              "      <th></th>\n",
              "      <th>Customer</th>\n",
              "      <th>Age</th>\n",
              "      <th>Employment Type</th>\n",
              "      <th>GraduateOrNot</th>\n",
              "      <th>AnnualIncome</th>\n",
              "      <th>FamilyMembers</th>\n",
              "      <th>ChronicDiseases</th>\n",
              "      <th>FrequentFlyer</th>\n",
              "      <th>EverTravelledAbroad</th>\n",
              "      <th>TravelInsurance</th>\n",
              "    </tr>\n",
              "  </thead>\n",
              "  <tbody>\n",
              "    <tr>\n",
              "      <th>0</th>\n",
              "      <td>1</td>\n",
              "      <td>33</td>\n",
              "      <td>Private Sector/Self Employed</td>\n",
              "      <td>Yes</td>\n",
              "      <td>550000</td>\n",
              "      <td>6</td>\n",
              "      <td>0</td>\n",
              "      <td>No</td>\n",
              "      <td>No</td>\n",
              "      <td>1</td>\n",
              "    </tr>\n",
              "    <tr>\n",
              "      <th>1</th>\n",
              "      <td>2</td>\n",
              "      <td>28</td>\n",
              "      <td>Private Sector/Self Employed</td>\n",
              "      <td>Yes</td>\n",
              "      <td>800000</td>\n",
              "      <td>7</td>\n",
              "      <td>0</td>\n",
              "      <td>Yes</td>\n",
              "      <td>No</td>\n",
              "      <td>0</td>\n",
              "    </tr>\n",
              "    <tr>\n",
              "      <th>2</th>\n",
              "      <td>3</td>\n",
              "      <td>31</td>\n",
              "      <td>Private Sector/Self Employed</td>\n",
              "      <td>Yes</td>\n",
              "      <td>1250000</td>\n",
              "      <td>4</td>\n",
              "      <td>0</td>\n",
              "      <td>No</td>\n",
              "      <td>No</td>\n",
              "      <td>0</td>\n",
              "    </tr>\n",
              "    <tr>\n",
              "      <th>3</th>\n",
              "      <td>4</td>\n",
              "      <td>31</td>\n",
              "      <td>Government Sector</td>\n",
              "      <td>No</td>\n",
              "      <td>300000</td>\n",
              "      <td>7</td>\n",
              "      <td>0</td>\n",
              "      <td>No</td>\n",
              "      <td>No</td>\n",
              "      <td>0</td>\n",
              "    </tr>\n",
              "    <tr>\n",
              "      <th>4</th>\n",
              "      <td>5</td>\n",
              "      <td>28</td>\n",
              "      <td>Private Sector/Self Employed</td>\n",
              "      <td>Yes</td>\n",
              "      <td>1250000</td>\n",
              "      <td>3</td>\n",
              "      <td>0</td>\n",
              "      <td>No</td>\n",
              "      <td>No</td>\n",
              "      <td>0</td>\n",
              "    </tr>\n",
              "  </tbody>\n",
              "</table>\n",
              "</div>"
            ],
            "text/plain": [
              "   Customer  Age  ... EverTravelledAbroad TravelInsurance\n",
              "0         1   33  ...                  No               1\n",
              "1         2   28  ...                  No               0\n",
              "2         3   31  ...                  No               0\n",
              "3         4   31  ...                  No               0\n",
              "4         5   28  ...                  No               0\n",
              "\n",
              "[5 rows x 10 columns]"
            ]
          },
          "metadata": {},
          "execution_count": 3
        }
      ]
    },
    {
      "cell_type": "code",
      "metadata": {
        "colab": {
          "base_uri": "https://localhost:8080/"
        },
        "id": "o9rSKDO0VPCL",
        "outputId": "a95fcef1-e3d4-41f9-e84b-31c9a3844397"
      },
      "source": [
        "test_df.head()"
      ],
      "execution_count": null,
      "outputs": [
        {
          "output_type": "execute_result",
          "data": {
            "text/html": [
              "<div>\n",
              "<style scoped>\n",
              "    .dataframe tbody tr th:only-of-type {\n",
              "        vertical-align: middle;\n",
              "    }\n",
              "\n",
              "    .dataframe tbody tr th {\n",
              "        vertical-align: top;\n",
              "    }\n",
              "\n",
              "    .dataframe thead th {\n",
              "        text-align: right;\n",
              "    }\n",
              "</style>\n",
              "<table border=\"1\" class=\"dataframe\">\n",
              "  <thead>\n",
              "    <tr style=\"text-align: right;\">\n",
              "      <th></th>\n",
              "      <th>Customer</th>\n",
              "      <th>Age</th>\n",
              "      <th>Employment Type</th>\n",
              "      <th>GraduateOrNot</th>\n",
              "      <th>AnnualIncome</th>\n",
              "      <th>FamilyMembers</th>\n",
              "      <th>ChronicDiseases</th>\n",
              "      <th>FrequentFlyer</th>\n",
              "      <th>EverTravelledAbroad</th>\n",
              "    </tr>\n",
              "  </thead>\n",
              "  <tbody>\n",
              "    <tr>\n",
              "      <th>0</th>\n",
              "      <td>1491</td>\n",
              "      <td>29</td>\n",
              "      <td>Private Sector/Self Employed</td>\n",
              "      <td>Yes</td>\n",
              "      <td>1100000</td>\n",
              "      <td>4</td>\n",
              "      <td>0</td>\n",
              "      <td>No</td>\n",
              "      <td>No</td>\n",
              "    </tr>\n",
              "    <tr>\n",
              "      <th>1</th>\n",
              "      <td>1492</td>\n",
              "      <td>28</td>\n",
              "      <td>Private Sector/Self Employed</td>\n",
              "      <td>Yes</td>\n",
              "      <td>750000</td>\n",
              "      <td>5</td>\n",
              "      <td>1</td>\n",
              "      <td>Yes</td>\n",
              "      <td>No</td>\n",
              "    </tr>\n",
              "    <tr>\n",
              "      <th>2</th>\n",
              "      <td>1493</td>\n",
              "      <td>31</td>\n",
              "      <td>Government Sector</td>\n",
              "      <td>Yes</td>\n",
              "      <td>1500000</td>\n",
              "      <td>4</td>\n",
              "      <td>0</td>\n",
              "      <td>Yes</td>\n",
              "      <td>Yes</td>\n",
              "    </tr>\n",
              "    <tr>\n",
              "      <th>3</th>\n",
              "      <td>1494</td>\n",
              "      <td>28</td>\n",
              "      <td>Private Sector/Self Employed</td>\n",
              "      <td>Yes</td>\n",
              "      <td>1400000</td>\n",
              "      <td>3</td>\n",
              "      <td>0</td>\n",
              "      <td>No</td>\n",
              "      <td>Yes</td>\n",
              "    </tr>\n",
              "    <tr>\n",
              "      <th>4</th>\n",
              "      <td>1495</td>\n",
              "      <td>33</td>\n",
              "      <td>Private Sector/Self Employed</td>\n",
              "      <td>Yes</td>\n",
              "      <td>1500000</td>\n",
              "      <td>4</td>\n",
              "      <td>0</td>\n",
              "      <td>Yes</td>\n",
              "      <td>Yes</td>\n",
              "    </tr>\n",
              "  </tbody>\n",
              "</table>\n",
              "</div>"
            ],
            "text/plain": [
              "   Customer  Age  ... FrequentFlyer EverTravelledAbroad\n",
              "0      1491   29  ...            No                  No\n",
              "1      1492   28  ...           Yes                  No\n",
              "2      1493   31  ...           Yes                 Yes\n",
              "3      1494   28  ...            No                 Yes\n",
              "4      1495   33  ...           Yes                 Yes\n",
              "\n",
              "[5 rows x 9 columns]"
            ]
          },
          "metadata": {},
          "execution_count": 4
        }
      ]
    },
    {
      "cell_type": "markdown",
      "metadata": {
        "id": "BgQoH88nanhr"
      },
      "source": [
        "**TravelInsurance** es la columna que debemos predecir. Es decir, dada la informacion de cada cliente, debemos decidir si el mismo contratará un seguro de viaje la proxima vez que decida viajar. Dicha columna no se encuentra en los datos de test."
      ]
    },
    {
      "cell_type": "code",
      "metadata": {
        "colab": {
          "base_uri": "https://localhost:8080/"
        },
        "id": "ejlXVCHJanhs",
        "outputId": "308796c3-7c37-44e2-a136-669d4d98323c"
      },
      "source": [
        "train_df.info()"
      ],
      "execution_count": null,
      "outputs": [
        {
          "output_type": "stream",
          "name": "stdout",
          "text": [
            "<class 'pandas.core.frame.DataFrame'>\n",
            "RangeIndex: 1490 entries, 0 to 1489\n",
            "Data columns (total 10 columns):\n",
            " #   Column               Non-Null Count  Dtype \n",
            "---  ------               --------------  ----- \n",
            " 0   Customer             1490 non-null   int64 \n",
            " 1   Age                  1490 non-null   int64 \n",
            " 2   Employment Type      1490 non-null   object\n",
            " 3   GraduateOrNot        1490 non-null   object\n",
            " 4   AnnualIncome         1490 non-null   int64 \n",
            " 5   FamilyMembers        1490 non-null   int64 \n",
            " 6   ChronicDiseases      1490 non-null   int64 \n",
            " 7   FrequentFlyer        1490 non-null   object\n",
            " 8   EverTravelledAbroad  1490 non-null   object\n",
            " 9   TravelInsurance      1490 non-null   int64 \n",
            "dtypes: int64(6), object(4)\n",
            "memory usage: 116.5+ KB\n"
          ]
        }
      ]
    },
    {
      "cell_type": "code",
      "metadata": {
        "colab": {
          "base_uri": "https://localhost:8080/"
        },
        "id": "waUJ-VKXanhs",
        "outputId": "11603462-b00e-4481-de1b-82825fe26c18"
      },
      "source": [
        "test_df.info()"
      ],
      "execution_count": null,
      "outputs": [
        {
          "output_type": "stream",
          "name": "stdout",
          "text": [
            "<class 'pandas.core.frame.DataFrame'>\n",
            "RangeIndex: 497 entries, 0 to 496\n",
            "Data columns (total 9 columns):\n",
            " #   Column               Non-Null Count  Dtype \n",
            "---  ------               --------------  ----- \n",
            " 0   Customer             497 non-null    int64 \n",
            " 1   Age                  497 non-null    int64 \n",
            " 2   Employment Type      497 non-null    object\n",
            " 3   GraduateOrNot        497 non-null    object\n",
            " 4   AnnualIncome         497 non-null    int64 \n",
            " 5   FamilyMembers        497 non-null    int64 \n",
            " 6   ChronicDiseases      497 non-null    int64 \n",
            " 7   FrequentFlyer        497 non-null    object\n",
            " 8   EverTravelledAbroad  497 non-null    object\n",
            "dtypes: int64(5), object(4)\n",
            "memory usage: 35.1+ KB\n"
          ]
        }
      ]
    },
    {
      "cell_type": "code",
      "metadata": {
        "colab": {
          "base_uri": "https://localhost:8080/"
        },
        "id": "8Lgs9QLduU-z",
        "outputId": "08929cd9-aec9-402b-f661-7a1d4b5cf156"
      },
      "source": [
        "train_df.isna().sum()"
      ],
      "execution_count": null,
      "outputs": [
        {
          "output_type": "execute_result",
          "data": {
            "text/plain": [
              "Customer               0\n",
              "Age                    0\n",
              "Employment Type        0\n",
              "GraduateOrNot          0\n",
              "AnnualIncome           0\n",
              "FamilyMembers          0\n",
              "ChronicDiseases        0\n",
              "FrequentFlyer          0\n",
              "EverTravelledAbroad    0\n",
              "TravelInsurance        0\n",
              "dtype: int64"
            ]
          },
          "metadata": {},
          "execution_count": 7
        }
      ]
    },
    {
      "cell_type": "code",
      "metadata": {
        "colab": {
          "base_uri": "https://localhost:8080/"
        },
        "id": "mdIVUsFDanht",
        "outputId": "3199ffde-e209-4054-dd29-213da68f5f23"
      },
      "source": [
        "train_df.describe()"
      ],
      "execution_count": null,
      "outputs": [
        {
          "output_type": "execute_result",
          "data": {
            "text/html": [
              "<div>\n",
              "<style scoped>\n",
              "    .dataframe tbody tr th:only-of-type {\n",
              "        vertical-align: middle;\n",
              "    }\n",
              "\n",
              "    .dataframe tbody tr th {\n",
              "        vertical-align: top;\n",
              "    }\n",
              "\n",
              "    .dataframe thead th {\n",
              "        text-align: right;\n",
              "    }\n",
              "</style>\n",
              "<table border=\"1\" class=\"dataframe\">\n",
              "  <thead>\n",
              "    <tr style=\"text-align: right;\">\n",
              "      <th></th>\n",
              "      <th>Customer</th>\n",
              "      <th>Age</th>\n",
              "      <th>AnnualIncome</th>\n",
              "      <th>FamilyMembers</th>\n",
              "      <th>ChronicDiseases</th>\n",
              "      <th>TravelInsurance</th>\n",
              "    </tr>\n",
              "  </thead>\n",
              "  <tbody>\n",
              "    <tr>\n",
              "      <th>count</th>\n",
              "      <td>1490.000000</td>\n",
              "      <td>1490.000000</td>\n",
              "      <td>1.490000e+03</td>\n",
              "      <td>1490.000000</td>\n",
              "      <td>1490.000000</td>\n",
              "      <td>1490.000000</td>\n",
              "    </tr>\n",
              "    <tr>\n",
              "      <th>mean</th>\n",
              "      <td>745.500000</td>\n",
              "      <td>29.667114</td>\n",
              "      <td>9.278188e+05</td>\n",
              "      <td>4.777181</td>\n",
              "      <td>0.275839</td>\n",
              "      <td>0.357047</td>\n",
              "    </tr>\n",
              "    <tr>\n",
              "      <th>std</th>\n",
              "      <td>430.270264</td>\n",
              "      <td>2.880994</td>\n",
              "      <td>3.811715e+05</td>\n",
              "      <td>1.640248</td>\n",
              "      <td>0.447086</td>\n",
              "      <td>0.479290</td>\n",
              "    </tr>\n",
              "    <tr>\n",
              "      <th>min</th>\n",
              "      <td>1.000000</td>\n",
              "      <td>25.000000</td>\n",
              "      <td>3.000000e+05</td>\n",
              "      <td>2.000000</td>\n",
              "      <td>0.000000</td>\n",
              "      <td>0.000000</td>\n",
              "    </tr>\n",
              "    <tr>\n",
              "      <th>25%</th>\n",
              "      <td>373.250000</td>\n",
              "      <td>28.000000</td>\n",
              "      <td>6.000000e+05</td>\n",
              "      <td>4.000000</td>\n",
              "      <td>0.000000</td>\n",
              "      <td>0.000000</td>\n",
              "    </tr>\n",
              "    <tr>\n",
              "      <th>50%</th>\n",
              "      <td>745.500000</td>\n",
              "      <td>29.000000</td>\n",
              "      <td>9.000000e+05</td>\n",
              "      <td>5.000000</td>\n",
              "      <td>0.000000</td>\n",
              "      <td>0.000000</td>\n",
              "    </tr>\n",
              "    <tr>\n",
              "      <th>75%</th>\n",
              "      <td>1117.750000</td>\n",
              "      <td>32.000000</td>\n",
              "      <td>1.250000e+06</td>\n",
              "      <td>6.000000</td>\n",
              "      <td>1.000000</td>\n",
              "      <td>1.000000</td>\n",
              "    </tr>\n",
              "    <tr>\n",
              "      <th>max</th>\n",
              "      <td>1490.000000</td>\n",
              "      <td>35.000000</td>\n",
              "      <td>1.800000e+06</td>\n",
              "      <td>9.000000</td>\n",
              "      <td>1.000000</td>\n",
              "      <td>1.000000</td>\n",
              "    </tr>\n",
              "  </tbody>\n",
              "</table>\n",
              "</div>"
            ],
            "text/plain": [
              "          Customer          Age  ...  ChronicDiseases  TravelInsurance\n",
              "count  1490.000000  1490.000000  ...      1490.000000      1490.000000\n",
              "mean    745.500000    29.667114  ...         0.275839         0.357047\n",
              "std     430.270264     2.880994  ...         0.447086         0.479290\n",
              "min       1.000000    25.000000  ...         0.000000         0.000000\n",
              "25%     373.250000    28.000000  ...         0.000000         0.000000\n",
              "50%     745.500000    29.000000  ...         0.000000         0.000000\n",
              "75%    1117.750000    32.000000  ...         1.000000         1.000000\n",
              "max    1490.000000    35.000000  ...         1.000000         1.000000\n",
              "\n",
              "[8 rows x 6 columns]"
            ]
          },
          "metadata": {},
          "execution_count": 8
        }
      ]
    },
    {
      "cell_type": "markdown",
      "metadata": {
        "id": "AaPSQRBK0cEC"
      },
      "source": [
        "### Analisis de las distintas columnas\n",
        "\n"
      ]
    },
    {
      "cell_type": "code",
      "metadata": {
        "colab": {
          "base_uri": "https://localhost:8080/"
        },
        "id": "C2j5EDqWddJT",
        "outputId": "300e41bf-5891-44a4-8f1e-8fe0c5929e3c"
      },
      "source": [
        "# Ingresos mensuales\n",
        "import seaborn as sn\n",
        "sn.histplot(train_df.AnnualIncome/12/74.36) #74.36 Cambio de rupias indias a USD. \n",
        "plt.xlabel('Ingresos Mensuales (USD)')"
      ],
      "execution_count": null,
      "outputs": [
        {
          "output_type": "execute_result",
          "data": {
            "text/plain": [
              "Text(0.5, 0, 'Ingresos Mensuales (USD)')"
            ]
          },
          "metadata": {},
          "execution_count": 9
        },
        {
          "output_type": "display_data",
          "data": {
            "image/png": "[encoded data removed]",
            "text/plain": [
              "<Figure size 432x288 with 1 Axes>"
            ]
          },
          "metadata": {
            "needs_background": "light"
          }
        }
      ]
    },
    {
      "cell_type": "markdown",
      "metadata": {
        "id": "v28wEcuh0i7D"
      },
      "source": [
        "Se observa una distribucion variable de entre 250 y 2000 USD de ingresos mensuales. "
      ]
    },
    {
      "cell_type": "code",
      "metadata": {
        "colab": {
          "base_uri": "https://localhost:8080/"
        },
        "id": "_nWGPgyIeyO3",
        "outputId": "ce60c17e-97d1-4592-efd4-32d19b9c6f0b"
      },
      "source": [
        "#Miembros del grupo familiar\n",
        "import seaborn as sn\n",
        "\n",
        "sn.histplot(train_df.FamilyMembers) \n",
        "plt.xlabel('Miembros del Grupo Familiar')"
      ],
      "execution_count": null,
      "outputs": [
        {
          "output_type": "execute_result",
          "data": {
            "text/plain": [
              "Text(0.5, 0, 'Miembros del Grupo Familiar')"
            ]
          },
          "metadata": {},
          "execution_count": 10
        },
        {
          "output_type": "display_data",
          "data": {
            "image/png": "[encoded data removed]",
            "text/plain": [
              "<Figure size 432x288 with 1 Axes>"
            ]
          },
          "metadata": {
            "needs_background": "light"
          }
        }
      ]
    },
    {
      "cell_type": "markdown",
      "metadata": {
        "id": "DYQHgeYW0y50"
      },
      "source": [
        "Se observa que la mayoria de los clientes tiene familia con entre 1 y 5 hijo/as. "
      ]
    },
    {
      "cell_type": "code",
      "metadata": {
        "colab": {
          "base_uri": "https://localhost:8080/"
        },
        "id": "015bmLfufFEd",
        "outputId": "5bbf7f53-e565-41be-c568-7c2d641ebf79"
      },
      "source": [
        "#Porcentaje de clientes con enfermedades cronicas. \n",
        "\n",
        "train_df['ChronicDiseases'].value_counts()/len(train_df['ChronicDiseases'])*100"
      ],
      "execution_count": null,
      "outputs": [
        {
          "output_type": "execute_result",
          "data": {
            "text/plain": [
              "0    72.416107\n",
              "1    27.583893\n",
              "Name: ChronicDiseases, dtype: float64"
            ]
          },
          "metadata": {},
          "execution_count": 11
        }
      ]
    },
    {
      "cell_type": "markdown",
      "metadata": {
        "id": "FgwYpmIa076O"
      },
      "source": [
        "Solo un 27.6% de los clientes presentan enfermedades cronicas. "
      ]
    },
    {
      "cell_type": "code",
      "metadata": {
        "colab": {
          "base_uri": "https://localhost:8080/"
        },
        "id": "5g2RVLJAjLwg",
        "outputId": "54541f75-ae9b-4aa5-aa55-8cfd9e8ad89c"
      },
      "source": [
        "#Porcentaje de clientes que contrataron seguros de viaje con anterioridad. \n",
        "\n",
        "train_df['TravelInsurance'].value_counts()/len(train_df['TravelInsurance'])*100"
      ],
      "execution_count": null,
      "outputs": [
        {
          "output_type": "execute_result",
          "data": {
            "text/plain": [
              "0    64.295302\n",
              "1    35.704698\n",
              "Name: TravelInsurance, dtype: float64"
            ]
          },
          "metadata": {},
          "execution_count": 12
        }
      ]
    },
    {
      "cell_type": "markdown",
      "metadata": {
        "id": "kw79bifc1GvX"
      },
      "source": [
        "Acá se observa que un 36% de los clientes han contratado seguros de viaje con anterioridad. "
      ]
    },
    {
      "cell_type": "markdown",
      "metadata": {
        "id": "LyR2PpFadPWo"
      },
      "source": [
        "De la descripcion del dataset de entrenamiento, vemos que tenemos clientes entre 25 y 35 años, cuyos ingresos mensuales oscilan entre 400 y 2000 USD. La mayoria de los grupos familiares tienen entre 3 y 5 miembros. \n",
        "Un 28% de les clientes tienen enfermedades crónicas. Y solo un 36% contrató seguro de viaje con anterioridad. \n",
        "\n",
        "Analicemos ahora cuantos de estos clientes viajaron y si los que SI viajaron, contrataron seguro. \n",
        "\n",
        "Veamos tmb si los que viajaron y contrataron seguro son personas con enfermedades cronicas. Se esperaria que al menos estas personas si contraten seguro. "
      ]
    },
    {
      "cell_type": "code",
      "metadata": {
        "colab": {
          "base_uri": "https://localhost:8080/"
        },
        "id": "90OpT693qPGD",
        "outputId": "5f07521d-4b90-472a-8e21-1be261b281e6"
      },
      "source": [
        "train_df.EverTravelledAbroad\n",
        "\n",
        "train_df['EverTravelledAbroad'].value_counts()/len(train_df['EverTravelledAbroad'])*100"
      ],
      "execution_count": null,
      "outputs": [
        {
          "output_type": "execute_result",
          "data": {
            "text/plain": [
              "No     80.671141\n",
              "Yes    19.328859\n",
              "Name: EverTravelledAbroad, dtype: float64"
            ]
          },
          "metadata": {},
          "execution_count": 13
        }
      ]
    },
    {
      "cell_type": "markdown",
      "metadata": {
        "id": "urUvFgGKqsOH"
      },
      "source": [
        "Tenemos un 81% de clientes que nunca viajaron. Veamos si el 19% restante cataloga como viajero frecuente. "
      ]
    },
    {
      "cell_type": "code",
      "metadata": {
        "colab": {
          "base_uri": "https://localhost:8080/"
        },
        "id": "Mg3A_7YrqzX3",
        "outputId": "a48ac14e-366f-45d2-b6c4-d522e0000ecd"
      },
      "source": [
        "train_df.EverTravelledAbroad\n",
        "\n",
        "train_df['FrequentFlyer'].value_counts()/len(train_df['FrequentFlyer'])*100\n"
      ],
      "execution_count": null,
      "outputs": [
        {
          "output_type": "execute_result",
          "data": {
            "text/plain": [
              "No     78.724832\n",
              "Yes    21.275168\n",
              "Name: FrequentFlyer, dtype: float64"
            ]
          },
          "metadata": {},
          "execution_count": 14
        }
      ]
    },
    {
      "cell_type": "code",
      "metadata": {
        "id": "IYqatXGc4OSG"
      },
      "source": [
        ""
      ],
      "execution_count": null,
      "outputs": []
    },
    {
      "cell_type": "markdown",
      "metadata": {
        "id": "QA94bdKJrFLi"
      },
      "source": [
        "Lo curioso es que tenemos 21% de viajeros frecuentes. Gente que incluso no viajó nunca (al exterior) se considera viajero frecuente. Los seguros de viaje en general protegen en el exterior, se supone que dentro del propio pais, uno/a se encuentra protegido/a. Dado que los valores de los sueldos anuales están en rupias indias, podemos suponer que el país del cual son originarios los clientes es la India. Parece ser que allí la salud publica no es muy accesible. Si pensamos en Argentina, no es habitual que las personas que viajan dentro del país, contraten seguro de viajes. Pero en la India, podría ser que fuera necesario, por ende, vamos a considerar tmb está avriable a la hora de predecir si un cliente contratará seguro de viaje o no. "
      ]
    },
    {
      "cell_type": "code",
      "metadata": {
        "colab": {
          "base_uri": "https://localhost:8080/"
        },
        "id": "XMFhJ_Ivrt4u",
        "outputId": "f7416998-e5e3-4e77-828e-d577ac32ac90"
      },
      "source": [
        "train_df[(train_df['FrequentFlyer']=='Yes') & (train_df['EverTravelledAbroad']=='Yes')].value_counts()"
      ],
      "execution_count": null,
      "outputs": [
        {
          "output_type": "execute_result",
          "data": {
            "text/plain": [
              "Customer  Age  Employment Type               GraduateOrNot  AnnualIncome  FamilyMembers  ChronicDiseases  FrequentFlyer  EverTravelledAbroad  TravelInsurance\n",
              "1482      31   Government Sector             Yes            1500000       7              0                Yes            Yes                  1                  1\n",
              "757       34   Private Sector/Self Employed  Yes            1500000       4              1                Yes            Yes                  1                  1\n",
              "393       28   Private Sector/Self Employed  Yes            1450000       6              0                Yes            Yes                  1                  1\n",
              "399       30   Private Sector/Self Employed  No             1450000       9              0                Yes            Yes                  1                  1\n",
              "404       34   Private Sector/Self Employed  No             1400000       3              0                Yes            Yes                  1                  1\n",
              "                                                                                                                                                                ..\n",
              "1002      31   Government Sector             Yes            1500000       7              0                Yes            Yes                  0                  1\n",
              "1003      34   Private Sector/Self Employed  Yes            1500000       5              1                Yes            Yes                  1                  1\n",
              "1008      34   Private Sector/Self Employed  Yes            1500000       3              0                Yes            Yes                  1                  1\n",
              "1020      34   Private Sector/Self Employed  Yes            1500000       4              1                Yes            Yes                  1                  1\n",
              "6         25   Private Sector/Self Employed  No             1350000       3              1                Yes            Yes                  0                  1\n",
              "Length: 129, dtype: int64"
            ]
          },
          "metadata": {},
          "execution_count": 15
        }
      ]
    },
    {
      "cell_type": "markdown",
      "metadata": {
        "id": "0dbqSbvCsSny"
      },
      "source": [
        "De hecho, solo 129 clientes (de los 317 que se consideran viajeros frecuentes), el 40% de los viajeros frecuentes, viajó al exterior.   "
      ]
    },
    {
      "cell_type": "code",
      "metadata": {
        "colab": {
          "base_uri": "https://localhost:8080/"
        },
        "id": "OsNI_PNLs72q",
        "outputId": "599833f4-3e2b-4e1c-e819-f26c3b8ee4d1"
      },
      "source": [
        "train_df[ (train_df['TravelInsurance']==1) & (train_df['EverTravelledAbroad']=='Yes')].value_counts() # "
      ],
      "execution_count": null,
      "outputs": [
        {
          "output_type": "execute_result",
          "data": {
            "text/plain": [
              "Customer  Age  Employment Type               GraduateOrNot  AnnualIncome  FamilyMembers  ChronicDiseases  FrequentFlyer  EverTravelledAbroad  TravelInsurance\n",
              "1482      31   Government Sector             Yes            1500000       7              0                Yes            Yes                  1                  1\n",
              "384       33   Private Sector/Self Employed  Yes            1400000       3              0                No             Yes                  1                  1\n",
              "519       26   Private Sector/Self Employed  Yes            1400000       4              0                No             Yes                  1                  1\n",
              "509       31   Private Sector/Self Employed  Yes            1400000       4              1                No             Yes                  1                  1\n",
              "508       26   Private Sector/Self Employed  Yes            1500000       2              1                Yes            Yes                  1                  1\n",
              "                                                                                                                                                                ..\n",
              "932       26   Private Sector/Self Employed  Yes            1400000       9              1                No             Yes                  1                  1\n",
              "927       26   Private Sector/Self Employed  Yes            1500000       5              0                Yes            Yes                  1                  1\n",
              "911       34   Private Sector/Self Employed  Yes            1500000       5              0                Yes            Yes                  1                  1\n",
              "901       31   Private Sector/Self Employed  Yes            1400000       2              0                No             Yes                  1                  1\n",
              "18        26   Government Sector             Yes            1450000       5              0                Yes            Yes                  1                  1\n",
              "Length: 226, dtype: int64"
            ]
          },
          "metadata": {},
          "execution_count": 16
        }
      ]
    },
    {
      "cell_type": "markdown",
      "metadata": {
        "id": "49AkX6oYtGLy"
      },
      "source": [
        "288 son los clientes que han viajado al exterior. De esos 288, 226 (78%) contrataron seguro. O sea que hay altas probabilidades de contratar seguro si se viaja al exterior. "
      ]
    },
    {
      "cell_type": "code",
      "metadata": {
        "colab": {
          "base_uri": "https://localhost:8080/"
        },
        "id": "TIRWfwhetgxR",
        "outputId": "5ed49758-e7b3-47d8-f919-fe80601a2c42"
      },
      "source": [
        "train_df[ (train_df['ChronicDiseases']==1) & (train_df['EverTravelledAbroad']=='Yes') ].value_counts() # "
      ],
      "execution_count": null,
      "outputs": [
        {
          "output_type": "execute_result",
          "data": {
            "text/plain": [
              "Customer  Age  Employment Type               GraduateOrNot  AnnualIncome  FamilyMembers  ChronicDiseases  FrequentFlyer  EverTravelledAbroad  TravelInsurance\n",
              "1469      33   Private Sector/Self Employed  Yes            1400000       6              1                No             Yes                  1                  1\n",
              "526       26   Private Sector/Self Employed  Yes            1250000       4              1                No             Yes                  0                  1\n",
              "449       31   Private Sector/Self Employed  Yes            1400000       4              1                No             Yes                  0                  1\n",
              "462       31   Private Sector/Self Employed  Yes            1350000       3              1                Yes            Yes                  1                  1\n",
              "479       33   Private Sector/Self Employed  Yes            1500000       5              1                Yes            Yes                  1                  1\n",
              "                                                                                                                                                                ..\n",
              "938       28   Private Sector/Self Employed  Yes            1200000       4              1                No             Yes                  0                  1\n",
              "943       25   Private Sector/Self Employed  No             1150000       3              1                No             Yes                  0                  1\n",
              "946       34   Government Sector             Yes            1300000       7              1                No             Yes                  1                  1\n",
              "970       33   Private Sector/Self Employed  Yes            1400000       5              1                Yes            Yes                  1                  1\n",
              "6         25   Private Sector/Self Employed  No             1350000       3              1                Yes            Yes                  0                  1\n",
              "Length: 86, dtype: int64"
            ]
          },
          "metadata": {},
          "execution_count": 17
        }
      ]
    },
    {
      "cell_type": "markdown",
      "metadata": {
        "id": "FV-JgY3ctzN2"
      },
      "source": [
        "Finalmente, vemos que 86 personas con enfermades cronicas viajaron al exterior."
      ]
    },
    {
      "cell_type": "code",
      "metadata": {
        "colab": {
          "base_uri": "https://localhost:8080/"
        },
        "id": "ilXmvV5Bt689",
        "outputId": "79d2c4ad-7e34-4c01-fe3a-9dc561db716a"
      },
      "source": [
        "train_df[ (train_df['ChronicDiseases']==1) & (train_df['EverTravelledAbroad']=='Yes') & (train_df['TravelInsurance']==1) ].value_counts() # "
      ],
      "execution_count": null,
      "outputs": [
        {
          "output_type": "execute_result",
          "data": {
            "text/plain": [
              "Customer  Age  Employment Type               GraduateOrNot  AnnualIncome  FamilyMembers  ChronicDiseases  FrequentFlyer  EverTravelledAbroad  TravelInsurance\n",
              "1469      33   Private Sector/Self Employed  Yes            1400000       6              1                No             Yes                  1                  1\n",
              "336       35   Private Sector/Self Employed  No             800000        6              1                No             Yes                  1                  1\n",
              "645       25   Private Sector/Self Employed  No             1350000       5              1                No             Yes                  1                  1\n",
              "605       26   Private Sector/Self Employed  Yes            1400000       4              1                No             Yes                  1                  1\n",
              "604       32   Government Sector             Yes            350000        3              1                No             Yes                  1                  1\n",
              "                                                                                                                                                                ..\n",
              "824       27   Government Sector             Yes            850000        4              1                Yes            Yes                  1                  1\n",
              "793       31   Private Sector/Self Employed  Yes            1400000       3              1                No             Yes                  1                  1\n",
              "790       29   Private Sector/Self Employed  Yes            1100000       4              1                No             Yes                  1                  1\n",
              "771       30   Private Sector/Self Employed  No             1450000       4              1                Yes            Yes                  1                  1\n",
              "47        26   Private Sector/Self Employed  Yes            1500000       5              1                Yes            Yes                  1                  1\n",
              "Length: 63, dtype: int64"
            ]
          },
          "metadata": {},
          "execution_count": 18
        }
      ]
    },
    {
      "cell_type": "markdown",
      "metadata": {
        "id": "mYlyC5hOuDoa"
      },
      "source": [
        "De esas 86 personas, 63 (un 73%) contrataron seguro. "
      ]
    },
    {
      "cell_type": "code",
      "metadata": {
        "colab": {
          "base_uri": "https://localhost:8080/"
        },
        "id": "ZXXZTH7Canht",
        "outputId": "6bea6306-ae0f-4df8-b0e3-2b229b1c0d15"
      },
      "source": [
        "test_df.describe()"
      ],
      "execution_count": null,
      "outputs": [
        {
          "output_type": "execute_result",
          "data": {
            "text/html": [
              "<div>\n",
              "<style scoped>\n",
              "    .dataframe tbody tr th:only-of-type {\n",
              "        vertical-align: middle;\n",
              "    }\n",
              "\n",
              "    .dataframe tbody tr th {\n",
              "        vertical-align: top;\n",
              "    }\n",
              "\n",
              "    .dataframe thead th {\n",
              "        text-align: right;\n",
              "    }\n",
              "</style>\n",
              "<table border=\"1\" class=\"dataframe\">\n",
              "  <thead>\n",
              "    <tr style=\"text-align: right;\">\n",
              "      <th></th>\n",
              "      <th>Customer</th>\n",
              "      <th>Age</th>\n",
              "      <th>AnnualIncome</th>\n",
              "      <th>FamilyMembers</th>\n",
              "      <th>ChronicDiseases</th>\n",
              "    </tr>\n",
              "  </thead>\n",
              "  <tbody>\n",
              "    <tr>\n",
              "      <th>count</th>\n",
              "      <td>497.000000</td>\n",
              "      <td>497.000000</td>\n",
              "      <td>4.970000e+02</td>\n",
              "      <td>497.00000</td>\n",
              "      <td>497.000000</td>\n",
              "    </tr>\n",
              "    <tr>\n",
              "      <th>mean</th>\n",
              "      <td>1739.000000</td>\n",
              "      <td>29.599598</td>\n",
              "      <td>9.475855e+05</td>\n",
              "      <td>4.68008</td>\n",
              "      <td>0.283702</td>\n",
              "    </tr>\n",
              "    <tr>\n",
              "      <th>std</th>\n",
              "      <td>143.615807</td>\n",
              "      <td>3.010506</td>\n",
              "      <td>3.635818e+05</td>\n",
              "      <td>1.51347</td>\n",
              "      <td>0.451248</td>\n",
              "    </tr>\n",
              "    <tr>\n",
              "      <th>min</th>\n",
              "      <td>1491.000000</td>\n",
              "      <td>25.000000</td>\n",
              "      <td>3.000000e+05</td>\n",
              "      <td>2.00000</td>\n",
              "      <td>0.000000</td>\n",
              "    </tr>\n",
              "    <tr>\n",
              "      <th>25%</th>\n",
              "      <td>1615.000000</td>\n",
              "      <td>28.000000</td>\n",
              "      <td>6.500000e+05</td>\n",
              "      <td>4.00000</td>\n",
              "      <td>0.000000</td>\n",
              "    </tr>\n",
              "    <tr>\n",
              "      <th>50%</th>\n",
              "      <td>1739.000000</td>\n",
              "      <td>29.000000</td>\n",
              "      <td>9.500000e+05</td>\n",
              "      <td>4.00000</td>\n",
              "      <td>0.000000</td>\n",
              "    </tr>\n",
              "    <tr>\n",
              "      <th>75%</th>\n",
              "      <td>1863.000000</td>\n",
              "      <td>32.000000</td>\n",
              "      <td>1.250000e+06</td>\n",
              "      <td>6.00000</td>\n",
              "      <td>1.000000</td>\n",
              "    </tr>\n",
              "    <tr>\n",
              "      <th>max</th>\n",
              "      <td>1987.000000</td>\n",
              "      <td>35.000000</td>\n",
              "      <td>1.750000e+06</td>\n",
              "      <td>9.00000</td>\n",
              "      <td>1.000000</td>\n",
              "    </tr>\n",
              "  </tbody>\n",
              "</table>\n",
              "</div>"
            ],
            "text/plain": [
              "          Customer         Age  AnnualIncome  FamilyMembers  ChronicDiseases\n",
              "count   497.000000  497.000000  4.970000e+02      497.00000       497.000000\n",
              "mean   1739.000000   29.599598  9.475855e+05        4.68008         0.283702\n",
              "std     143.615807    3.010506  3.635818e+05        1.51347         0.451248\n",
              "min    1491.000000   25.000000  3.000000e+05        2.00000         0.000000\n",
              "25%    1615.000000   28.000000  6.500000e+05        4.00000         0.000000\n",
              "50%    1739.000000   29.000000  9.500000e+05        4.00000         0.000000\n",
              "75%    1863.000000   32.000000  1.250000e+06        6.00000         1.000000\n",
              "max    1987.000000   35.000000  1.750000e+06        9.00000         1.000000"
            ]
          },
          "metadata": {},
          "execution_count": 19
        }
      ]
    },
    {
      "cell_type": "markdown",
      "metadata": {
        "id": "jqqW-_LB4v8n"
      },
      "source": [
        "Con todo esto en mente, proponemos los siguientes modelos."
      ]
    },
    {
      "cell_type": "markdown",
      "metadata": {
        "id": "MmSR9eqkVPCR"
      },
      "source": [
        "## Distintos Modelos\n",
        "\n",
        "En esta sección presentamos las metricas basadas en diferentes clasificadores.\n"
      ]
    },
    {
      "cell_type": "code",
      "metadata": {
        "id": "vsBYvas6VPCR"
      },
      "source": [
        "from sklearn.compose import make_column_transformer\n",
        "from sklearn.metrics import classification_report\n",
        "from sklearn.model_selection import GridSearchCV\n",
        "from sklearn.preprocessing import KBinsDiscretizer, OneHotEncoder\n",
        "from sklearn.tree import DecisionTreeClassifier"
      ],
      "execution_count": null,
      "outputs": []
    },
    {
      "cell_type": "markdown",
      "metadata": {
        "id": "eV1glSxFVPCR"
      },
      "source": [
        "### Transformamos las columnas en features\n",
        "\n",
        "Primero necesitamos transformar las columnas en features. El tipo de funciones que utilicemos tendrá un impacto directo en el resultado final. Hemos discretizado algunas características numéricas y hemos hecho one-hot encoding de otras. "
      ]
    },
    {
      "cell_type": "code",
      "metadata": {
        "id": "WMlT67_iVPCS"
      },
      "source": [
        "transformer = make_column_transformer(\n",
        "    (KBinsDiscretizer(n_bins=5, encode=\"ordinal\", strategy=\"quantile\"), [\"Age\", \"AnnualIncome\"]),\n",
        "    (OneHotEncoder(categories=\"auto\", dtype=\"int\", handle_unknown=\"ignore\"),\n",
        "     [\"Employment Type\", \"GraduateOrNot\", \"FamilyMembers\", \"FrequentFlyer\", \"EverTravelledAbroad\"]),\n",
        "    remainder=\"passthrough\")\t\t"
      ],
      "execution_count": null,
      "outputs": []
    },
    {
      "cell_type": "markdown",
      "metadata": {
        "id": "O4yyZLsxVPCS"
      },
      "source": [
        "Transformamos los datos de entrenamiento de test. Para evitar el sobreajuste, eliminamos la columna `Cliente`. Tmb eliminamos la columna` TravelInsurance`, ya que es lo que deseamos predecir."
      ]
    },
    {
      "cell_type": "code",
      "metadata": {
        "id": "WQlYLGuoVPCS",
        "colab": {
          "base_uri": "https://localhost:8080/"
        },
        "outputId": "015ca690-3d2f-4b51-8d80-dc94910c56db"
      },
      "source": [
        "# The data for training the model\n",
        "X_train = transformer.fit_transform(train_df.drop(columns=[\"Customer\", \"TravelInsurance\"]))\n",
        "y_train = train_df[\"TravelInsurance\"].values\n",
        "\n",
        "# The test data is only for generating the submission\n",
        "X_test = transformer.transform(test_df.drop(columns=[\"Customer\"]))\n",
        "print(X_test)"
      ],
      "execution_count": null,
      "outputs": [
        {
          "output_type": "stream",
          "name": "stdout",
          "text": [
            "[[2. 3. 0. ... 1. 0. 0.]\n",
            " [2. 1. 0. ... 1. 0. 1.]\n",
            " [3. 4. 1. ... 0. 1. 0.]\n",
            " ...\n",
            " [2. 2. 0. ... 1. 0. 0.]\n",
            " [0. 1. 1. ... 0. 1. 0.]\n",
            " [1. 2. 1. ... 1. 0. 0.]]\n"
          ]
        }
      ]
    },
    {
      "cell_type": "markdown",
      "metadata": {
        "id": "fCnNK3RHVPCS"
      },
      "source": [
        "### Random Forest Classifier"
      ]
    },
    {
      "cell_type": "code",
      "metadata": {
        "id": "ro_dyLWcVPCS"
      },
      "source": [
        "from sklearn import ensemble"
      ],
      "execution_count": null,
      "outputs": []
    },
    {
      "cell_type": "code",
      "metadata": {
        "id": "6JxAzSGmVPCT"
      },
      "source": [
        "clf = ensemble.RandomForestClassifier(n_estimators=100, random_state=3, max_depth=13)\n",
        "clf.fit(X_train, y_train);"
      ],
      "execution_count": null,
      "outputs": []
    },
    {
      "cell_type": "markdown",
      "metadata": {
        "id": "u0bXXsxVVPCT"
      },
      "source": [
        "##### Check Results\n",
        "\n",
        "We can print the results of the best estimator found on the whole training set (we could also set apart a validation set if we find it useful)."
      ]
    },
    {
      "cell_type": "code",
      "metadata": {
        "colab": {
          "base_uri": "https://localhost:8080/"
        },
        "id": "LNzfkKG9VPCT",
        "outputId": "8165b872-b1dc-4958-8595-cf227e8a1917"
      },
      "source": [
        "print(classification_report(y_train, clf.predict(X_train)))"
      ],
      "execution_count": null,
      "outputs": [
        {
          "output_type": "stream",
          "name": "stdout",
          "text": [
            "              precision    recall  f1-score   support\n",
            "\n",
            "           0       0.87      0.97      0.92       958\n",
            "           1       0.93      0.73      0.82       532\n",
            "\n",
            "    accuracy                           0.89      1490\n",
            "   macro avg       0.90      0.85      0.87      1490\n",
            "weighted avg       0.89      0.89      0.88      1490\n",
            "\n"
          ]
        }
      ]
    },
    {
      "cell_type": "markdown",
      "metadata": {
        "id": "ALJWyaBbVPCU"
      },
      "source": [
        "##### Generate the output\n",
        "\n",
        "The last thing we do is generating a file that should be *submitted* on kaggle"
      ]
    },
    {
      "cell_type": "code",
      "metadata": {
        "id": "ajNkdJxEVPCU"
      },
      "source": [
        "test_id = test_df[\"Customer\"]\n",
        "test_pred = clf.predict(X_test)\n",
        "\n",
        "submission = pd.DataFrame(list(zip(test_id, test_pred)), columns=[\"Customer\", \"TravelInsurance\"])\n",
        "submission.to_csv(\"./travel_insurance_submission_RF4_2_prueba.csv\", header=True, index=False)"
      ],
      "execution_count": null,
      "outputs": []
    },
    {
      "cell_type": "code",
      "metadata": {
        "colab": {
          "base_uri": "https://localhost:8080/"
        },
        "id": "_c0HbccPVPCU",
        "outputId": "3f9caef7-bdca-4c6f-9cca-f4c721c30237"
      },
      "source": [
        "submission"
      ],
      "execution_count": null,
      "outputs": [
        {
          "output_type": "execute_result",
          "data": {
            "text/html": [
              "<div>\n",
              "<style scoped>\n",
              "    .dataframe tbody tr th:only-of-type {\n",
              "        vertical-align: middle;\n",
              "    }\n",
              "\n",
              "    .dataframe tbody tr th {\n",
              "        vertical-align: top;\n",
              "    }\n",
              "\n",
              "    .dataframe thead th {\n",
              "        text-align: right;\n",
              "    }\n",
              "</style>\n",
              "<table border=\"1\" class=\"dataframe\">\n",
              "  <thead>\n",
              "    <tr style=\"text-align: right;\">\n",
              "      <th></th>\n",
              "      <th>Customer</th>\n",
              "      <th>TravelInsurance</th>\n",
              "    </tr>\n",
              "  </thead>\n",
              "  <tbody>\n",
              "    <tr>\n",
              "      <th>0</th>\n",
              "      <td>1491</td>\n",
              "      <td>0</td>\n",
              "    </tr>\n",
              "    <tr>\n",
              "      <th>1</th>\n",
              "      <td>1492</td>\n",
              "      <td>0</td>\n",
              "    </tr>\n",
              "    <tr>\n",
              "      <th>2</th>\n",
              "      <td>1493</td>\n",
              "      <td>1</td>\n",
              "    </tr>\n",
              "    <tr>\n",
              "      <th>3</th>\n",
              "      <td>1494</td>\n",
              "      <td>1</td>\n",
              "    </tr>\n",
              "    <tr>\n",
              "      <th>4</th>\n",
              "      <td>1495</td>\n",
              "      <td>1</td>\n",
              "    </tr>\n",
              "    <tr>\n",
              "      <th>...</th>\n",
              "      <td>...</td>\n",
              "      <td>...</td>\n",
              "    </tr>\n",
              "    <tr>\n",
              "      <th>492</th>\n",
              "      <td>1983</td>\n",
              "      <td>1</td>\n",
              "    </tr>\n",
              "    <tr>\n",
              "      <th>493</th>\n",
              "      <td>1984</td>\n",
              "      <td>0</td>\n",
              "    </tr>\n",
              "    <tr>\n",
              "      <th>494</th>\n",
              "      <td>1985</td>\n",
              "      <td>0</td>\n",
              "    </tr>\n",
              "    <tr>\n",
              "      <th>495</th>\n",
              "      <td>1986</td>\n",
              "      <td>1</td>\n",
              "    </tr>\n",
              "    <tr>\n",
              "      <th>496</th>\n",
              "      <td>1987</td>\n",
              "      <td>0</td>\n",
              "    </tr>\n",
              "  </tbody>\n",
              "</table>\n",
              "<p>497 rows × 2 columns</p>\n",
              "</div>"
            ],
            "text/plain": [
              "     Customer  TravelInsurance\n",
              "0        1491                0\n",
              "1        1492                0\n",
              "2        1493                1\n",
              "3        1494                1\n",
              "4        1495                1\n",
              "..        ...              ...\n",
              "492      1983                1\n",
              "493      1984                0\n",
              "494      1985                0\n",
              "495      1986                1\n",
              "496      1987                0\n",
              "\n",
              "[497 rows x 2 columns]"
            ]
          },
          "metadata": {},
          "execution_count": 27
        }
      ]
    },
    {
      "cell_type": "markdown",
      "metadata": {
        "id": "78rBnN6swiB2"
      },
      "source": [
        "### OPTIMIZED Random Forest Classifier\n",
        "\n",
        "Empleamos RandomizedSearchCV con la intencion de encontrar los parametros que optimicen la clasificacion. \n",
        "\n",
        "Este es el modelo que mejor nos ha funcionado y nos ha colocado en el primer puesto de la tabla de la Competencia. "
      ]
    },
    {
      "cell_type": "code",
      "metadata": {
        "id": "5Ynl9lK-wiB-"
      },
      "source": [
        "from sklearn import ensemble\n",
        "from sklearn.model_selection import RandomizedSearchCV"
      ],
      "execution_count": null,
      "outputs": []
    },
    {
      "cell_type": "code",
      "metadata": {
        "colab": {
          "base_uri": "https://localhost:8080/"
        },
        "id": "iLrLM4ccwokv",
        "outputId": "e28b29fb-3180-4899-9db2-246e5cf5713b"
      },
      "source": [
        "def get_rf_parameters():\n",
        "    n_estimators = [10, 50, 100,200]\n",
        "    max_features = ['auto', 'sqrt', 'log2']\n",
        "    max_depth = [5, 10, 20, 50, None]\n",
        "    min_samples_split = [2, 4, 6, 8]\n",
        "    min_samples_leaf = [1, 2, 4, 6]\n",
        "    bootstrap = [True, False]\n",
        "\n",
        "    random_grid = {'n_estimators':n_estimators,\n",
        "                   'max_features': max_features,\n",
        "                   'max_depth': max_depth,\n",
        "                   'min_samples_split': min_samples_split,\n",
        "                   'min_samples_leaf': min_samples_leaf,\n",
        "                   'bootstrap':bootstrap}\n",
        "    model = ensemble.RandomForestClassifier(random_state =42)\n",
        "    rf_random = RandomizedSearchCV(estimator = model, param_distributions = random_grid, n_iter = 5, cv = 3, verbose =  2, random_state = 42)\n",
        "    rf_random.fit(X_train, y_train)\n",
        "    parameters = rf_random.best_params_\n",
        "    print(\"Best Parameters: \", parameters)\n",
        "    \n",
        "    return parameters\n",
        "\n",
        "\n",
        "rf_par = get_rf_parameters()"
      ],
      "execution_count": null,
      "outputs": [
        {
          "output_type": "stream",
          "name": "stdout",
          "text": [
            "Fitting 3 folds for each of 5 candidates, totalling 15 fits\n",
            "[CV] n_estimators=100, min_samples_split=4, min_samples_leaf=4, max_features=log2, max_depth=5, bootstrap=False \n",
            "[CV]  n_estimators=100, min_samples_split=4, min_samples_leaf=4, max_features=log2, max_depth=5, bootstrap=False, total=   0.1s\n",
            "[CV] n_estimators=100, min_samples_split=4, min_samples_leaf=4, max_features=log2, max_depth=5, bootstrap=False \n"
          ]
        },
        {
          "output_type": "stream",
          "name": "stderr",
          "text": [
            "[Parallel(n_jobs=1)]: Using backend SequentialBackend with 1 concurrent workers.\n",
            "[Parallel(n_jobs=1)]: Done   1 out of   1 | elapsed:    0.1s remaining:    0.0s\n"
          ]
        },
        {
          "output_type": "stream",
          "name": "stdout",
          "text": [
            "[CV]  n_estimators=100, min_samples_split=4, min_samples_leaf=4, max_features=log2, max_depth=5, bootstrap=False, total=   0.2s\n",
            "[CV] n_estimators=100, min_samples_split=4, min_samples_leaf=4, max_features=log2, max_depth=5, bootstrap=False \n",
            "[CV]  n_estimators=100, min_samples_split=4, min_samples_leaf=4, max_features=log2, max_depth=5, bootstrap=False, total=   0.1s\n",
            "[CV] n_estimators=200, min_samples_split=2, min_samples_leaf=6, max_features=sqrt, max_depth=20, bootstrap=False \n",
            "[CV]  n_estimators=200, min_samples_split=2, min_samples_leaf=6, max_features=sqrt, max_depth=20, bootstrap=False, total=   0.3s\n",
            "[CV] n_estimators=200, min_samples_split=2, min_samples_leaf=6, max_features=sqrt, max_depth=20, bootstrap=False \n",
            "[CV]  n_estimators=200, min_samples_split=2, min_samples_leaf=6, max_features=sqrt, max_depth=20, bootstrap=False, total=   0.3s\n",
            "[CV] n_estimators=200, min_samples_split=2, min_samples_leaf=6, max_features=sqrt, max_depth=20, bootstrap=False \n",
            "[CV]  n_estimators=200, min_samples_split=2, min_samples_leaf=6, max_features=sqrt, max_depth=20, bootstrap=False, total=   0.3s\n",
            "[CV] n_estimators=10, min_samples_split=8, min_samples_leaf=2, max_features=sqrt, max_depth=None, bootstrap=True \n",
            "[CV]  n_estimators=10, min_samples_split=8, min_samples_leaf=2, max_features=sqrt, max_depth=None, bootstrap=True, total=   0.0s\n",
            "[CV] n_estimators=10, min_samples_split=8, min_samples_leaf=2, max_features=sqrt, max_depth=None, bootstrap=True \n",
            "[CV]  n_estimators=10, min_samples_split=8, min_samples_leaf=2, max_features=sqrt, max_depth=None, bootstrap=True, total=   0.0s\n",
            "[CV] n_estimators=10, min_samples_split=8, min_samples_leaf=2, max_features=sqrt, max_depth=None, bootstrap=True \n",
            "[CV]  n_estimators=10, min_samples_split=8, min_samples_leaf=2, max_features=sqrt, max_depth=None, bootstrap=True, total=   0.0s\n",
            "[CV] n_estimators=100, min_samples_split=8, min_samples_leaf=1, max_features=log2, max_depth=10, bootstrap=False \n",
            "[CV]  n_estimators=100, min_samples_split=8, min_samples_leaf=1, max_features=log2, max_depth=10, bootstrap=False, total=   0.2s\n",
            "[CV] n_estimators=100, min_samples_split=8, min_samples_leaf=1, max_features=log2, max_depth=10, bootstrap=False \n",
            "[CV]  n_estimators=100, min_samples_split=8, min_samples_leaf=1, max_features=log2, max_depth=10, bootstrap=False, total=   0.2s\n",
            "[CV] n_estimators=100, min_samples_split=8, min_samples_leaf=1, max_features=log2, max_depth=10, bootstrap=False \n",
            "[CV]  n_estimators=100, min_samples_split=8, min_samples_leaf=1, max_features=log2, max_depth=10, bootstrap=False, total=   0.2s\n",
            "[CV] n_estimators=100, min_samples_split=6, min_samples_leaf=4, max_features=log2, max_depth=5, bootstrap=False \n",
            "[CV]  n_estimators=100, min_samples_split=6, min_samples_leaf=4, max_features=log2, max_depth=5, bootstrap=False, total=   0.1s\n",
            "[CV] n_estimators=100, min_samples_split=6, min_samples_leaf=4, max_features=log2, max_depth=5, bootstrap=False \n",
            "[CV]  n_estimators=100, min_samples_split=6, min_samples_leaf=4, max_features=log2, max_depth=5, bootstrap=False, total=   0.1s\n",
            "[CV] n_estimators=100, min_samples_split=6, min_samples_leaf=4, max_features=log2, max_depth=5, bootstrap=False \n",
            "[CV]  n_estimators=100, min_samples_split=6, min_samples_leaf=4, max_features=log2, max_depth=5, bootstrap=False, total=   0.1s\n",
            "Best Parameters:  {'n_estimators': 100, 'min_samples_split': 8, 'min_samples_leaf': 1, 'max_features': 'log2', 'max_depth': 10, 'bootstrap': False}\n"
          ]
        },
        {
          "output_type": "stream",
          "name": "stderr",
          "text": [
            "[Parallel(n_jobs=1)]: Done  15 out of  15 | elapsed:    2.4s finished\n"
          ]
        }
      ]
    },
    {
      "cell_type": "code",
      "metadata": {
        "id": "eaVc2WJhwiB-"
      },
      "source": [
        "clf = ensemble.RandomForestClassifier(**rf_par)\n",
        "clf.fit(X_train, y_train);"
      ],
      "execution_count": null,
      "outputs": []
    },
    {
      "cell_type": "code",
      "metadata": {
        "id": "1Jvt_cu7yYX-",
        "colab": {
          "base_uri": "https://localhost:8080/"
        },
        "outputId": "9f6ca8b3-956d-4ee3-b1e6-7c982c11900b"
      },
      "source": [
        "clf"
      ],
      "execution_count": null,
      "outputs": [
        {
          "output_type": "execute_result",
          "data": {
            "text/plain": [
              "RandomForestClassifier(bootstrap=False, ccp_alpha=0.0, class_weight=None,\n",
              "                       criterion='gini', max_depth=10, max_features='log2',\n",
              "                       max_leaf_nodes=None, max_samples=None,\n",
              "                       min_impurity_decrease=0.0, min_impurity_split=None,\n",
              "                       min_samples_leaf=1, min_samples_split=8,\n",
              "                       min_weight_fraction_leaf=0.0, n_estimators=100,\n",
              "                       n_jobs=None, oob_score=False, random_state=None,\n",
              "                       verbose=0, warm_start=False)"
            ]
          },
          "metadata": {},
          "execution_count": 31
        }
      ]
    },
    {
      "cell_type": "markdown",
      "metadata": {
        "id": "1k3o_mYmwiB-"
      },
      "source": [
        "##### Check Results\n",
        "\n",
        "We can print the results of the best estimator found on the whole training set (we could also set apart a validation set if we find it useful)."
      ]
    },
    {
      "cell_type": "code",
      "metadata": {
        "colab": {
          "base_uri": "https://localhost:8080/"
        },
        "id": "HzekmG6XwiB-",
        "outputId": "e1b127c7-64df-4413-b8c7-0a66c4591e55"
      },
      "source": [
        "print(classification_report(y_train, clf.predict(X_train)))"
      ],
      "execution_count": null,
      "outputs": [
        {
          "output_type": "stream",
          "name": "stdout",
          "text": [
            "              precision    recall  f1-score   support\n",
            "\n",
            "           0       0.83      0.97      0.89       958\n",
            "           1       0.92      0.65      0.76       532\n",
            "\n",
            "    accuracy                           0.85      1490\n",
            "   macro avg       0.88      0.81      0.83      1490\n",
            "weighted avg       0.86      0.85      0.85      1490\n",
            "\n"
          ]
        }
      ]
    },
    {
      "cell_type": "markdown",
      "metadata": {
        "id": "QrxypvW2wiB-"
      },
      "source": [
        "##### Generate the output\n",
        "\n",
        "The last thing we do is generating a file that should be *submitted* on kaggle"
      ]
    },
    {
      "cell_type": "code",
      "metadata": {
        "id": "YhKiDLoZwiB-"
      },
      "source": [
        "test_id = test_df[\"Customer\"]\n",
        "test_pred = clf.predict(X_test)\n",
        "\n",
        "submission = pd.DataFrame(list(zip(test_id, test_pred)), columns=[\"Customer\", \"TravelInsurance\"])\n",
        "submission.to_csv(\"./travel_insurance_submission_RF4_optmzd.csv\", header=True, index=False)"
      ],
      "execution_count": null,
      "outputs": []
    },
    {
      "cell_type": "code",
      "metadata": {
        "id": "32UhI4pswiB_",
        "colab": {
          "base_uri": "https://localhost:8080/"
        },
        "outputId": "47dd5d83-97d1-40e9-c47e-d64a6cc715c4"
      },
      "source": [
        "submission"
      ],
      "execution_count": null,
      "outputs": [
        {
          "output_type": "execute_result",
          "data": {
            "text/html": [
              "<div>\n",
              "<style scoped>\n",
              "    .dataframe tbody tr th:only-of-type {\n",
              "        vertical-align: middle;\n",
              "    }\n",
              "\n",
              "    .dataframe tbody tr th {\n",
              "        vertical-align: top;\n",
              "    }\n",
              "\n",
              "    .dataframe thead th {\n",
              "        text-align: right;\n",
              "    }\n",
              "</style>\n",
              "<table border=\"1\" class=\"dataframe\">\n",
              "  <thead>\n",
              "    <tr style=\"text-align: right;\">\n",
              "      <th></th>\n",
              "      <th>Customer</th>\n",
              "      <th>TravelInsurance</th>\n",
              "    </tr>\n",
              "  </thead>\n",
              "  <tbody>\n",
              "    <tr>\n",
              "      <th>0</th>\n",
              "      <td>1491</td>\n",
              "      <td>0</td>\n",
              "    </tr>\n",
              "    <tr>\n",
              "      <th>1</th>\n",
              "      <td>1492</td>\n",
              "      <td>0</td>\n",
              "    </tr>\n",
              "    <tr>\n",
              "      <th>2</th>\n",
              "      <td>1493</td>\n",
              "      <td>1</td>\n",
              "    </tr>\n",
              "    <tr>\n",
              "      <th>3</th>\n",
              "      <td>1494</td>\n",
              "      <td>1</td>\n",
              "    </tr>\n",
              "    <tr>\n",
              "      <th>4</th>\n",
              "      <td>1495</td>\n",
              "      <td>1</td>\n",
              "    </tr>\n",
              "    <tr>\n",
              "      <th>...</th>\n",
              "      <td>...</td>\n",
              "      <td>...</td>\n",
              "    </tr>\n",
              "    <tr>\n",
              "      <th>492</th>\n",
              "      <td>1983</td>\n",
              "      <td>1</td>\n",
              "    </tr>\n",
              "    <tr>\n",
              "      <th>493</th>\n",
              "      <td>1984</td>\n",
              "      <td>0</td>\n",
              "    </tr>\n",
              "    <tr>\n",
              "      <th>494</th>\n",
              "      <td>1985</td>\n",
              "      <td>0</td>\n",
              "    </tr>\n",
              "    <tr>\n",
              "      <th>495</th>\n",
              "      <td>1986</td>\n",
              "      <td>1</td>\n",
              "    </tr>\n",
              "    <tr>\n",
              "      <th>496</th>\n",
              "      <td>1987</td>\n",
              "      <td>0</td>\n",
              "    </tr>\n",
              "  </tbody>\n",
              "</table>\n",
              "<p>497 rows × 2 columns</p>\n",
              "</div>"
            ],
            "text/plain": [
              "     Customer  TravelInsurance\n",
              "0        1491                0\n",
              "1        1492                0\n",
              "2        1493                1\n",
              "3        1494                1\n",
              "4        1495                1\n",
              "..        ...              ...\n",
              "492      1983                1\n",
              "493      1984                0\n",
              "494      1985                0\n",
              "495      1986                1\n",
              "496      1987                0\n",
              "\n",
              "[497 rows x 2 columns]"
            ]
          },
          "metadata": {},
          "execution_count": 34
        }
      ]
    },
    {
      "cell_type": "markdown",
      "metadata": {
        "id": "2n8THmwyV9Z_"
      },
      "source": [
        "### SGDC Classifier"
      ]
    },
    {
      "cell_type": "code",
      "metadata": {
        "id": "wsKQK0qaWkqG"
      },
      "source": [
        "from sklearn.linear_model import SGDClassifier\n",
        "from sklearn.model_selection import GridSearchCV\n",
        "\n",
        "param_grid = {\n",
        "    'loss': ['hinge', 'log', 'squared_epsilon_insensitive','squared_loss','modified_huber','perceptron'],\n",
        "    'learning_rate': ['optimal'],\n",
        "    'tol': [1e-5],\n",
        "    'shuffle': [False],\n",
        "    'epsilon': [0.01, 0.02, 0.05, 0.001],\n",
        "    'alpha': [0.001, 0.0001,0.00001, 0.02, 0.005]\n",
        "}"
      ],
      "execution_count": null,
      "outputs": []
    },
    {
      "cell_type": "code",
      "metadata": {
        "id": "ISWxYsmTWkqb",
        "colab": {
          "base_uri": "https://localhost:8080/"
        },
        "outputId": "3d3eadc9-a529-4afb-cb0c-be4387f8061e"
      },
      "source": [
        "clf = SGDClassifier(random_state=0)\n",
        "\n",
        "best_clf = GridSearchCV(clf, param_grid, scoring='f1', cv=5)\n",
        "\n",
        "best_clf.fit(X_train, y_train);"
      ],
      "execution_count": null,
      "outputs": [
        {
          "output_type": "stream",
          "name": "stderr",
          "text": [
            "/usr/local/lib/python3.7/dist-packages/sklearn/linear_model/_stochastic_gradient.py:557: ConvergenceWarning: Maximum number of iteration reached before convergence. Consider increasing max_iter to improve the fit.\n",
            "  ConvergenceWarning)\n",
            "/usr/local/lib/python3.7/dist-packages/sklearn/linear_model/_stochastic_gradient.py:557: ConvergenceWarning: Maximum number of iteration reached before convergence. Consider increasing max_iter to improve the fit.\n",
            "  ConvergenceWarning)\n",
            "/usr/local/lib/python3.7/dist-packages/sklearn/linear_model/_stochastic_gradient.py:557: ConvergenceWarning: Maximum number of iteration reached before convergence. Consider increasing max_iter to improve the fit.\n",
            "  ConvergenceWarning)\n",
            "/usr/local/lib/python3.7/dist-packages/sklearn/linear_model/_stochastic_gradient.py:557: ConvergenceWarning: Maximum number of iteration reached before convergence. Consider increasing max_iter to improve the fit.\n",
            "  ConvergenceWarning)\n",
            "/usr/local/lib/python3.7/dist-packages/sklearn/linear_model/_stochastic_gradient.py:557: ConvergenceWarning: Maximum number of iteration reached before convergence. Consider increasing max_iter to improve the fit.\n",
            "  ConvergenceWarning)\n",
            "/usr/local/lib/python3.7/dist-packages/sklearn/linear_model/_stochastic_gradient.py:557: ConvergenceWarning: Maximum number of iteration reached before convergence. Consider increasing max_iter to improve the fit.\n",
            "  ConvergenceWarning)\n",
            "/usr/local/lib/python3.7/dist-packages/sklearn/linear_model/_stochastic_gradient.py:557: ConvergenceWarning: Maximum number of iteration reached before convergence. Consider increasing max_iter to improve the fit.\n",
            "  ConvergenceWarning)\n",
            "/usr/local/lib/python3.7/dist-packages/sklearn/linear_model/_stochastic_gradient.py:557: ConvergenceWarning: Maximum number of iteration reached before convergence. Consider increasing max_iter to improve the fit.\n",
            "  ConvergenceWarning)\n",
            "/usr/local/lib/python3.7/dist-packages/sklearn/linear_model/_stochastic_gradient.py:557: ConvergenceWarning: Maximum number of iteration reached before convergence. Consider increasing max_iter to improve the fit.\n",
            "  ConvergenceWarning)\n",
            "/usr/local/lib/python3.7/dist-packages/sklearn/linear_model/_stochastic_gradient.py:557: ConvergenceWarning: Maximum number of iteration reached before convergence. Consider increasing max_iter to improve the fit.\n",
            "  ConvergenceWarning)\n",
            "/usr/local/lib/python3.7/dist-packages/sklearn/linear_model/_stochastic_gradient.py:557: ConvergenceWarning: Maximum number of iteration reached before convergence. Consider increasing max_iter to improve the fit.\n",
            "  ConvergenceWarning)\n",
            "/usr/local/lib/python3.7/dist-packages/sklearn/linear_model/_stochastic_gradient.py:557: ConvergenceWarning: Maximum number of iteration reached before convergence. Consider increasing max_iter to improve the fit.\n",
            "  ConvergenceWarning)\n",
            "/usr/local/lib/python3.7/dist-packages/sklearn/linear_model/_stochastic_gradient.py:557: ConvergenceWarning: Maximum number of iteration reached before convergence. Consider increasing max_iter to improve the fit.\n",
            "  ConvergenceWarning)\n",
            "/usr/local/lib/python3.7/dist-packages/sklearn/linear_model/_stochastic_gradient.py:557: ConvergenceWarning: Maximum number of iteration reached before convergence. Consider increasing max_iter to improve the fit.\n",
            "  ConvergenceWarning)\n",
            "/usr/local/lib/python3.7/dist-packages/sklearn/linear_model/_stochastic_gradient.py:557: ConvergenceWarning: Maximum number of iteration reached before convergence. Consider increasing max_iter to improve the fit.\n",
            "  ConvergenceWarning)\n",
            "/usr/local/lib/python3.7/dist-packages/sklearn/linear_model/_stochastic_gradient.py:557: ConvergenceWarning: Maximum number of iteration reached before convergence. Consider increasing max_iter to improve the fit.\n",
            "  ConvergenceWarning)\n",
            "/usr/local/lib/python3.7/dist-packages/sklearn/linear_model/_stochastic_gradient.py:557: ConvergenceWarning: Maximum number of iteration reached before convergence. Consider increasing max_iter to improve the fit.\n",
            "  ConvergenceWarning)\n",
            "/usr/local/lib/python3.7/dist-packages/sklearn/linear_model/_stochastic_gradient.py:557: ConvergenceWarning: Maximum number of iteration reached before convergence. Consider increasing max_iter to improve the fit.\n",
            "  ConvergenceWarning)\n",
            "/usr/local/lib/python3.7/dist-packages/sklearn/linear_model/_stochastic_gradient.py:557: ConvergenceWarning: Maximum number of iteration reached before convergence. Consider increasing max_iter to improve the fit.\n",
            "  ConvergenceWarning)\n",
            "/usr/local/lib/python3.7/dist-packages/sklearn/linear_model/_stochastic_gradient.py:557: ConvergenceWarning: Maximum number of iteration reached before convergence. Consider increasing max_iter to improve the fit.\n",
            "  ConvergenceWarning)\n",
            "/usr/local/lib/python3.7/dist-packages/sklearn/linear_model/_stochastic_gradient.py:557: ConvergenceWarning: Maximum number of iteration reached before convergence. Consider increasing max_iter to improve the fit.\n",
            "  ConvergenceWarning)\n",
            "/usr/local/lib/python3.7/dist-packages/sklearn/linear_model/_stochastic_gradient.py:557: ConvergenceWarning: Maximum number of iteration reached before convergence. Consider increasing max_iter to improve the fit.\n",
            "  ConvergenceWarning)\n",
            "/usr/local/lib/python3.7/dist-packages/sklearn/linear_model/_stochastic_gradient.py:557: ConvergenceWarning: Maximum number of iteration reached before convergence. Consider increasing max_iter to improve the fit.\n",
            "  ConvergenceWarning)\n",
            "/usr/local/lib/python3.7/dist-packages/sklearn/linear_model/_stochastic_gradient.py:557: ConvergenceWarning: Maximum number of iteration reached before convergence. Consider increasing max_iter to improve the fit.\n",
            "  ConvergenceWarning)\n",
            "/usr/local/lib/python3.7/dist-packages/sklearn/linear_model/_stochastic_gradient.py:557: ConvergenceWarning: Maximum number of iteration reached before convergence. Consider increasing max_iter to improve the fit.\n",
            "  ConvergenceWarning)\n",
            "/usr/local/lib/python3.7/dist-packages/sklearn/linear_model/_stochastic_gradient.py:557: ConvergenceWarning: Maximum number of iteration reached before convergence. Consider increasing max_iter to improve the fit.\n",
            "  ConvergenceWarning)\n",
            "/usr/local/lib/python3.7/dist-packages/sklearn/linear_model/_stochastic_gradient.py:557: ConvergenceWarning: Maximum number of iteration reached before convergence. Consider increasing max_iter to improve the fit.\n",
            "  ConvergenceWarning)\n",
            "/usr/local/lib/python3.7/dist-packages/sklearn/linear_model/_stochastic_gradient.py:557: ConvergenceWarning: Maximum number of iteration reached before convergence. Consider increasing max_iter to improve the fit.\n",
            "  ConvergenceWarning)\n",
            "/usr/local/lib/python3.7/dist-packages/sklearn/linear_model/_stochastic_gradient.py:557: ConvergenceWarning: Maximum number of iteration reached before convergence. Consider increasing max_iter to improve the fit.\n",
            "  ConvergenceWarning)\n",
            "/usr/local/lib/python3.7/dist-packages/sklearn/linear_model/_stochastic_gradient.py:557: ConvergenceWarning: Maximum number of iteration reached before convergence. Consider increasing max_iter to improve the fit.\n",
            "  ConvergenceWarning)\n",
            "/usr/local/lib/python3.7/dist-packages/sklearn/linear_model/_stochastic_gradient.py:557: ConvergenceWarning: Maximum number of iteration reached before convergence. Consider increasing max_iter to improve the fit.\n",
            "  ConvergenceWarning)\n",
            "/usr/local/lib/python3.7/dist-packages/sklearn/linear_model/_stochastic_gradient.py:557: ConvergenceWarning: Maximum number of iteration reached before convergence. Consider increasing max_iter to improve the fit.\n",
            "  ConvergenceWarning)\n",
            "/usr/local/lib/python3.7/dist-packages/sklearn/linear_model/_stochastic_gradient.py:557: ConvergenceWarning: Maximum number of iteration reached before convergence. Consider increasing max_iter to improve the fit.\n",
            "  ConvergenceWarning)\n",
            "/usr/local/lib/python3.7/dist-packages/sklearn/linear_model/_stochastic_gradient.py:557: ConvergenceWarning: Maximum number of iteration reached before convergence. Consider increasing max_iter to improve the fit.\n",
            "  ConvergenceWarning)\n",
            "/usr/local/lib/python3.7/dist-packages/sklearn/linear_model/_stochastic_gradient.py:557: ConvergenceWarning: Maximum number of iteration reached before convergence. Consider increasing max_iter to improve the fit.\n",
            "  ConvergenceWarning)\n",
            "/usr/local/lib/python3.7/dist-packages/sklearn/linear_model/_stochastic_gradient.py:557: ConvergenceWarning: Maximum number of iteration reached before convergence. Consider increasing max_iter to improve the fit.\n",
            "  ConvergenceWarning)\n",
            "/usr/local/lib/python3.7/dist-packages/sklearn/linear_model/_stochastic_gradient.py:557: ConvergenceWarning: Maximum number of iteration reached before convergence. Consider increasing max_iter to improve the fit.\n",
            "  ConvergenceWarning)\n",
            "/usr/local/lib/python3.7/dist-packages/sklearn/linear_model/_stochastic_gradient.py:557: ConvergenceWarning: Maximum number of iteration reached before convergence. Consider increasing max_iter to improve the fit.\n",
            "  ConvergenceWarning)\n",
            "/usr/local/lib/python3.7/dist-packages/sklearn/linear_model/_stochastic_gradient.py:557: ConvergenceWarning: Maximum number of iteration reached before convergence. Consider increasing max_iter to improve the fit.\n",
            "  ConvergenceWarning)\n",
            "/usr/local/lib/python3.7/dist-packages/sklearn/linear_model/_stochastic_gradient.py:557: ConvergenceWarning: Maximum number of iteration reached before convergence. Consider increasing max_iter to improve the fit.\n",
            "  ConvergenceWarning)\n",
            "/usr/local/lib/python3.7/dist-packages/sklearn/linear_model/_stochastic_gradient.py:557: ConvergenceWarning: Maximum number of iteration reached before convergence. Consider increasing max_iter to improve the fit.\n",
            "  ConvergenceWarning)\n",
            "/usr/local/lib/python3.7/dist-packages/sklearn/linear_model/_stochastic_gradient.py:557: ConvergenceWarning: Maximum number of iteration reached before convergence. Consider increasing max_iter to improve the fit.\n",
            "  ConvergenceWarning)\n",
            "/usr/local/lib/python3.7/dist-packages/sklearn/linear_model/_stochastic_gradient.py:557: ConvergenceWarning: Maximum number of iteration reached before convergence. Consider increasing max_iter to improve the fit.\n",
            "  ConvergenceWarning)\n",
            "/usr/local/lib/python3.7/dist-packages/sklearn/linear_model/_stochastic_gradient.py:557: ConvergenceWarning: Maximum number of iteration reached before convergence. Consider increasing max_iter to improve the fit.\n",
            "  ConvergenceWarning)\n",
            "/usr/local/lib/python3.7/dist-packages/sklearn/linear_model/_stochastic_gradient.py:557: ConvergenceWarning: Maximum number of iteration reached before convergence. Consider increasing max_iter to improve the fit.\n",
            "  ConvergenceWarning)\n",
            "/usr/local/lib/python3.7/dist-packages/sklearn/linear_model/_stochastic_gradient.py:557: ConvergenceWarning: Maximum number of iteration reached before convergence. Consider increasing max_iter to improve the fit.\n",
            "  ConvergenceWarning)\n",
            "/usr/local/lib/python3.7/dist-packages/sklearn/linear_model/_stochastic_gradient.py:557: ConvergenceWarning: Maximum number of iteration reached before convergence. Consider increasing max_iter to improve the fit.\n",
            "  ConvergenceWarning)\n",
            "/usr/local/lib/python3.7/dist-packages/sklearn/linear_model/_stochastic_gradient.py:557: ConvergenceWarning: Maximum number of iteration reached before convergence. Consider increasing max_iter to improve the fit.\n",
            "  ConvergenceWarning)\n",
            "/usr/local/lib/python3.7/dist-packages/sklearn/linear_model/_stochastic_gradient.py:557: ConvergenceWarning: Maximum number of iteration reached before convergence. Consider increasing max_iter to improve the fit.\n",
            "  ConvergenceWarning)\n",
            "/usr/local/lib/python3.7/dist-packages/sklearn/linear_model/_stochastic_gradient.py:557: ConvergenceWarning: Maximum number of iteration reached before convergence. Consider increasing max_iter to improve the fit.\n",
            "  ConvergenceWarning)\n",
            "/usr/local/lib/python3.7/dist-packages/sklearn/linear_model/_stochastic_gradient.py:557: ConvergenceWarning: Maximum number of iteration reached before convergence. Consider increasing max_iter to improve the fit.\n",
            "  ConvergenceWarning)\n",
            "/usr/local/lib/python3.7/dist-packages/sklearn/linear_model/_stochastic_gradient.py:557: ConvergenceWarning: Maximum number of iteration reached before convergence. Consider increasing max_iter to improve the fit.\n",
            "  ConvergenceWarning)\n",
            "/usr/local/lib/python3.7/dist-packages/sklearn/linear_model/_stochastic_gradient.py:557: ConvergenceWarning: Maximum number of iteration reached before convergence. Consider increasing max_iter to improve the fit.\n",
            "  ConvergenceWarning)\n",
            "/usr/local/lib/python3.7/dist-packages/sklearn/linear_model/_stochastic_gradient.py:557: ConvergenceWarning: Maximum number of iteration reached before convergence. Consider increasing max_iter to improve the fit.\n",
            "  ConvergenceWarning)\n",
            "/usr/local/lib/python3.7/dist-packages/sklearn/linear_model/_stochastic_gradient.py:557: ConvergenceWarning: Maximum number of iteration reached before convergence. Consider increasing max_iter to improve the fit.\n",
            "  ConvergenceWarning)\n",
            "/usr/local/lib/python3.7/dist-packages/sklearn/linear_model/_stochastic_gradient.py:557: ConvergenceWarning: Maximum number of iteration reached before convergence. Consider increasing max_iter to improve the fit.\n",
            "  ConvergenceWarning)\n",
            "/usr/local/lib/python3.7/dist-packages/sklearn/linear_model/_stochastic_gradient.py:557: ConvergenceWarning: Maximum number of iteration reached before convergence. Consider increasing max_iter to improve the fit.\n",
            "  ConvergenceWarning)\n",
            "/usr/local/lib/python3.7/dist-packages/sklearn/linear_model/_stochastic_gradient.py:557: ConvergenceWarning: Maximum number of iteration reached before convergence. Consider increasing max_iter to improve the fit.\n",
            "  ConvergenceWarning)\n",
            "/usr/local/lib/python3.7/dist-packages/sklearn/linear_model/_stochastic_gradient.py:557: ConvergenceWarning: Maximum number of iteration reached before convergence. Consider increasing max_iter to improve the fit.\n",
            "  ConvergenceWarning)\n",
            "/usr/local/lib/python3.7/dist-packages/sklearn/linear_model/_stochastic_gradient.py:557: ConvergenceWarning: Maximum number of iteration reached before convergence. Consider increasing max_iter to improve the fit.\n",
            "  ConvergenceWarning)\n",
            "/usr/local/lib/python3.7/dist-packages/sklearn/linear_model/_stochastic_gradient.py:557: ConvergenceWarning: Maximum number of iteration reached before convergence. Consider increasing max_iter to improve the fit.\n",
            "  ConvergenceWarning)\n",
            "/usr/local/lib/python3.7/dist-packages/sklearn/linear_model/_stochastic_gradient.py:557: ConvergenceWarning: Maximum number of iteration reached before convergence. Consider increasing max_iter to improve the fit.\n",
            "  ConvergenceWarning)\n",
            "/usr/local/lib/python3.7/dist-packages/sklearn/linear_model/_stochastic_gradient.py:557: ConvergenceWarning: Maximum number of iteration reached before convergence. Consider increasing max_iter to improve the fit.\n",
            "  ConvergenceWarning)\n",
            "/usr/local/lib/python3.7/dist-packages/sklearn/linear_model/_stochastic_gradient.py:557: ConvergenceWarning: Maximum number of iteration reached before convergence. Consider increasing max_iter to improve the fit.\n",
            "  ConvergenceWarning)\n",
            "/usr/local/lib/python3.7/dist-packages/sklearn/linear_model/_stochastic_gradient.py:557: ConvergenceWarning: Maximum number of iteration reached before convergence. Consider increasing max_iter to improve the fit.\n",
            "  ConvergenceWarning)\n",
            "/usr/local/lib/python3.7/dist-packages/sklearn/linear_model/_stochastic_gradient.py:557: ConvergenceWarning: Maximum number of iteration reached before convergence. Consider increasing max_iter to improve the fit.\n",
            "  ConvergenceWarning)\n",
            "/usr/local/lib/python3.7/dist-packages/sklearn/linear_model/_stochastic_gradient.py:557: ConvergenceWarning: Maximum number of iteration reached before convergence. Consider increasing max_iter to improve the fit.\n",
            "  ConvergenceWarning)\n",
            "/usr/local/lib/python3.7/dist-packages/sklearn/linear_model/_stochastic_gradient.py:557: ConvergenceWarning: Maximum number of iteration reached before convergence. Consider increasing max_iter to improve the fit.\n",
            "  ConvergenceWarning)\n",
            "/usr/local/lib/python3.7/dist-packages/sklearn/linear_model/_stochastic_gradient.py:557: ConvergenceWarning: Maximum number of iteration reached before convergence. Consider increasing max_iter to improve the fit.\n",
            "  ConvergenceWarning)\n",
            "/usr/local/lib/python3.7/dist-packages/sklearn/linear_model/_stochastic_gradient.py:557: ConvergenceWarning: Maximum number of iteration reached before convergence. Consider increasing max_iter to improve the fit.\n",
            "  ConvergenceWarning)\n",
            "/usr/local/lib/python3.7/dist-packages/sklearn/linear_model/_stochastic_gradient.py:557: ConvergenceWarning: Maximum number of iteration reached before convergence. Consider increasing max_iter to improve the fit.\n",
            "  ConvergenceWarning)\n",
            "/usr/local/lib/python3.7/dist-packages/sklearn/linear_model/_stochastic_gradient.py:557: ConvergenceWarning: Maximum number of iteration reached before convergence. Consider increasing max_iter to improve the fit.\n",
            "  ConvergenceWarning)\n",
            "/usr/local/lib/python3.7/dist-packages/sklearn/linear_model/_stochastic_gradient.py:557: ConvergenceWarning: Maximum number of iteration reached before convergence. Consider increasing max_iter to improve the fit.\n",
            "  ConvergenceWarning)\n",
            "/usr/local/lib/python3.7/dist-packages/sklearn/linear_model/_stochastic_gradient.py:557: ConvergenceWarning: Maximum number of iteration reached before convergence. Consider increasing max_iter to improve the fit.\n",
            "  ConvergenceWarning)\n",
            "/usr/local/lib/python3.7/dist-packages/sklearn/linear_model/_stochastic_gradient.py:557: ConvergenceWarning: Maximum number of iteration reached before convergence. Consider increasing max_iter to improve the fit.\n",
            "  ConvergenceWarning)\n",
            "/usr/local/lib/python3.7/dist-packages/sklearn/linear_model/_stochastic_gradient.py:557: ConvergenceWarning: Maximum number of iteration reached before convergence. Consider increasing max_iter to improve the fit.\n",
            "  ConvergenceWarning)\n",
            "/usr/local/lib/python3.7/dist-packages/sklearn/linear_model/_stochastic_gradient.py:557: ConvergenceWarning: Maximum number of iteration reached before convergence. Consider increasing max_iter to improve the fit.\n",
            "  ConvergenceWarning)\n",
            "/usr/local/lib/python3.7/dist-packages/sklearn/linear_model/_stochastic_gradient.py:557: ConvergenceWarning: Maximum number of iteration reached before convergence. Consider increasing max_iter to improve the fit.\n",
            "  ConvergenceWarning)\n",
            "/usr/local/lib/python3.7/dist-packages/sklearn/linear_model/_stochastic_gradient.py:557: ConvergenceWarning: Maximum number of iteration reached before convergence. Consider increasing max_iter to improve the fit.\n",
            "  ConvergenceWarning)\n",
            "/usr/local/lib/python3.7/dist-packages/sklearn/linear_model/_stochastic_gradient.py:557: ConvergenceWarning: Maximum number of iteration reached before convergence. Consider increasing max_iter to improve the fit.\n",
            "  ConvergenceWarning)\n",
            "/usr/local/lib/python3.7/dist-packages/sklearn/linear_model/_stochastic_gradient.py:557: ConvergenceWarning: Maximum number of iteration reached before convergence. Consider increasing max_iter to improve the fit.\n",
            "  ConvergenceWarning)\n",
            "/usr/local/lib/python3.7/dist-packages/sklearn/linear_model/_stochastic_gradient.py:557: ConvergenceWarning: Maximum number of iteration reached before convergence. Consider increasing max_iter to improve the fit.\n",
            "  ConvergenceWarning)\n",
            "/usr/local/lib/python3.7/dist-packages/sklearn/linear_model/_stochastic_gradient.py:557: ConvergenceWarning: Maximum number of iteration reached before convergence. Consider increasing max_iter to improve the fit.\n",
            "  ConvergenceWarning)\n",
            "/usr/local/lib/python3.7/dist-packages/sklearn/linear_model/_stochastic_gradient.py:557: ConvergenceWarning: Maximum number of iteration reached before convergence. Consider increasing max_iter to improve the fit.\n",
            "  ConvergenceWarning)\n",
            "/usr/local/lib/python3.7/dist-packages/sklearn/linear_model/_stochastic_gradient.py:557: ConvergenceWarning: Maximum number of iteration reached before convergence. Consider increasing max_iter to improve the fit.\n",
            "  ConvergenceWarning)\n",
            "/usr/local/lib/python3.7/dist-packages/sklearn/linear_model/_stochastic_gradient.py:557: ConvergenceWarning: Maximum number of iteration reached before convergence. Consider increasing max_iter to improve the fit.\n",
            "  ConvergenceWarning)\n",
            "/usr/local/lib/python3.7/dist-packages/sklearn/linear_model/_stochastic_gradient.py:557: ConvergenceWarning: Maximum number of iteration reached before convergence. Consider increasing max_iter to improve the fit.\n",
            "  ConvergenceWarning)\n",
            "/usr/local/lib/python3.7/dist-packages/sklearn/linear_model/_stochastic_gradient.py:557: ConvergenceWarning: Maximum number of iteration reached before convergence. Consider increasing max_iter to improve the fit.\n",
            "  ConvergenceWarning)\n",
            "/usr/local/lib/python3.7/dist-packages/sklearn/linear_model/_stochastic_gradient.py:557: ConvergenceWarning: Maximum number of iteration reached before convergence. Consider increasing max_iter to improve the fit.\n",
            "  ConvergenceWarning)\n",
            "/usr/local/lib/python3.7/dist-packages/sklearn/linear_model/_stochastic_gradient.py:557: ConvergenceWarning: Maximum number of iteration reached before convergence. Consider increasing max_iter to improve the fit.\n",
            "  ConvergenceWarning)\n",
            "/usr/local/lib/python3.7/dist-packages/sklearn/linear_model/_stochastic_gradient.py:557: ConvergenceWarning: Maximum number of iteration reached before convergence. Consider increasing max_iter to improve the fit.\n",
            "  ConvergenceWarning)\n",
            "/usr/local/lib/python3.7/dist-packages/sklearn/linear_model/_stochastic_gradient.py:557: ConvergenceWarning: Maximum number of iteration reached before convergence. Consider increasing max_iter to improve the fit.\n",
            "  ConvergenceWarning)\n",
            "/usr/local/lib/python3.7/dist-packages/sklearn/linear_model/_stochastic_gradient.py:557: ConvergenceWarning: Maximum number of iteration reached before convergence. Consider increasing max_iter to improve the fit.\n",
            "  ConvergenceWarning)\n",
            "/usr/local/lib/python3.7/dist-packages/sklearn/linear_model/_stochastic_gradient.py:557: ConvergenceWarning: Maximum number of iteration reached before convergence. Consider increasing max_iter to improve the fit.\n",
            "  ConvergenceWarning)\n",
            "/usr/local/lib/python3.7/dist-packages/sklearn/linear_model/_stochastic_gradient.py:557: ConvergenceWarning: Maximum number of iteration reached before convergence. Consider increasing max_iter to improve the fit.\n",
            "  ConvergenceWarning)\n",
            "/usr/local/lib/python3.7/dist-packages/sklearn/linear_model/_stochastic_gradient.py:557: ConvergenceWarning: Maximum number of iteration reached before convergence. Consider increasing max_iter to improve the fit.\n",
            "  ConvergenceWarning)\n",
            "/usr/local/lib/python3.7/dist-packages/sklearn/linear_model/_stochastic_gradient.py:557: ConvergenceWarning: Maximum number of iteration reached before convergence. Consider increasing max_iter to improve the fit.\n",
            "  ConvergenceWarning)\n",
            "/usr/local/lib/python3.7/dist-packages/sklearn/linear_model/_stochastic_gradient.py:557: ConvergenceWarning: Maximum number of iteration reached before convergence. Consider increasing max_iter to improve the fit.\n",
            "  ConvergenceWarning)\n",
            "/usr/local/lib/python3.7/dist-packages/sklearn/linear_model/_stochastic_gradient.py:557: ConvergenceWarning: Maximum number of iteration reached before convergence. Consider increasing max_iter to improve the fit.\n",
            "  ConvergenceWarning)\n",
            "/usr/local/lib/python3.7/dist-packages/sklearn/linear_model/_stochastic_gradient.py:557: ConvergenceWarning: Maximum number of iteration reached before convergence. Consider increasing max_iter to improve the fit.\n",
            "  ConvergenceWarning)\n",
            "/usr/local/lib/python3.7/dist-packages/sklearn/linear_model/_stochastic_gradient.py:557: ConvergenceWarning: Maximum number of iteration reached before convergence. Consider increasing max_iter to improve the fit.\n",
            "  ConvergenceWarning)\n",
            "/usr/local/lib/python3.7/dist-packages/sklearn/linear_model/_stochastic_gradient.py:557: ConvergenceWarning: Maximum number of iteration reached before convergence. Consider increasing max_iter to improve the fit.\n",
            "  ConvergenceWarning)\n",
            "/usr/local/lib/python3.7/dist-packages/sklearn/linear_model/_stochastic_gradient.py:557: ConvergenceWarning: Maximum number of iteration reached before convergence. Consider increasing max_iter to improve the fit.\n",
            "  ConvergenceWarning)\n",
            "/usr/local/lib/python3.7/dist-packages/sklearn/linear_model/_stochastic_gradient.py:557: ConvergenceWarning: Maximum number of iteration reached before convergence. Consider increasing max_iter to improve the fit.\n",
            "  ConvergenceWarning)\n",
            "/usr/local/lib/python3.7/dist-packages/sklearn/linear_model/_stochastic_gradient.py:557: ConvergenceWarning: Maximum number of iteration reached before convergence. Consider increasing max_iter to improve the fit.\n",
            "  ConvergenceWarning)\n",
            "/usr/local/lib/python3.7/dist-packages/sklearn/linear_model/_stochastic_gradient.py:557: ConvergenceWarning: Maximum number of iteration reached before convergence. Consider increasing max_iter to improve the fit.\n",
            "  ConvergenceWarning)\n",
            "/usr/local/lib/python3.7/dist-packages/sklearn/linear_model/_stochastic_gradient.py:557: ConvergenceWarning: Maximum number of iteration reached before convergence. Consider increasing max_iter to improve the fit.\n",
            "  ConvergenceWarning)\n",
            "/usr/local/lib/python3.7/dist-packages/sklearn/linear_model/_stochastic_gradient.py:557: ConvergenceWarning: Maximum number of iteration reached before convergence. Consider increasing max_iter to improve the fit.\n",
            "  ConvergenceWarning)\n",
            "/usr/local/lib/python3.7/dist-packages/sklearn/linear_model/_stochastic_gradient.py:557: ConvergenceWarning: Maximum number of iteration reached before convergence. Consider increasing max_iter to improve the fit.\n",
            "  ConvergenceWarning)\n",
            "/usr/local/lib/python3.7/dist-packages/sklearn/linear_model/_stochastic_gradient.py:557: ConvergenceWarning: Maximum number of iteration reached before convergence. Consider increasing max_iter to improve the fit.\n",
            "  ConvergenceWarning)\n",
            "/usr/local/lib/python3.7/dist-packages/sklearn/linear_model/_stochastic_gradient.py:557: ConvergenceWarning: Maximum number of iteration reached before convergence. Consider increasing max_iter to improve the fit.\n",
            "  ConvergenceWarning)\n",
            "/usr/local/lib/python3.7/dist-packages/sklearn/linear_model/_stochastic_gradient.py:557: ConvergenceWarning: Maximum number of iteration reached before convergence. Consider increasing max_iter to improve the fit.\n",
            "  ConvergenceWarning)\n",
            "/usr/local/lib/python3.7/dist-packages/sklearn/linear_model/_stochastic_gradient.py:557: ConvergenceWarning: Maximum number of iteration reached before convergence. Consider increasing max_iter to improve the fit.\n",
            "  ConvergenceWarning)\n",
            "/usr/local/lib/python3.7/dist-packages/sklearn/linear_model/_stochastic_gradient.py:557: ConvergenceWarning: Maximum number of iteration reached before convergence. Consider increasing max_iter to improve the fit.\n",
            "  ConvergenceWarning)\n",
            "/usr/local/lib/python3.7/dist-packages/sklearn/linear_model/_stochastic_gradient.py:557: ConvergenceWarning: Maximum number of iteration reached before convergence. Consider increasing max_iter to improve the fit.\n",
            "  ConvergenceWarning)\n",
            "/usr/local/lib/python3.7/dist-packages/sklearn/linear_model/_stochastic_gradient.py:557: ConvergenceWarning: Maximum number of iteration reached before convergence. Consider increasing max_iter to improve the fit.\n",
            "  ConvergenceWarning)\n",
            "/usr/local/lib/python3.7/dist-packages/sklearn/linear_model/_stochastic_gradient.py:557: ConvergenceWarning: Maximum number of iteration reached before convergence. Consider increasing max_iter to improve the fit.\n",
            "  ConvergenceWarning)\n",
            "/usr/local/lib/python3.7/dist-packages/sklearn/linear_model/_stochastic_gradient.py:557: ConvergenceWarning: Maximum number of iteration reached before convergence. Consider increasing max_iter to improve the fit.\n",
            "  ConvergenceWarning)\n",
            "/usr/local/lib/python3.7/dist-packages/sklearn/linear_model/_stochastic_gradient.py:557: ConvergenceWarning: Maximum number of iteration reached before convergence. Consider increasing max_iter to improve the fit.\n",
            "  ConvergenceWarning)\n",
            "/usr/local/lib/python3.7/dist-packages/sklearn/linear_model/_stochastic_gradient.py:557: ConvergenceWarning: Maximum number of iteration reached before convergence. Consider increasing max_iter to improve the fit.\n",
            "  ConvergenceWarning)\n",
            "/usr/local/lib/python3.7/dist-packages/sklearn/linear_model/_stochastic_gradient.py:557: ConvergenceWarning: Maximum number of iteration reached before convergence. Consider increasing max_iter to improve the fit.\n",
            "  ConvergenceWarning)\n",
            "/usr/local/lib/python3.7/dist-packages/sklearn/linear_model/_stochastic_gradient.py:557: ConvergenceWarning: Maximum number of iteration reached before convergence. Consider increasing max_iter to improve the fit.\n",
            "  ConvergenceWarning)\n",
            "/usr/local/lib/python3.7/dist-packages/sklearn/linear_model/_stochastic_gradient.py:557: ConvergenceWarning: Maximum number of iteration reached before convergence. Consider increasing max_iter to improve the fit.\n",
            "  ConvergenceWarning)\n",
            "/usr/local/lib/python3.7/dist-packages/sklearn/linear_model/_stochastic_gradient.py:557: ConvergenceWarning: Maximum number of iteration reached before convergence. Consider increasing max_iter to improve the fit.\n",
            "  ConvergenceWarning)\n",
            "/usr/local/lib/python3.7/dist-packages/sklearn/linear_model/_stochastic_gradient.py:557: ConvergenceWarning: Maximum number of iteration reached before convergence. Consider increasing max_iter to improve the fit.\n",
            "  ConvergenceWarning)\n",
            "/usr/local/lib/python3.7/dist-packages/sklearn/linear_model/_stochastic_gradient.py:557: ConvergenceWarning: Maximum number of iteration reached before convergence. Consider increasing max_iter to improve the fit.\n",
            "  ConvergenceWarning)\n",
            "/usr/local/lib/python3.7/dist-packages/sklearn/linear_model/_stochastic_gradient.py:557: ConvergenceWarning: Maximum number of iteration reached before convergence. Consider increasing max_iter to improve the fit.\n",
            "  ConvergenceWarning)\n",
            "/usr/local/lib/python3.7/dist-packages/sklearn/linear_model/_stochastic_gradient.py:557: ConvergenceWarning: Maximum number of iteration reached before convergence. Consider increasing max_iter to improve the fit.\n",
            "  ConvergenceWarning)\n",
            "/usr/local/lib/python3.7/dist-packages/sklearn/linear_model/_stochastic_gradient.py:557: ConvergenceWarning: Maximum number of iteration reached before convergence. Consider increasing max_iter to improve the fit.\n",
            "  ConvergenceWarning)\n",
            "/usr/local/lib/python3.7/dist-packages/sklearn/linear_model/_stochastic_gradient.py:557: ConvergenceWarning: Maximum number of iteration reached before convergence. Consider increasing max_iter to improve the fit.\n",
            "  ConvergenceWarning)\n",
            "/usr/local/lib/python3.7/dist-packages/sklearn/linear_model/_stochastic_gradient.py:557: ConvergenceWarning: Maximum number of iteration reached before convergence. Consider increasing max_iter to improve the fit.\n",
            "  ConvergenceWarning)\n",
            "/usr/local/lib/python3.7/dist-packages/sklearn/linear_model/_stochastic_gradient.py:557: ConvergenceWarning: Maximum number of iteration reached before convergence. Consider increasing max_iter to improve the fit.\n",
            "  ConvergenceWarning)\n",
            "/usr/local/lib/python3.7/dist-packages/sklearn/linear_model/_stochastic_gradient.py:557: ConvergenceWarning: Maximum number of iteration reached before convergence. Consider increasing max_iter to improve the fit.\n",
            "  ConvergenceWarning)\n",
            "/usr/local/lib/python3.7/dist-packages/sklearn/linear_model/_stochastic_gradient.py:557: ConvergenceWarning: Maximum number of iteration reached before convergence. Consider increasing max_iter to improve the fit.\n",
            "  ConvergenceWarning)\n",
            "/usr/local/lib/python3.7/dist-packages/sklearn/linear_model/_stochastic_gradient.py:557: ConvergenceWarning: Maximum number of iteration reached before convergence. Consider increasing max_iter to improve the fit.\n",
            "  ConvergenceWarning)\n",
            "/usr/local/lib/python3.7/dist-packages/sklearn/linear_model/_stochastic_gradient.py:557: ConvergenceWarning: Maximum number of iteration reached before convergence. Consider increasing max_iter to improve the fit.\n",
            "  ConvergenceWarning)\n",
            "/usr/local/lib/python3.7/dist-packages/sklearn/linear_model/_stochastic_gradient.py:557: ConvergenceWarning: Maximum number of iteration reached before convergence. Consider increasing max_iter to improve the fit.\n",
            "  ConvergenceWarning)\n",
            "/usr/local/lib/python3.7/dist-packages/sklearn/linear_model/_stochastic_gradient.py:557: ConvergenceWarning: Maximum number of iteration reached before convergence. Consider increasing max_iter to improve the fit.\n",
            "  ConvergenceWarning)\n",
            "/usr/local/lib/python3.7/dist-packages/sklearn/linear_model/_stochastic_gradient.py:557: ConvergenceWarning: Maximum number of iteration reached before convergence. Consider increasing max_iter to improve the fit.\n",
            "  ConvergenceWarning)\n",
            "/usr/local/lib/python3.7/dist-packages/sklearn/linear_model/_stochastic_gradient.py:557: ConvergenceWarning: Maximum number of iteration reached before convergence. Consider increasing max_iter to improve the fit.\n",
            "  ConvergenceWarning)\n",
            "/usr/local/lib/python3.7/dist-packages/sklearn/linear_model/_stochastic_gradient.py:557: ConvergenceWarning: Maximum number of iteration reached before convergence. Consider increasing max_iter to improve the fit.\n",
            "  ConvergenceWarning)\n",
            "/usr/local/lib/python3.7/dist-packages/sklearn/linear_model/_stochastic_gradient.py:557: ConvergenceWarning: Maximum number of iteration reached before convergence. Consider increasing max_iter to improve the fit.\n",
            "  ConvergenceWarning)\n",
            "/usr/local/lib/python3.7/dist-packages/sklearn/linear_model/_stochastic_gradient.py:557: ConvergenceWarning: Maximum number of iteration reached before convergence. Consider increasing max_iter to improve the fit.\n",
            "  ConvergenceWarning)\n",
            "/usr/local/lib/python3.7/dist-packages/sklearn/linear_model/_stochastic_gradient.py:557: ConvergenceWarning: Maximum number of iteration reached before convergence. Consider increasing max_iter to improve the fit.\n",
            "  ConvergenceWarning)\n",
            "/usr/local/lib/python3.7/dist-packages/sklearn/linear_model/_stochastic_gradient.py:557: ConvergenceWarning: Maximum number of iteration reached before convergence. Consider increasing max_iter to improve the fit.\n",
            "  ConvergenceWarning)\n",
            "/usr/local/lib/python3.7/dist-packages/sklearn/linear_model/_stochastic_gradient.py:557: ConvergenceWarning: Maximum number of iteration reached before convergence. Consider increasing max_iter to improve the fit.\n",
            "  ConvergenceWarning)\n",
            "/usr/local/lib/python3.7/dist-packages/sklearn/linear_model/_stochastic_gradient.py:557: ConvergenceWarning: Maximum number of iteration reached before convergence. Consider increasing max_iter to improve the fit.\n",
            "  ConvergenceWarning)\n",
            "/usr/local/lib/python3.7/dist-packages/sklearn/linear_model/_stochastic_gradient.py:557: ConvergenceWarning: Maximum number of iteration reached before convergence. Consider increasing max_iter to improve the fit.\n",
            "  ConvergenceWarning)\n",
            "/usr/local/lib/python3.7/dist-packages/sklearn/linear_model/_stochastic_gradient.py:557: ConvergenceWarning: Maximum number of iteration reached before convergence. Consider increasing max_iter to improve the fit.\n",
            "  ConvergenceWarning)\n",
            "/usr/local/lib/python3.7/dist-packages/sklearn/linear_model/_stochastic_gradient.py:557: ConvergenceWarning: Maximum number of iteration reached before convergence. Consider increasing max_iter to improve the fit.\n",
            "  ConvergenceWarning)\n",
            "/usr/local/lib/python3.7/dist-packages/sklearn/linear_model/_stochastic_gradient.py:557: ConvergenceWarning: Maximum number of iteration reached before convergence. Consider increasing max_iter to improve the fit.\n",
            "  ConvergenceWarning)\n",
            "/usr/local/lib/python3.7/dist-packages/sklearn/linear_model/_stochastic_gradient.py:557: ConvergenceWarning: Maximum number of iteration reached before convergence. Consider increasing max_iter to improve the fit.\n",
            "  ConvergenceWarning)\n",
            "/usr/local/lib/python3.7/dist-packages/sklearn/linear_model/_stochastic_gradient.py:557: ConvergenceWarning: Maximum number of iteration reached before convergence. Consider increasing max_iter to improve the fit.\n",
            "  ConvergenceWarning)\n",
            "/usr/local/lib/python3.7/dist-packages/sklearn/linear_model/_stochastic_gradient.py:557: ConvergenceWarning: Maximum number of iteration reached before convergence. Consider increasing max_iter to improve the fit.\n",
            "  ConvergenceWarning)\n",
            "/usr/local/lib/python3.7/dist-packages/sklearn/linear_model/_stochastic_gradient.py:557: ConvergenceWarning: Maximum number of iteration reached before convergence. Consider increasing max_iter to improve the fit.\n",
            "  ConvergenceWarning)\n",
            "/usr/local/lib/python3.7/dist-packages/sklearn/linear_model/_stochastic_gradient.py:557: ConvergenceWarning: Maximum number of iteration reached before convergence. Consider increasing max_iter to improve the fit.\n",
            "  ConvergenceWarning)\n",
            "/usr/local/lib/python3.7/dist-packages/sklearn/linear_model/_stochastic_gradient.py:557: ConvergenceWarning: Maximum number of iteration reached before convergence. Consider increasing max_iter to improve the fit.\n",
            "  ConvergenceWarning)\n",
            "/usr/local/lib/python3.7/dist-packages/sklearn/linear_model/_stochastic_gradient.py:557: ConvergenceWarning: Maximum number of iteration reached before convergence. Consider increasing max_iter to improve the fit.\n",
            "  ConvergenceWarning)\n",
            "/usr/local/lib/python3.7/dist-packages/sklearn/linear_model/_stochastic_gradient.py:557: ConvergenceWarning: Maximum number of iteration reached before convergence. Consider increasing max_iter to improve the fit.\n",
            "  ConvergenceWarning)\n",
            "/usr/local/lib/python3.7/dist-packages/sklearn/linear_model/_stochastic_gradient.py:557: ConvergenceWarning: Maximum number of iteration reached before convergence. Consider increasing max_iter to improve the fit.\n",
            "  ConvergenceWarning)\n",
            "/usr/local/lib/python3.7/dist-packages/sklearn/linear_model/_stochastic_gradient.py:557: ConvergenceWarning: Maximum number of iteration reached before convergence. Consider increasing max_iter to improve the fit.\n",
            "  ConvergenceWarning)\n",
            "/usr/local/lib/python3.7/dist-packages/sklearn/linear_model/_stochastic_gradient.py:557: ConvergenceWarning: Maximum number of iteration reached before convergence. Consider increasing max_iter to improve the fit.\n",
            "  ConvergenceWarning)\n",
            "/usr/local/lib/python3.7/dist-packages/sklearn/linear_model/_stochastic_gradient.py:557: ConvergenceWarning: Maximum number of iteration reached before convergence. Consider increasing max_iter to improve the fit.\n",
            "  ConvergenceWarning)\n",
            "/usr/local/lib/python3.7/dist-packages/sklearn/linear_model/_stochastic_gradient.py:557: ConvergenceWarning: Maximum number of iteration reached before convergence. Consider increasing max_iter to improve the fit.\n",
            "  ConvergenceWarning)\n",
            "/usr/local/lib/python3.7/dist-packages/sklearn/linear_model/_stochastic_gradient.py:557: ConvergenceWarning: Maximum number of iteration reached before convergence. Consider increasing max_iter to improve the fit.\n",
            "  ConvergenceWarning)\n",
            "/usr/local/lib/python3.7/dist-packages/sklearn/linear_model/_stochastic_gradient.py:557: ConvergenceWarning: Maximum number of iteration reached before convergence. Consider increasing max_iter to improve the fit.\n",
            "  ConvergenceWarning)\n",
            "/usr/local/lib/python3.7/dist-packages/sklearn/linear_model/_stochastic_gradient.py:557: ConvergenceWarning: Maximum number of iteration reached before convergence. Consider increasing max_iter to improve the fit.\n",
            "  ConvergenceWarning)\n",
            "/usr/local/lib/python3.7/dist-packages/sklearn/linear_model/_stochastic_gradient.py:557: ConvergenceWarning: Maximum number of iteration reached before convergence. Consider increasing max_iter to improve the fit.\n",
            "  ConvergenceWarning)\n",
            "/usr/local/lib/python3.7/dist-packages/sklearn/linear_model/_stochastic_gradient.py:557: ConvergenceWarning: Maximum number of iteration reached before convergence. Consider increasing max_iter to improve the fit.\n",
            "  ConvergenceWarning)\n",
            "/usr/local/lib/python3.7/dist-packages/sklearn/linear_model/_stochastic_gradient.py:557: ConvergenceWarning: Maximum number of iteration reached before convergence. Consider increasing max_iter to improve the fit.\n",
            "  ConvergenceWarning)\n",
            "/usr/local/lib/python3.7/dist-packages/sklearn/linear_model/_stochastic_gradient.py:557: ConvergenceWarning: Maximum number of iteration reached before convergence. Consider increasing max_iter to improve the fit.\n",
            "  ConvergenceWarning)\n",
            "/usr/local/lib/python3.7/dist-packages/sklearn/linear_model/_stochastic_gradient.py:557: ConvergenceWarning: Maximum number of iteration reached before convergence. Consider increasing max_iter to improve the fit.\n",
            "  ConvergenceWarning)\n",
            "/usr/local/lib/python3.7/dist-packages/sklearn/linear_model/_stochastic_gradient.py:557: ConvergenceWarning: Maximum number of iteration reached before convergence. Consider increasing max_iter to improve the fit.\n",
            "  ConvergenceWarning)\n",
            "/usr/local/lib/python3.7/dist-packages/sklearn/linear_model/_stochastic_gradient.py:557: ConvergenceWarning: Maximum number of iteration reached before convergence. Consider increasing max_iter to improve the fit.\n",
            "  ConvergenceWarning)\n",
            "/usr/local/lib/python3.7/dist-packages/sklearn/linear_model/_stochastic_gradient.py:557: ConvergenceWarning: Maximum number of iteration reached before convergence. Consider increasing max_iter to improve the fit.\n",
            "  ConvergenceWarning)\n",
            "/usr/local/lib/python3.7/dist-packages/sklearn/linear_model/_stochastic_gradient.py:557: ConvergenceWarning: Maximum number of iteration reached before convergence. Consider increasing max_iter to improve the fit.\n",
            "  ConvergenceWarning)\n",
            "/usr/local/lib/python3.7/dist-packages/sklearn/linear_model/_stochastic_gradient.py:557: ConvergenceWarning: Maximum number of iteration reached before convergence. Consider increasing max_iter to improve the fit.\n",
            "  ConvergenceWarning)\n",
            "/usr/local/lib/python3.7/dist-packages/sklearn/linear_model/_stochastic_gradient.py:557: ConvergenceWarning: Maximum number of iteration reached before convergence. Consider increasing max_iter to improve the fit.\n",
            "  ConvergenceWarning)\n",
            "/usr/local/lib/python3.7/dist-packages/sklearn/linear_model/_stochastic_gradient.py:557: ConvergenceWarning: Maximum number of iteration reached before convergence. Consider increasing max_iter to improve the fit.\n",
            "  ConvergenceWarning)\n",
            "/usr/local/lib/python3.7/dist-packages/sklearn/linear_model/_stochastic_gradient.py:557: ConvergenceWarning: Maximum number of iteration reached before convergence. Consider increasing max_iter to improve the fit.\n",
            "  ConvergenceWarning)\n",
            "/usr/local/lib/python3.7/dist-packages/sklearn/linear_model/_stochastic_gradient.py:557: ConvergenceWarning: Maximum number of iteration reached before convergence. Consider increasing max_iter to improve the fit.\n",
            "  ConvergenceWarning)\n",
            "/usr/local/lib/python3.7/dist-packages/sklearn/linear_model/_stochastic_gradient.py:557: ConvergenceWarning: Maximum number of iteration reached before convergence. Consider increasing max_iter to improve the fit.\n",
            "  ConvergenceWarning)\n",
            "/usr/local/lib/python3.7/dist-packages/sklearn/linear_model/_stochastic_gradient.py:557: ConvergenceWarning: Maximum number of iteration reached before convergence. Consider increasing max_iter to improve the fit.\n",
            "  ConvergenceWarning)\n",
            "/usr/local/lib/python3.7/dist-packages/sklearn/linear_model/_stochastic_gradient.py:557: ConvergenceWarning: Maximum number of iteration reached before convergence. Consider increasing max_iter to improve the fit.\n",
            "  ConvergenceWarning)\n",
            "/usr/local/lib/python3.7/dist-packages/sklearn/linear_model/_stochastic_gradient.py:557: ConvergenceWarning: Maximum number of iteration reached before convergence. Consider increasing max_iter to improve the fit.\n",
            "  ConvergenceWarning)\n",
            "/usr/local/lib/python3.7/dist-packages/sklearn/linear_model/_stochastic_gradient.py:557: ConvergenceWarning: Maximum number of iteration reached before convergence. Consider increasing max_iter to improve the fit.\n",
            "  ConvergenceWarning)\n",
            "/usr/local/lib/python3.7/dist-packages/sklearn/linear_model/_stochastic_gradient.py:557: ConvergenceWarning: Maximum number of iteration reached before convergence. Consider increasing max_iter to improve the fit.\n",
            "  ConvergenceWarning)\n",
            "/usr/local/lib/python3.7/dist-packages/sklearn/linear_model/_stochastic_gradient.py:557: ConvergenceWarning: Maximum number of iteration reached before convergence. Consider increasing max_iter to improve the fit.\n",
            "  ConvergenceWarning)\n",
            "/usr/local/lib/python3.7/dist-packages/sklearn/linear_model/_stochastic_gradient.py:557: ConvergenceWarning: Maximum number of iteration reached before convergence. Consider increasing max_iter to improve the fit.\n",
            "  ConvergenceWarning)\n",
            "/usr/local/lib/python3.7/dist-packages/sklearn/linear_model/_stochastic_gradient.py:557: ConvergenceWarning: Maximum number of iteration reached before convergence. Consider increasing max_iter to improve the fit.\n",
            "  ConvergenceWarning)\n",
            "/usr/local/lib/python3.7/dist-packages/sklearn/linear_model/_stochastic_gradient.py:557: ConvergenceWarning: Maximum number of iteration reached before convergence. Consider increasing max_iter to improve the fit.\n",
            "  ConvergenceWarning)\n",
            "/usr/local/lib/python3.7/dist-packages/sklearn/linear_model/_stochastic_gradient.py:557: ConvergenceWarning: Maximum number of iteration reached before convergence. Consider increasing max_iter to improve the fit.\n",
            "  ConvergenceWarning)\n",
            "/usr/local/lib/python3.7/dist-packages/sklearn/linear_model/_stochastic_gradient.py:557: ConvergenceWarning: Maximum number of iteration reached before convergence. Consider increasing max_iter to improve the fit.\n",
            "  ConvergenceWarning)\n",
            "/usr/local/lib/python3.7/dist-packages/sklearn/linear_model/_stochastic_gradient.py:557: ConvergenceWarning: Maximum number of iteration reached before convergence. Consider increasing max_iter to improve the fit.\n",
            "  ConvergenceWarning)\n",
            "/usr/local/lib/python3.7/dist-packages/sklearn/linear_model/_stochastic_gradient.py:557: ConvergenceWarning: Maximum number of iteration reached before convergence. Consider increasing max_iter to improve the fit.\n",
            "  ConvergenceWarning)\n",
            "/usr/local/lib/python3.7/dist-packages/sklearn/linear_model/_stochastic_gradient.py:557: ConvergenceWarning: Maximum number of iteration reached before convergence. Consider increasing max_iter to improve the fit.\n",
            "  ConvergenceWarning)\n",
            "/usr/local/lib/python3.7/dist-packages/sklearn/linear_model/_stochastic_gradient.py:557: ConvergenceWarning: Maximum number of iteration reached before convergence. Consider increasing max_iter to improve the fit.\n",
            "  ConvergenceWarning)\n",
            "/usr/local/lib/python3.7/dist-packages/sklearn/linear_model/_stochastic_gradient.py:557: ConvergenceWarning: Maximum number of iteration reached before convergence. Consider increasing max_iter to improve the fit.\n",
            "  ConvergenceWarning)\n",
            "/usr/local/lib/python3.7/dist-packages/sklearn/linear_model/_stochastic_gradient.py:557: ConvergenceWarning: Maximum number of iteration reached before convergence. Consider increasing max_iter to improve the fit.\n",
            "  ConvergenceWarning)\n",
            "/usr/local/lib/python3.7/dist-packages/sklearn/linear_model/_stochastic_gradient.py:557: ConvergenceWarning: Maximum number of iteration reached before convergence. Consider increasing max_iter to improve the fit.\n",
            "  ConvergenceWarning)\n",
            "/usr/local/lib/python3.7/dist-packages/sklearn/linear_model/_stochastic_gradient.py:557: ConvergenceWarning: Maximum number of iteration reached before convergence. Consider increasing max_iter to improve the fit.\n",
            "  ConvergenceWarning)\n",
            "/usr/local/lib/python3.7/dist-packages/sklearn/linear_model/_stochastic_gradient.py:557: ConvergenceWarning: Maximum number of iteration reached before convergence. Consider increasing max_iter to improve the fit.\n",
            "  ConvergenceWarning)\n",
            "/usr/local/lib/python3.7/dist-packages/sklearn/linear_model/_stochastic_gradient.py:557: ConvergenceWarning: Maximum number of iteration reached before convergence. Consider increasing max_iter to improve the fit.\n",
            "  ConvergenceWarning)\n",
            "/usr/local/lib/python3.7/dist-packages/sklearn/linear_model/_stochastic_gradient.py:557: ConvergenceWarning: Maximum number of iteration reached before convergence. Consider increasing max_iter to improve the fit.\n",
            "  ConvergenceWarning)\n",
            "/usr/local/lib/python3.7/dist-packages/sklearn/linear_model/_stochastic_gradient.py:557: ConvergenceWarning: Maximum number of iteration reached before convergence. Consider increasing max_iter to improve the fit.\n",
            "  ConvergenceWarning)\n",
            "/usr/local/lib/python3.7/dist-packages/sklearn/linear_model/_stochastic_gradient.py:557: ConvergenceWarning: Maximum number of iteration reached before convergence. Consider increasing max_iter to improve the fit.\n",
            "  ConvergenceWarning)\n",
            "/usr/local/lib/python3.7/dist-packages/sklearn/linear_model/_stochastic_gradient.py:557: ConvergenceWarning: Maximum number of iteration reached before convergence. Consider increasing max_iter to improve the fit.\n",
            "  ConvergenceWarning)\n",
            "/usr/local/lib/python3.7/dist-packages/sklearn/linear_model/_stochastic_gradient.py:557: ConvergenceWarning: Maximum number of iteration reached before convergence. Consider increasing max_iter to improve the fit.\n",
            "  ConvergenceWarning)\n",
            "/usr/local/lib/python3.7/dist-packages/sklearn/linear_model/_stochastic_gradient.py:557: ConvergenceWarning: Maximum number of iteration reached before convergence. Consider increasing max_iter to improve the fit.\n",
            "  ConvergenceWarning)\n",
            "/usr/local/lib/python3.7/dist-packages/sklearn/linear_model/_stochastic_gradient.py:557: ConvergenceWarning: Maximum number of iteration reached before convergence. Consider increasing max_iter to improve the fit.\n",
            "  ConvergenceWarning)\n"
          ]
        }
      ]
    },
    {
      "cell_type": "code",
      "metadata": {
        "id": "t3uu8pnwX4_a",
        "colab": {
          "base_uri": "https://localhost:8080/"
        },
        "outputId": "6f3c8b1d-dc98-4f3a-a09f-870fc5a63375"
      },
      "source": [
        "best_clf"
      ],
      "execution_count": null,
      "outputs": [
        {
          "output_type": "execute_result",
          "data": {
            "text/plain": [
              "GridSearchCV(cv=5, error_score=nan,\n",
              "             estimator=SGDClassifier(alpha=0.0001, average=False,\n",
              "                                     class_weight=None, early_stopping=False,\n",
              "                                     epsilon=0.1, eta0=0.0, fit_intercept=True,\n",
              "                                     l1_ratio=0.15, learning_rate='optimal',\n",
              "                                     loss='hinge', max_iter=1000,\n",
              "                                     n_iter_no_change=5, n_jobs=None,\n",
              "                                     penalty='l2', power_t=0.5, random_state=0,\n",
              "                                     shuffle=True, tol=0.001,\n",
              "                                     validation_fraction=0.1, ver...\n",
              "             iid='deprecated', n_jobs=None,\n",
              "             param_grid={'alpha': [0.001, 0.0001, 1e-05, 0.02, 0.005],\n",
              "                         'epsilon': [0.01, 0.02, 0.05, 0.001],\n",
              "                         'learning_rate': ['optimal'],\n",
              "                         'loss': ['hinge', 'log', 'squared_epsilon_insensitive',\n",
              "                                  'squared_loss', 'modified_huber',\n",
              "                                  'perceptron'],\n",
              "                         'shuffle': [False], 'tol': [1e-05]},\n",
              "             pre_dispatch='2*n_jobs', refit=True, return_train_score=False,\n",
              "             scoring='f1', verbose=0)"
            ]
          },
          "metadata": {},
          "execution_count": 37
        }
      ]
    },
    {
      "cell_type": "markdown",
      "metadata": {
        "id": "cDXnHzSVWkqc"
      },
      "source": [
        "##### Check Results\n",
        "\n",
        "We can print the results of the best estimator found on the whole training set (we could also set apart a validation set if we find it useful)."
      ]
    },
    {
      "cell_type": "code",
      "metadata": {
        "id": "L-0_pkp9Wkqc",
        "colab": {
          "base_uri": "https://localhost:8080/"
        },
        "outputId": "919a5767-0195-4100-c385-74f63827f33a"
      },
      "source": [
        "print(classification_report(y_train, best_clf.predict(X_train)))"
      ],
      "execution_count": null,
      "outputs": [
        {
          "output_type": "stream",
          "name": "stdout",
          "text": [
            "              precision    recall  f1-score   support\n",
            "\n",
            "           0       0.77      0.92      0.84       958\n",
            "           1       0.77      0.50      0.61       532\n",
            "\n",
            "    accuracy                           0.77      1490\n",
            "   macro avg       0.77      0.71      0.72      1490\n",
            "weighted avg       0.77      0.77      0.75      1490\n",
            "\n"
          ]
        }
      ]
    },
    {
      "cell_type": "markdown",
      "metadata": {
        "id": "ZjegEwrXWkqd"
      },
      "source": [
        "##### Generate the output\n",
        "\n",
        "The last thing we do is generating a file that should be *submitted* on kaggle"
      ]
    },
    {
      "cell_type": "code",
      "metadata": {
        "id": "9QrHBnCqWkqd"
      },
      "source": [
        "test_id = test_df[\"Customer\"]\n",
        "test_pred = best_clf.predict(X_test)\n",
        "\n",
        "submission = pd.DataFrame(list(zip(test_id, test_pred)), columns=[\"Customer\", \"TravelInsurance\"])\n",
        "submission.to_csv(\"./travel_insurance_submission_SGDC.csv\", header=True, index=False)"
      ],
      "execution_count": null,
      "outputs": []
    },
    {
      "cell_type": "code",
      "metadata": {
        "id": "p8zXShY-Wkqd",
        "colab": {
          "base_uri": "https://localhost:8080/",
          "height": 422
        },
        "outputId": "6a328930-50a3-448c-9a3e-076205672ee6"
      },
      "source": [
        "submission"
      ],
      "execution_count": null,
      "outputs": [
        {
          "output_type": "execute_result",
          "data": {
            "text/html": [
              "<div>\n",
              "<style scoped>\n",
              "    .dataframe tbody tr th:only-of-type {\n",
              "        vertical-align: middle;\n",
              "    }\n",
              "\n",
              "    .dataframe tbody tr th {\n",
              "        vertical-align: top;\n",
              "    }\n",
              "\n",
              "    .dataframe thead th {\n",
              "        text-align: right;\n",
              "    }\n",
              "</style>\n",
              "<table border=\"1\" class=\"dataframe\">\n",
              "  <thead>\n",
              "    <tr style=\"text-align: right;\">\n",
              "      <th></th>\n",
              "      <th>Customer</th>\n",
              "      <th>TravelInsurance</th>\n",
              "    </tr>\n",
              "  </thead>\n",
              "  <tbody>\n",
              "    <tr>\n",
              "      <th>0</th>\n",
              "      <td>1491</td>\n",
              "      <td>0</td>\n",
              "    </tr>\n",
              "    <tr>\n",
              "      <th>1</th>\n",
              "      <td>1492</td>\n",
              "      <td>0</td>\n",
              "    </tr>\n",
              "    <tr>\n",
              "      <th>2</th>\n",
              "      <td>1493</td>\n",
              "      <td>1</td>\n",
              "    </tr>\n",
              "    <tr>\n",
              "      <th>3</th>\n",
              "      <td>1494</td>\n",
              "      <td>1</td>\n",
              "    </tr>\n",
              "    <tr>\n",
              "      <th>4</th>\n",
              "      <td>1495</td>\n",
              "      <td>1</td>\n",
              "    </tr>\n",
              "    <tr>\n",
              "      <th>...</th>\n",
              "      <td>...</td>\n",
              "      <td>...</td>\n",
              "    </tr>\n",
              "    <tr>\n",
              "      <th>492</th>\n",
              "      <td>1983</td>\n",
              "      <td>1</td>\n",
              "    </tr>\n",
              "    <tr>\n",
              "      <th>493</th>\n",
              "      <td>1984</td>\n",
              "      <td>0</td>\n",
              "    </tr>\n",
              "    <tr>\n",
              "      <th>494</th>\n",
              "      <td>1985</td>\n",
              "      <td>0</td>\n",
              "    </tr>\n",
              "    <tr>\n",
              "      <th>495</th>\n",
              "      <td>1986</td>\n",
              "      <td>0</td>\n",
              "    </tr>\n",
              "    <tr>\n",
              "      <th>496</th>\n",
              "      <td>1987</td>\n",
              "      <td>0</td>\n",
              "    </tr>\n",
              "  </tbody>\n",
              "</table>\n",
              "<p>497 rows × 2 columns</p>\n",
              "</div>"
            ],
            "text/plain": [
              "     Customer  TravelInsurance\n",
              "0        1491                0\n",
              "1        1492                0\n",
              "2        1493                1\n",
              "3        1494                1\n",
              "4        1495                1\n",
              "..        ...              ...\n",
              "492      1983                1\n",
              "493      1984                0\n",
              "494      1985                0\n",
              "495      1986                0\n",
              "496      1987                0\n",
              "\n",
              "[497 rows x 2 columns]"
            ]
          },
          "metadata": {},
          "execution_count": 40
        }
      ]
    },
    {
      "cell_type": "code",
      "metadata": {
        "id": "rG1qr9JQVPCU"
      },
      "source": [
        ""
      ],
      "execution_count": null,
      "outputs": []
    },
    {
      "cell_type": "markdown",
      "metadata": {
        "id": "FWB8EuiJhN2P"
      },
      "source": [
        "### SVM"
      ]
    },
    {
      "cell_type": "code",
      "metadata": {
        "id": "tN76L4jshRZv"
      },
      "source": [
        "from sklearn.svm import SVC\n",
        "from sklearn.model_selection import RandomizedSearchCV"
      ],
      "execution_count": null,
      "outputs": []
    },
    {
      "cell_type": "code",
      "metadata": {
        "id": "D6QZnfS0iQNw",
        "colab": {
          "base_uri": "https://localhost:8080/"
        },
        "outputId": "4bae8aad-cc42-4aea-c032-be763f13fefd"
      },
      "source": [
        "#Optimicemos los HP:\n",
        "\n",
        "def get_svm_parameters():\n",
        "    C = [0.1, 1, 10,]\n",
        "    gamma = [1, 0.1, 0.01]\n",
        "    kernel = ['rbf', 'linear','poli']\n",
        "    random_grid = {'C': C,'gamma': gamma, 'kernel':kernel}  \n",
        "    tol = 1e-5\n",
        "    model = SVC(random_state =42)\n",
        "    svm_random = RandomizedSearchCV(estimator = model, param_distributions = random_grid, \n",
        "                             n_iter = 5, cv = 3, verbose =  2, random_state = 42)\n",
        "    svm_random.fit(X_train, y_train)\n",
        "    parameters = svm_random.best_params_\n",
        "    \n",
        "    return parameters\n",
        "    \n",
        "svm_par = get_svm_parameters()"
      ],
      "execution_count": null,
      "outputs": [
        {
          "output_type": "stream",
          "name": "stdout",
          "text": [
            "Fitting 3 folds for each of 5 candidates, totalling 15 fits\n",
            "[CV] kernel=poli, gamma=0.01, C=0.1 ..................................\n",
            "[CV] ................... kernel=poli, gamma=0.01, C=0.1, total=   0.0s\n",
            "[CV] kernel=poli, gamma=0.01, C=0.1 ..................................\n",
            "[CV] ................... kernel=poli, gamma=0.01, C=0.1, total=   0.0s\n",
            "[CV] kernel=poli, gamma=0.01, C=0.1 ..................................\n",
            "[CV] ................... kernel=poli, gamma=0.01, C=0.1, total=   0.0s\n",
            "[CV] kernel=linear, gamma=0.1, C=1 ...................................\n",
            "[CV] .................... kernel=linear, gamma=0.1, C=1, total=   0.0s\n",
            "[CV] kernel=linear, gamma=0.1, C=1 ...................................\n",
            "[CV] .................... kernel=linear, gamma=0.1, C=1, total=   0.0s\n",
            "[CV] kernel=linear, gamma=0.1, C=1 ...................................\n",
            "[CV] .................... kernel=linear, gamma=0.1, C=1, total=   0.0s\n",
            "[CV] kernel=rbf, gamma=1, C=1 ........................................\n",
            "[CV] ......................... kernel=rbf, gamma=1, C=1, total=   0.1s\n",
            "[CV] kernel=rbf, gamma=1, C=1 ........................................\n"
          ]
        },
        {
          "output_type": "stream",
          "name": "stderr",
          "text": [
            "[Parallel(n_jobs=1)]: Using backend SequentialBackend with 1 concurrent workers.\n",
            "/usr/local/lib/python3.7/dist-packages/sklearn/model_selection/_validation.py:536: FitFailedWarning: Estimator fit failed. The score on this train-test partition for these parameters will be set to nan. Details: \n",
            "ValueError: 'poli' is not in list\n",
            "\n",
            "  FitFailedWarning)\n",
            "[Parallel(n_jobs=1)]: Done   1 out of   1 | elapsed:    0.0s remaining:    0.0s\n",
            "/usr/local/lib/python3.7/dist-packages/sklearn/model_selection/_validation.py:536: FitFailedWarning: Estimator fit failed. The score on this train-test partition for these parameters will be set to nan. Details: \n",
            "ValueError: 'poli' is not in list\n",
            "\n",
            "  FitFailedWarning)\n",
            "/usr/local/lib/python3.7/dist-packages/sklearn/model_selection/_validation.py:536: FitFailedWarning: Estimator fit failed. The score on this train-test partition for these parameters will be set to nan. Details: \n",
            "ValueError: 'poli' is not in list\n",
            "\n",
            "  FitFailedWarning)\n"
          ]
        },
        {
          "output_type": "stream",
          "name": "stdout",
          "text": [
            "[CV] ......................... kernel=rbf, gamma=1, C=1, total=   0.1s\n",
            "[CV] kernel=rbf, gamma=1, C=1 ........................................\n",
            "[CV] ......................... kernel=rbf, gamma=1, C=1, total=   0.1s\n",
            "[CV] kernel=rbf, gamma=0.1, C=10 .....................................\n",
            "[CV] ...................... kernel=rbf, gamma=0.1, C=10, total=   0.1s\n",
            "[CV] kernel=rbf, gamma=0.1, C=10 .....................................\n",
            "[CV] ...................... kernel=rbf, gamma=0.1, C=10, total=   0.1s\n",
            "[CV] kernel=rbf, gamma=0.1, C=10 .....................................\n",
            "[CV] ...................... kernel=rbf, gamma=0.1, C=10, total=   0.1s\n",
            "[CV] kernel=rbf, gamma=1, C=0.1 ......................................\n",
            "[CV] ....................... kernel=rbf, gamma=1, C=0.1, total=   0.1s\n",
            "[CV] kernel=rbf, gamma=1, C=0.1 ......................................\n",
            "[CV] ....................... kernel=rbf, gamma=1, C=0.1, total=   0.1s\n",
            "[CV] kernel=rbf, gamma=1, C=0.1 ......................................\n",
            "[CV] ....................... kernel=rbf, gamma=1, C=0.1, total=   0.1s\n"
          ]
        },
        {
          "output_type": "stream",
          "name": "stderr",
          "text": [
            "[Parallel(n_jobs=1)]: Done  15 out of  15 | elapsed:    0.7s finished\n"
          ]
        }
      ]
    },
    {
      "cell_type": "code",
      "metadata": {
        "id": "fnl_pzUmhW2I",
        "colab": {
          "base_uri": "https://localhost:8080/"
        },
        "outputId": "5488dd6e-08e2-4f24-9916-5aa70fc0b63b"
      },
      "source": [
        "clf = SVC(**svm_par,random_state=0)\n",
        "\n",
        "clf.fit(X_train, y_train)"
      ],
      "execution_count": null,
      "outputs": [
        {
          "output_type": "execute_result",
          "data": {
            "text/plain": [
              "SVC(C=10, break_ties=False, cache_size=200, class_weight=None, coef0=0.0,\n",
              "    decision_function_shape='ovr', degree=3, gamma=0.1, kernel='rbf',\n",
              "    max_iter=-1, probability=False, random_state=0, shrinking=True, tol=0.001,\n",
              "    verbose=False)"
            ]
          },
          "metadata": {},
          "execution_count": 43
        }
      ]
    },
    {
      "cell_type": "markdown",
      "metadata": {
        "id": "L7zQogrmhwE0"
      },
      "source": [
        "##### Check Results\n",
        "\n",
        "We can print the results of the best estimator found on the whole training set (we could also set apart a validation set if we find it useful)."
      ]
    },
    {
      "cell_type": "code",
      "metadata": {
        "id": "YCpXoTaghwE0",
        "colab": {
          "base_uri": "https://localhost:8080/"
        },
        "outputId": "5d9ea76b-ba64-4d45-d7dd-186c889f7987"
      },
      "source": [
        "print(classification_report(y_train, clf.predict(X_train)))"
      ],
      "execution_count": null,
      "outputs": [
        {
          "output_type": "stream",
          "name": "stdout",
          "text": [
            "              precision    recall  f1-score   support\n",
            "\n",
            "           0       0.82      0.97      0.89       958\n",
            "           1       0.92      0.62      0.74       532\n",
            "\n",
            "    accuracy                           0.84      1490\n",
            "   macro avg       0.87      0.79      0.81      1490\n",
            "weighted avg       0.86      0.84      0.83      1490\n",
            "\n"
          ]
        }
      ]
    },
    {
      "cell_type": "markdown",
      "metadata": {
        "id": "G3mk2vljhwE0"
      },
      "source": [
        "##### Generate the output\n",
        "\n",
        "The last thing we do is generating a file that should be *submitted* on kaggle"
      ]
    },
    {
      "cell_type": "code",
      "metadata": {
        "id": "ypmuI5URhwE0"
      },
      "source": [
        "test_id = test_df[\"Customer\"]\n",
        "test_pred = clf.predict(X_test)\n",
        "\n",
        "submission = pd.DataFrame(list(zip(test_id, test_pred)), columns=[\"Customer\", \"TravelInsurance\"])\n",
        "submission.to_csv(\"./travel_insurance_submission_SVM.csv\", header=True, index=False)"
      ],
      "execution_count": null,
      "outputs": []
    },
    {
      "cell_type": "code",
      "metadata": {
        "id": "OavzFiCIhwE0",
        "colab": {
          "base_uri": "https://localhost:8080/"
        },
        "outputId": "9b0c76ba-40df-4e2c-a76e-4d11429df3a6"
      },
      "source": [
        "submission"
      ],
      "execution_count": null,
      "outputs": [
        {
          "output_type": "execute_result",
          "data": {
            "text/html": [
              "<div>\n",
              "<style scoped>\n",
              "    .dataframe tbody tr th:only-of-type {\n",
              "        vertical-align: middle;\n",
              "    }\n",
              "\n",
              "    .dataframe tbody tr th {\n",
              "        vertical-align: top;\n",
              "    }\n",
              "\n",
              "    .dataframe thead th {\n",
              "        text-align: right;\n",
              "    }\n",
              "</style>\n",
              "<table border=\"1\" class=\"dataframe\">\n",
              "  <thead>\n",
              "    <tr style=\"text-align: right;\">\n",
              "      <th></th>\n",
              "      <th>Customer</th>\n",
              "      <th>TravelInsurance</th>\n",
              "    </tr>\n",
              "  </thead>\n",
              "  <tbody>\n",
              "    <tr>\n",
              "      <th>0</th>\n",
              "      <td>1491</td>\n",
              "      <td>0</td>\n",
              "    </tr>\n",
              "    <tr>\n",
              "      <th>1</th>\n",
              "      <td>1492</td>\n",
              "      <td>0</td>\n",
              "    </tr>\n",
              "    <tr>\n",
              "      <th>2</th>\n",
              "      <td>1493</td>\n",
              "      <td>1</td>\n",
              "    </tr>\n",
              "    <tr>\n",
              "      <th>3</th>\n",
              "      <td>1494</td>\n",
              "      <td>1</td>\n",
              "    </tr>\n",
              "    <tr>\n",
              "      <th>4</th>\n",
              "      <td>1495</td>\n",
              "      <td>1</td>\n",
              "    </tr>\n",
              "    <tr>\n",
              "      <th>...</th>\n",
              "      <td>...</td>\n",
              "      <td>...</td>\n",
              "    </tr>\n",
              "    <tr>\n",
              "      <th>492</th>\n",
              "      <td>1983</td>\n",
              "      <td>1</td>\n",
              "    </tr>\n",
              "    <tr>\n",
              "      <th>493</th>\n",
              "      <td>1984</td>\n",
              "      <td>0</td>\n",
              "    </tr>\n",
              "    <tr>\n",
              "      <th>494</th>\n",
              "      <td>1985</td>\n",
              "      <td>0</td>\n",
              "    </tr>\n",
              "    <tr>\n",
              "      <th>495</th>\n",
              "      <td>1986</td>\n",
              "      <td>0</td>\n",
              "    </tr>\n",
              "    <tr>\n",
              "      <th>496</th>\n",
              "      <td>1987</td>\n",
              "      <td>0</td>\n",
              "    </tr>\n",
              "  </tbody>\n",
              "</table>\n",
              "<p>497 rows × 2 columns</p>\n",
              "</div>"
            ],
            "text/plain": [
              "     Customer  TravelInsurance\n",
              "0        1491                0\n",
              "1        1492                0\n",
              "2        1493                1\n",
              "3        1494                1\n",
              "4        1495                1\n",
              "..        ...              ...\n",
              "492      1983                1\n",
              "493      1984                0\n",
              "494      1985                0\n",
              "495      1986                0\n",
              "496      1987                0\n",
              "\n",
              "[497 rows x 2 columns]"
            ]
          },
          "metadata": {},
          "execution_count": 46
        }
      ]
    },
    {
      "cell_type": "markdown",
      "metadata": {
        "id": "H8OaEhWRcmPc"
      },
      "source": [
        "### Vooting Clasifier RF4 Y SVM"
      ]
    },
    {
      "cell_type": "code",
      "metadata": {
        "id": "mlJl-jSKd9_J"
      },
      "source": [
        "from sklearn.ensemble import RandomForestClassifier, VotingClassifier"
      ],
      "execution_count": null,
      "outputs": []
    },
    {
      "cell_type": "code",
      "metadata": {
        "colab": {
          "base_uri": "https://localhost:8080/"
        },
        "id": "edxDvz1AZWVc",
        "outputId": "bf549f5d-87e8-455e-f6e0-47a42930bcec"
      },
      "source": [
        "def get_rf_parameters():\n",
        "    n_estimators = [10, 50, 100,200]\n",
        "    max_features = ['auto', 'sqrt', 'log2']\n",
        "    max_depth = [5, 10, 20, 50, None]\n",
        "    min_samples_split = [2, 4, 6, 8]\n",
        "    min_samples_leaf = [1, 2, 4, 6]\n",
        "    bootstrap = [True, False]\n",
        "\n",
        "    random_grid = {'n_estimators':n_estimators,\n",
        "                   'max_features': max_features,\n",
        "                   'max_depth': max_depth,\n",
        "                   'min_samples_split': min_samples_split,\n",
        "                   'min_samples_leaf': min_samples_leaf,\n",
        "                   'bootstrap':bootstrap}\n",
        "    model = ensemble.RandomForestClassifier(random_state =42)\n",
        "    rf_random = RandomizedSearchCV(estimator = model, param_distributions = random_grid, n_iter = 5, cv = 6, verbose =  2, random_state = 65)\n",
        "    rf_random.fit(X_train, y_train)\n",
        "    parameters = rf_random.best_params_\n",
        "    print(\"Best Parameters: \", parameters)\n",
        "    \n",
        "    return parameters\n",
        "\n",
        "\n",
        "rf_par = get_rf_parameters()"
      ],
      "execution_count": null,
      "outputs": [
        {
          "output_type": "stream",
          "name": "stdout",
          "text": [
            "Fitting 6 folds for each of 5 candidates, totalling 30 fits\n",
            "[CV] n_estimators=100, min_samples_split=8, min_samples_leaf=4, max_features=sqrt, max_depth=None, bootstrap=False \n",
            "[CV]  n_estimators=100, min_samples_split=8, min_samples_leaf=4, max_features=sqrt, max_depth=None, bootstrap=False, total=   0.2s\n",
            "[CV] n_estimators=100, min_samples_split=8, min_samples_leaf=4, max_features=sqrt, max_depth=None, bootstrap=False \n"
          ]
        },
        {
          "output_type": "stream",
          "name": "stderr",
          "text": [
            "[Parallel(n_jobs=1)]: Using backend SequentialBackend with 1 concurrent workers.\n",
            "[Parallel(n_jobs=1)]: Done   1 out of   1 | elapsed:    0.2s remaining:    0.0s\n"
          ]
        },
        {
          "output_type": "stream",
          "name": "stdout",
          "text": [
            "[CV]  n_estimators=100, min_samples_split=8, min_samples_leaf=4, max_features=sqrt, max_depth=None, bootstrap=False, total=   0.2s\n",
            "[CV] n_estimators=100, min_samples_split=8, min_samples_leaf=4, max_features=sqrt, max_depth=None, bootstrap=False \n",
            "[CV]  n_estimators=100, min_samples_split=8, min_samples_leaf=4, max_features=sqrt, max_depth=None, bootstrap=False, total=   0.2s\n",
            "[CV] n_estimators=100, min_samples_split=8, min_samples_leaf=4, max_features=sqrt, max_depth=None, bootstrap=False \n",
            "[CV]  n_estimators=100, min_samples_split=8, min_samples_leaf=4, max_features=sqrt, max_depth=None, bootstrap=False, total=   0.2s\n",
            "[CV] n_estimators=100, min_samples_split=8, min_samples_leaf=4, max_features=sqrt, max_depth=None, bootstrap=False \n",
            "[CV]  n_estimators=100, min_samples_split=8, min_samples_leaf=4, max_features=sqrt, max_depth=None, bootstrap=False, total=   0.2s\n",
            "[CV] n_estimators=100, min_samples_split=8, min_samples_leaf=4, max_features=sqrt, max_depth=None, bootstrap=False \n",
            "[CV]  n_estimators=100, min_samples_split=8, min_samples_leaf=4, max_features=sqrt, max_depth=None, bootstrap=False, total=   0.2s\n",
            "[CV] n_estimators=50, min_samples_split=4, min_samples_leaf=6, max_features=sqrt, max_depth=5, bootstrap=True \n",
            "[CV]  n_estimators=50, min_samples_split=4, min_samples_leaf=6, max_features=sqrt, max_depth=5, bootstrap=True, total=   0.1s\n",
            "[CV] n_estimators=50, min_samples_split=4, min_samples_leaf=6, max_features=sqrt, max_depth=5, bootstrap=True \n",
            "[CV]  n_estimators=50, min_samples_split=4, min_samples_leaf=6, max_features=sqrt, max_depth=5, bootstrap=True, total=   0.1s\n",
            "[CV] n_estimators=50, min_samples_split=4, min_samples_leaf=6, max_features=sqrt, max_depth=5, bootstrap=True \n",
            "[CV]  n_estimators=50, min_samples_split=4, min_samples_leaf=6, max_features=sqrt, max_depth=5, bootstrap=True, total=   0.1s\n",
            "[CV] n_estimators=50, min_samples_split=4, min_samples_leaf=6, max_features=sqrt, max_depth=5, bootstrap=True \n",
            "[CV]  n_estimators=50, min_samples_split=4, min_samples_leaf=6, max_features=sqrt, max_depth=5, bootstrap=True, total=   0.1s\n",
            "[CV] n_estimators=50, min_samples_split=4, min_samples_leaf=6, max_features=sqrt, max_depth=5, bootstrap=True \n",
            "[CV]  n_estimators=50, min_samples_split=4, min_samples_leaf=6, max_features=sqrt, max_depth=5, bootstrap=True, total=   0.1s\n",
            "[CV] n_estimators=50, min_samples_split=4, min_samples_leaf=6, max_features=sqrt, max_depth=5, bootstrap=True \n",
            "[CV]  n_estimators=50, min_samples_split=4, min_samples_leaf=6, max_features=sqrt, max_depth=5, bootstrap=True, total=   0.1s\n",
            "[CV] n_estimators=200, min_samples_split=8, min_samples_leaf=6, max_features=log2, max_depth=20, bootstrap=True \n",
            "[CV]  n_estimators=200, min_samples_split=8, min_samples_leaf=6, max_features=log2, max_depth=20, bootstrap=True, total=   0.4s\n",
            "[CV] n_estimators=200, min_samples_split=8, min_samples_leaf=6, max_features=log2, max_depth=20, bootstrap=True \n",
            "[CV]  n_estimators=200, min_samples_split=8, min_samples_leaf=6, max_features=log2, max_depth=20, bootstrap=True, total=   0.4s\n",
            "[CV] n_estimators=200, min_samples_split=8, min_samples_leaf=6, max_features=log2, max_depth=20, bootstrap=True \n",
            "[CV]  n_estimators=200, min_samples_split=8, min_samples_leaf=6, max_features=log2, max_depth=20, bootstrap=True, total=   0.4s\n",
            "[CV] n_estimators=200, min_samples_split=8, min_samples_leaf=6, max_features=log2, max_depth=20, bootstrap=True \n",
            "[CV]  n_estimators=200, min_samples_split=8, min_samples_leaf=6, max_features=log2, max_depth=20, bootstrap=True, total=   0.4s\n",
            "[CV] n_estimators=200, min_samples_split=8, min_samples_leaf=6, max_features=log2, max_depth=20, bootstrap=True \n",
            "[CV]  n_estimators=200, min_samples_split=8, min_samples_leaf=6, max_features=log2, max_depth=20, bootstrap=True, total=   0.4s\n",
            "[CV] n_estimators=200, min_samples_split=8, min_samples_leaf=6, max_features=log2, max_depth=20, bootstrap=True \n",
            "[CV]  n_estimators=200, min_samples_split=8, min_samples_leaf=6, max_features=log2, max_depth=20, bootstrap=True, total=   0.4s\n",
            "[CV] n_estimators=10, min_samples_split=6, min_samples_leaf=4, max_features=sqrt, max_depth=10, bootstrap=True \n",
            "[CV]  n_estimators=10, min_samples_split=6, min_samples_leaf=4, max_features=sqrt, max_depth=10, bootstrap=True, total=   0.0s\n",
            "[CV] n_estimators=10, min_samples_split=6, min_samples_leaf=4, max_features=sqrt, max_depth=10, bootstrap=True \n",
            "[CV]  n_estimators=10, min_samples_split=6, min_samples_leaf=4, max_features=sqrt, max_depth=10, bootstrap=True, total=   0.0s\n",
            "[CV] n_estimators=10, min_samples_split=6, min_samples_leaf=4, max_features=sqrt, max_depth=10, bootstrap=True \n",
            "[CV]  n_estimators=10, min_samples_split=6, min_samples_leaf=4, max_features=sqrt, max_depth=10, bootstrap=True, total=   0.0s\n",
            "[CV] n_estimators=10, min_samples_split=6, min_samples_leaf=4, max_features=sqrt, max_depth=10, bootstrap=True \n",
            "[CV]  n_estimators=10, min_samples_split=6, min_samples_leaf=4, max_features=sqrt, max_depth=10, bootstrap=True, total=   0.0s\n",
            "[CV] n_estimators=10, min_samples_split=6, min_samples_leaf=4, max_features=sqrt, max_depth=10, bootstrap=True \n",
            "[CV]  n_estimators=10, min_samples_split=6, min_samples_leaf=4, max_features=sqrt, max_depth=10, bootstrap=True, total=   0.0s\n",
            "[CV] n_estimators=10, min_samples_split=6, min_samples_leaf=4, max_features=sqrt, max_depth=10, bootstrap=True \n",
            "[CV]  n_estimators=10, min_samples_split=6, min_samples_leaf=4, max_features=sqrt, max_depth=10, bootstrap=True, total=   0.0s\n",
            "[CV] n_estimators=50, min_samples_split=4, min_samples_leaf=2, max_features=log2, max_depth=50, bootstrap=True \n",
            "[CV]  n_estimators=50, min_samples_split=4, min_samples_leaf=2, max_features=log2, max_depth=50, bootstrap=True, total=   0.1s\n",
            "[CV] n_estimators=50, min_samples_split=4, min_samples_leaf=2, max_features=log2, max_depth=50, bootstrap=True \n",
            "[CV]  n_estimators=50, min_samples_split=4, min_samples_leaf=2, max_features=log2, max_depth=50, bootstrap=True, total=   0.1s\n",
            "[CV] n_estimators=50, min_samples_split=4, min_samples_leaf=2, max_features=log2, max_depth=50, bootstrap=True \n",
            "[CV]  n_estimators=50, min_samples_split=4, min_samples_leaf=2, max_features=log2, max_depth=50, bootstrap=True, total=   0.1s\n",
            "[CV] n_estimators=50, min_samples_split=4, min_samples_leaf=2, max_features=log2, max_depth=50, bootstrap=True \n",
            "[CV]  n_estimators=50, min_samples_split=4, min_samples_leaf=2, max_features=log2, max_depth=50, bootstrap=True, total=   0.1s\n",
            "[CV] n_estimators=50, min_samples_split=4, min_samples_leaf=2, max_features=log2, max_depth=50, bootstrap=True \n",
            "[CV]  n_estimators=50, min_samples_split=4, min_samples_leaf=2, max_features=log2, max_depth=50, bootstrap=True, total=   0.1s\n",
            "[CV] n_estimators=50, min_samples_split=4, min_samples_leaf=2, max_features=log2, max_depth=50, bootstrap=True \n",
            "[CV]  n_estimators=50, min_samples_split=4, min_samples_leaf=2, max_features=log2, max_depth=50, bootstrap=True, total=   0.1s\n",
            "Best Parameters:  {'n_estimators': 100, 'min_samples_split': 8, 'min_samples_leaf': 4, 'max_features': 'sqrt', 'max_depth': None, 'bootstrap': False}\n"
          ]
        },
        {
          "output_type": "stream",
          "name": "stderr",
          "text": [
            "[Parallel(n_jobs=1)]: Done  30 out of  30 | elapsed:    4.8s finished\n"
          ]
        }
      ]
    },
    {
      "cell_type": "code",
      "metadata": {
        "colab": {
          "base_uri": "https://localhost:8080/"
        },
        "id": "izJMVHDPZZAH",
        "outputId": "49728a38-86bb-417a-f26b-16b6996d3a28"
      },
      "source": [
        "clf = ensemble.RandomForestClassifier(**rf_par)\n",
        "clf.fit(X_train, y_train)"
      ],
      "execution_count": null,
      "outputs": [
        {
          "output_type": "execute_result",
          "data": {
            "text/plain": [
              "RandomForestClassifier(bootstrap=False, ccp_alpha=0.0, class_weight=None,\n",
              "                       criterion='gini', max_depth=None, max_features='sqrt',\n",
              "                       max_leaf_nodes=None, max_samples=None,\n",
              "                       min_impurity_decrease=0.0, min_impurity_split=None,\n",
              "                       min_samples_leaf=4, min_samples_split=8,\n",
              "                       min_weight_fraction_leaf=0.0, n_estimators=100,\n",
              "                       n_jobs=None, oob_score=False, random_state=None,\n",
              "                       verbose=0, warm_start=False)"
            ]
          },
          "metadata": {},
          "execution_count": 49
        }
      ]
    },
    {
      "cell_type": "code",
      "metadata": {
        "colab": {
          "base_uri": "https://localhost:8080/"
        },
        "id": "4BmmvcomZgWH",
        "outputId": "db2b80bb-40b6-4a1a-ad09-7899430c9fa2"
      },
      "source": [
        "def get_svm_parameters():\n",
        "    C = [0.1, 1, 10,]\n",
        "    gamma = [1, 0.1, 0.01, 0.02]\n",
        "    kernel = ['rbf', 'linear','poli']\n",
        "    random_grid = {'C': C,'gamma': gamma, 'kernel':kernel}  \n",
        "    tol = 1e-5\n",
        "    model = SVC(random_state =42)\n",
        "    svm_random = RandomizedSearchCV(estimator = model, param_distributions = random_grid, \n",
        "                             n_iter = 5, cv = 3, verbose =  2, random_state = 42)\n",
        "    svm_random.fit(X_train, y_train)\n",
        "    parameters = svm_random.best_params_\n",
        "    \n",
        "    return parameters\n",
        "    \n",
        "svm_par = get_svm_parameters()"
      ],
      "execution_count": null,
      "outputs": [
        {
          "output_type": "stream",
          "name": "stdout",
          "text": [
            "Fitting 3 folds for each of 5 candidates, totalling 15 fits\n",
            "[CV] kernel=poli, gamma=0.02, C=10 ...................................\n",
            "[CV] .................... kernel=poli, gamma=0.02, C=10, total=   0.0s\n",
            "[CV] kernel=poli, gamma=0.02, C=10 ...................................\n",
            "[CV] .................... kernel=poli, gamma=0.02, C=10, total=   0.0s\n",
            "[CV] kernel=poli, gamma=0.02, C=10 ...................................\n",
            "[CV] .................... kernel=poli, gamma=0.02, C=10, total=   0.0s\n",
            "[CV] kernel=linear, gamma=1, C=1 .....................................\n",
            "[CV] ...................... kernel=linear, gamma=1, C=1, total=   0.0s\n",
            "[CV] kernel=linear, gamma=1, C=1 .....................................\n",
            "[CV] ...................... kernel=linear, gamma=1, C=1, total=   0.0s\n",
            "[CV] kernel=linear, gamma=1, C=1 .....................................\n",
            "[CV] ...................... kernel=linear, gamma=1, C=1, total=   0.0s\n",
            "[CV] kernel=poli, gamma=1, C=10 ......................................\n",
            "[CV] ....................... kernel=poli, gamma=1, C=10, total=   0.0s\n",
            "[CV] kernel=poli, gamma=1, C=10 ......................................\n",
            "[CV] ....................... kernel=poli, gamma=1, C=10, total=   0.0s\n",
            "[CV] kernel=poli, gamma=1, C=10 ......................................\n",
            "[CV] ....................... kernel=poli, gamma=1, C=10, total=   0.0s\n",
            "[CV] kernel=rbf, gamma=0.01, C=10 ....................................\n",
            "[CV] ..................... kernel=rbf, gamma=0.01, C=10, total=   0.1s\n",
            "[CV] kernel=rbf, gamma=0.01, C=10 ....................................\n"
          ]
        },
        {
          "output_type": "stream",
          "name": "stderr",
          "text": [
            "[Parallel(n_jobs=1)]: Using backend SequentialBackend with 1 concurrent workers.\n",
            "/usr/local/lib/python3.7/dist-packages/sklearn/model_selection/_validation.py:536: FitFailedWarning: Estimator fit failed. The score on this train-test partition for these parameters will be set to nan. Details: \n",
            "ValueError: 'poli' is not in list\n",
            "\n",
            "  FitFailedWarning)\n",
            "[Parallel(n_jobs=1)]: Done   1 out of   1 | elapsed:    0.0s remaining:    0.0s\n",
            "/usr/local/lib/python3.7/dist-packages/sklearn/model_selection/_validation.py:536: FitFailedWarning: Estimator fit failed. The score on this train-test partition for these parameters will be set to nan. Details: \n",
            "ValueError: 'poli' is not in list\n",
            "\n",
            "  FitFailedWarning)\n",
            "/usr/local/lib/python3.7/dist-packages/sklearn/model_selection/_validation.py:536: FitFailedWarning: Estimator fit failed. The score on this train-test partition for these parameters will be set to nan. Details: \n",
            "ValueError: 'poli' is not in list\n",
            "\n",
            "  FitFailedWarning)\n",
            "/usr/local/lib/python3.7/dist-packages/sklearn/model_selection/_validation.py:536: FitFailedWarning: Estimator fit failed. The score on this train-test partition for these parameters will be set to nan. Details: \n",
            "ValueError: 'poli' is not in list\n",
            "\n",
            "  FitFailedWarning)\n",
            "/usr/local/lib/python3.7/dist-packages/sklearn/model_selection/_validation.py:536: FitFailedWarning: Estimator fit failed. The score on this train-test partition for these parameters will be set to nan. Details: \n",
            "ValueError: 'poli' is not in list\n",
            "\n",
            "  FitFailedWarning)\n",
            "/usr/local/lib/python3.7/dist-packages/sklearn/model_selection/_validation.py:536: FitFailedWarning: Estimator fit failed. The score on this train-test partition for these parameters will be set to nan. Details: \n",
            "ValueError: 'poli' is not in list\n",
            "\n",
            "  FitFailedWarning)\n"
          ]
        },
        {
          "output_type": "stream",
          "name": "stdout",
          "text": [
            "[CV] ..................... kernel=rbf, gamma=0.01, C=10, total=   0.1s\n",
            "[CV] kernel=rbf, gamma=0.01, C=10 ....................................\n",
            "[CV] ..................... kernel=rbf, gamma=0.01, C=10, total=   0.1s\n",
            "[CV] kernel=linear, gamma=0.1, C=1 ...................................\n",
            "[CV] .................... kernel=linear, gamma=0.1, C=1, total=   0.0s\n",
            "[CV] kernel=linear, gamma=0.1, C=1 ...................................\n",
            "[CV] .................... kernel=linear, gamma=0.1, C=1, total=   0.0s\n",
            "[CV] kernel=linear, gamma=0.1, C=1 ...................................\n",
            "[CV] .................... kernel=linear, gamma=0.1, C=1, total=   0.0s\n"
          ]
        },
        {
          "output_type": "stream",
          "name": "stderr",
          "text": [
            "[Parallel(n_jobs=1)]: Done  15 out of  15 | elapsed:    0.4s finished\n"
          ]
        }
      ]
    },
    {
      "cell_type": "code",
      "metadata": {
        "colab": {
          "base_uri": "https://localhost:8080/"
        },
        "id": "of90FCpoZgki",
        "outputId": "d4cbacea-8f12-43cc-b5d4-f520250de0ad"
      },
      "source": [
        "clf_SVC = SVC(**svm_par,random_state=0)\n",
        "\n",
        "clf_SVC.fit(X_train, y_train)"
      ],
      "execution_count": null,
      "outputs": [
        {
          "output_type": "execute_result",
          "data": {
            "text/plain": [
              "SVC(C=10, break_ties=False, cache_size=200, class_weight=None, coef0=0.0,\n",
              "    decision_function_shape='ovr', degree=3, gamma=0.01, kernel='rbf',\n",
              "    max_iter=-1, probability=False, random_state=0, shrinking=True, tol=0.001,\n",
              "    verbose=False)"
            ]
          },
          "metadata": {},
          "execution_count": 51
        }
      ]
    },
    {
      "cell_type": "code",
      "metadata": {
        "id": "k1AV25I2jqRe"
      },
      "source": [
        "param_grid = {\n",
        "    'loss': ['hinge', 'log', 'squared_epsilon_insensitive','squared_loss','modified_huber','perceptron'],\n",
        "    'learning_rate': ['optimal'],\n",
        "    'epsilon': [0.05, 0.02, 0.01],\n",
        "    'alpha': [0.001, 0.0001,0.00001, 0.02, 0.005]\n",
        "}"
      ],
      "execution_count": null,
      "outputs": []
    },
    {
      "cell_type": "code",
      "metadata": {
        "colab": {
          "base_uri": "https://localhost:8080/"
        },
        "id": "0JZOQ0objuKv",
        "outputId": "b8ddbce2-469b-48fa-f248-533b2ae5d341"
      },
      "source": [
        "clf = SGDClassifier(random_state=0)\n",
        "\n",
        "best_clf_SGDC = GridSearchCV(clf, param_grid, scoring='f1', cv=5)\n",
        "\n",
        "best_clf_SGDC.fit(X_train, y_train)"
      ],
      "execution_count": null,
      "outputs": [
        {
          "output_type": "stream",
          "name": "stderr",
          "text": [
            "/usr/local/lib/python3.7/dist-packages/sklearn/linear_model/_stochastic_gradient.py:557: ConvergenceWarning: Maximum number of iteration reached before convergence. Consider increasing max_iter to improve the fit.\n",
            "  ConvergenceWarning)\n",
            "/usr/local/lib/python3.7/dist-packages/sklearn/linear_model/_stochastic_gradient.py:557: ConvergenceWarning: Maximum number of iteration reached before convergence. Consider increasing max_iter to improve the fit.\n",
            "  ConvergenceWarning)\n",
            "/usr/local/lib/python3.7/dist-packages/sklearn/linear_model/_stochastic_gradient.py:557: ConvergenceWarning: Maximum number of iteration reached before convergence. Consider increasing max_iter to improve the fit.\n",
            "  ConvergenceWarning)\n",
            "/usr/local/lib/python3.7/dist-packages/sklearn/linear_model/_stochastic_gradient.py:557: ConvergenceWarning: Maximum number of iteration reached before convergence. Consider increasing max_iter to improve the fit.\n",
            "  ConvergenceWarning)\n",
            "/usr/local/lib/python3.7/dist-packages/sklearn/linear_model/_stochastic_gradient.py:557: ConvergenceWarning: Maximum number of iteration reached before convergence. Consider increasing max_iter to improve the fit.\n",
            "  ConvergenceWarning)\n",
            "/usr/local/lib/python3.7/dist-packages/sklearn/linear_model/_stochastic_gradient.py:557: ConvergenceWarning: Maximum number of iteration reached before convergence. Consider increasing max_iter to improve the fit.\n",
            "  ConvergenceWarning)\n",
            "/usr/local/lib/python3.7/dist-packages/sklearn/linear_model/_stochastic_gradient.py:557: ConvergenceWarning: Maximum number of iteration reached before convergence. Consider increasing max_iter to improve the fit.\n",
            "  ConvergenceWarning)\n",
            "/usr/local/lib/python3.7/dist-packages/sklearn/linear_model/_stochastic_gradient.py:557: ConvergenceWarning: Maximum number of iteration reached before convergence. Consider increasing max_iter to improve the fit.\n",
            "  ConvergenceWarning)\n",
            "/usr/local/lib/python3.7/dist-packages/sklearn/linear_model/_stochastic_gradient.py:557: ConvergenceWarning: Maximum number of iteration reached before convergence. Consider increasing max_iter to improve the fit.\n",
            "  ConvergenceWarning)\n",
            "/usr/local/lib/python3.7/dist-packages/sklearn/linear_model/_stochastic_gradient.py:557: ConvergenceWarning: Maximum number of iteration reached before convergence. Consider increasing max_iter to improve the fit.\n",
            "  ConvergenceWarning)\n",
            "/usr/local/lib/python3.7/dist-packages/sklearn/linear_model/_stochastic_gradient.py:557: ConvergenceWarning: Maximum number of iteration reached before convergence. Consider increasing max_iter to improve the fit.\n",
            "  ConvergenceWarning)\n",
            "/usr/local/lib/python3.7/dist-packages/sklearn/linear_model/_stochastic_gradient.py:557: ConvergenceWarning: Maximum number of iteration reached before convergence. Consider increasing max_iter to improve the fit.\n",
            "  ConvergenceWarning)\n",
            "/usr/local/lib/python3.7/dist-packages/sklearn/linear_model/_stochastic_gradient.py:557: ConvergenceWarning: Maximum number of iteration reached before convergence. Consider increasing max_iter to improve the fit.\n",
            "  ConvergenceWarning)\n",
            "/usr/local/lib/python3.7/dist-packages/sklearn/linear_model/_stochastic_gradient.py:557: ConvergenceWarning: Maximum number of iteration reached before convergence. Consider increasing max_iter to improve the fit.\n",
            "  ConvergenceWarning)\n",
            "/usr/local/lib/python3.7/dist-packages/sklearn/linear_model/_stochastic_gradient.py:557: ConvergenceWarning: Maximum number of iteration reached before convergence. Consider increasing max_iter to improve the fit.\n",
            "  ConvergenceWarning)\n",
            "/usr/local/lib/python3.7/dist-packages/sklearn/linear_model/_stochastic_gradient.py:557: ConvergenceWarning: Maximum number of iteration reached before convergence. Consider increasing max_iter to improve the fit.\n",
            "  ConvergenceWarning)\n",
            "/usr/local/lib/python3.7/dist-packages/sklearn/linear_model/_stochastic_gradient.py:557: ConvergenceWarning: Maximum number of iteration reached before convergence. Consider increasing max_iter to improve the fit.\n",
            "  ConvergenceWarning)\n",
            "/usr/local/lib/python3.7/dist-packages/sklearn/linear_model/_stochastic_gradient.py:557: ConvergenceWarning: Maximum number of iteration reached before convergence. Consider increasing max_iter to improve the fit.\n",
            "  ConvergenceWarning)\n"
          ]
        },
        {
          "output_type": "execute_result",
          "data": {
            "text/plain": [
              "GridSearchCV(cv=5, error_score=nan,\n",
              "             estimator=SGDClassifier(alpha=0.0001, average=False,\n",
              "                                     class_weight=None, early_stopping=False,\n",
              "                                     epsilon=0.1, eta0=0.0, fit_intercept=True,\n",
              "                                     l1_ratio=0.15, learning_rate='optimal',\n",
              "                                     loss='hinge', max_iter=1000,\n",
              "                                     n_iter_no_change=5, n_jobs=None,\n",
              "                                     penalty='l2', power_t=0.5, random_state=0,\n",
              "                                     shuffle=True, tol=0.001,\n",
              "                                     validation_fraction=0.1, verbose=0,\n",
              "                                     warm_start=False),\n",
              "             iid='deprecated', n_jobs=None,\n",
              "             param_grid={'alpha': [0.001, 0.0001, 1e-05, 0.02, 0.005],\n",
              "                         'epsilon': [0.05, 0.02, 0.01],\n",
              "                         'learning_rate': ['optimal'],\n",
              "                         'loss': ['hinge', 'log', 'squared_epsilon_insensitive',\n",
              "                                  'squared_loss', 'modified_huber',\n",
              "                                  'perceptron']},\n",
              "             pre_dispatch='2*n_jobs', refit=True, return_train_score=False,\n",
              "             scoring='f1', verbose=0)"
            ]
          },
          "metadata": {},
          "execution_count": 53
        }
      ]
    },
    {
      "cell_type": "code",
      "metadata": {
        "colab": {
          "base_uri": "https://localhost:8080/"
        },
        "id": "9mFWVhxPfYmT",
        "outputId": "45d5848f-bf40-452e-bab4-d51fe61ac725"
      },
      "source": [
        "eclf1 = VotingClassifier(estimators=[\n",
        "       ('Random', clf), ('SVM',clf_SVC), ('best_clf_SGDC', best_clf_SGDC)], voting='hard', weights=[2,1,1],\n",
        "        flatten_transform=True)\n",
        "eclf1 = eclf1.fit(X_train, y_train)\n",
        "print(eclf1.predict(X_train))"
      ],
      "execution_count": null,
      "outputs": [
        {
          "output_type": "stream",
          "name": "stderr",
          "text": [
            "/usr/local/lib/python3.7/dist-packages/sklearn/linear_model/_stochastic_gradient.py:557: ConvergenceWarning: Maximum number of iteration reached before convergence. Consider increasing max_iter to improve the fit.\n",
            "  ConvergenceWarning)\n",
            "/usr/local/lib/python3.7/dist-packages/sklearn/linear_model/_stochastic_gradient.py:557: ConvergenceWarning: Maximum number of iteration reached before convergence. Consider increasing max_iter to improve the fit.\n",
            "  ConvergenceWarning)\n",
            "/usr/local/lib/python3.7/dist-packages/sklearn/linear_model/_stochastic_gradient.py:557: ConvergenceWarning: Maximum number of iteration reached before convergence. Consider increasing max_iter to improve the fit.\n",
            "  ConvergenceWarning)\n",
            "/usr/local/lib/python3.7/dist-packages/sklearn/linear_model/_stochastic_gradient.py:557: ConvergenceWarning: Maximum number of iteration reached before convergence. Consider increasing max_iter to improve the fit.\n",
            "  ConvergenceWarning)\n",
            "/usr/local/lib/python3.7/dist-packages/sklearn/linear_model/_stochastic_gradient.py:557: ConvergenceWarning: Maximum number of iteration reached before convergence. Consider increasing max_iter to improve the fit.\n",
            "  ConvergenceWarning)\n",
            "/usr/local/lib/python3.7/dist-packages/sklearn/linear_model/_stochastic_gradient.py:557: ConvergenceWarning: Maximum number of iteration reached before convergence. Consider increasing max_iter to improve the fit.\n",
            "  ConvergenceWarning)\n",
            "/usr/local/lib/python3.7/dist-packages/sklearn/linear_model/_stochastic_gradient.py:557: ConvergenceWarning: Maximum number of iteration reached before convergence. Consider increasing max_iter to improve the fit.\n",
            "  ConvergenceWarning)\n",
            "/usr/local/lib/python3.7/dist-packages/sklearn/linear_model/_stochastic_gradient.py:557: ConvergenceWarning: Maximum number of iteration reached before convergence. Consider increasing max_iter to improve the fit.\n",
            "  ConvergenceWarning)\n",
            "/usr/local/lib/python3.7/dist-packages/sklearn/linear_model/_stochastic_gradient.py:557: ConvergenceWarning: Maximum number of iteration reached before convergence. Consider increasing max_iter to improve the fit.\n",
            "  ConvergenceWarning)\n",
            "/usr/local/lib/python3.7/dist-packages/sklearn/linear_model/_stochastic_gradient.py:557: ConvergenceWarning: Maximum number of iteration reached before convergence. Consider increasing max_iter to improve the fit.\n",
            "  ConvergenceWarning)\n",
            "/usr/local/lib/python3.7/dist-packages/sklearn/linear_model/_stochastic_gradient.py:557: ConvergenceWarning: Maximum number of iteration reached before convergence. Consider increasing max_iter to improve the fit.\n",
            "  ConvergenceWarning)\n",
            "/usr/local/lib/python3.7/dist-packages/sklearn/linear_model/_stochastic_gradient.py:557: ConvergenceWarning: Maximum number of iteration reached before convergence. Consider increasing max_iter to improve the fit.\n",
            "  ConvergenceWarning)\n",
            "/usr/local/lib/python3.7/dist-packages/sklearn/linear_model/_stochastic_gradient.py:557: ConvergenceWarning: Maximum number of iteration reached before convergence. Consider increasing max_iter to improve the fit.\n",
            "  ConvergenceWarning)\n",
            "/usr/local/lib/python3.7/dist-packages/sklearn/linear_model/_stochastic_gradient.py:557: ConvergenceWarning: Maximum number of iteration reached before convergence. Consider increasing max_iter to improve the fit.\n",
            "  ConvergenceWarning)\n",
            "/usr/local/lib/python3.7/dist-packages/sklearn/linear_model/_stochastic_gradient.py:557: ConvergenceWarning: Maximum number of iteration reached before convergence. Consider increasing max_iter to improve the fit.\n",
            "  ConvergenceWarning)\n",
            "/usr/local/lib/python3.7/dist-packages/sklearn/linear_model/_stochastic_gradient.py:557: ConvergenceWarning: Maximum number of iteration reached before convergence. Consider increasing max_iter to improve the fit.\n",
            "  ConvergenceWarning)\n",
            "/usr/local/lib/python3.7/dist-packages/sklearn/linear_model/_stochastic_gradient.py:557: ConvergenceWarning: Maximum number of iteration reached before convergence. Consider increasing max_iter to improve the fit.\n",
            "  ConvergenceWarning)\n",
            "/usr/local/lib/python3.7/dist-packages/sklearn/linear_model/_stochastic_gradient.py:557: ConvergenceWarning: Maximum number of iteration reached before convergence. Consider increasing max_iter to improve the fit.\n",
            "  ConvergenceWarning)\n"
          ]
        },
        {
          "output_type": "stream",
          "name": "stdout",
          "text": [
            "[0 0 0 ... 0 0 0]\n"
          ]
        }
      ]
    },
    {
      "cell_type": "code",
      "metadata": {
        "colab": {
          "base_uri": "https://localhost:8080/"
        },
        "id": "xMhefiEJgMAY",
        "outputId": "6a0c2d90-6e1f-4aaa-ca23-2818c375ef38"
      },
      "source": [
        "print(classification_report(y_train, eclf1.predict(X_train)))"
      ],
      "execution_count": null,
      "outputs": [
        {
          "output_type": "stream",
          "name": "stdout",
          "text": [
            "              precision    recall  f1-score   support\n",
            "\n",
            "           0       0.76      0.92      0.84       958\n",
            "           1       0.78      0.48      0.60       532\n",
            "\n",
            "    accuracy                           0.77      1490\n",
            "   macro avg       0.77      0.70      0.72      1490\n",
            "weighted avg       0.77      0.77      0.75      1490\n",
            "\n"
          ]
        }
      ]
    },
    {
      "cell_type": "code",
      "metadata": {
        "id": "o-3JK1gwhvPP"
      },
      "source": [
        "test_id = test_df[\"Customer\"]\n",
        "test_pred = eclf1.predict(X_test)\n",
        "\n",
        "submission = pd.DataFrame(list(zip(test_id, test_pred)), columns=[\"Customer\", \"TravelInsurance\"])\n",
        "submission.to_csv(\"./travel_insurance_vooting_clasifier.csv\", header=True, index=False)"
      ],
      "execution_count": null,
      "outputs": []
    },
    {
      "cell_type": "code",
      "metadata": {
        "colab": {
          "base_uri": "https://localhost:8080/"
        },
        "id": "sD-U4H5IigMZ",
        "outputId": "f83cf602-bebd-4b21-f8b1-66f49fdb6b1e"
      },
      "source": [
        "submission"
      ],
      "execution_count": null,
      "outputs": [
        {
          "output_type": "execute_result",
          "data": {
            "text/html": [
              "<div>\n",
              "<style scoped>\n",
              "    .dataframe tbody tr th:only-of-type {\n",
              "        vertical-align: middle;\n",
              "    }\n",
              "\n",
              "    .dataframe tbody tr th {\n",
              "        vertical-align: top;\n",
              "    }\n",
              "\n",
              "    .dataframe thead th {\n",
              "        text-align: right;\n",
              "    }\n",
              "</style>\n",
              "<table border=\"1\" class=\"dataframe\">\n",
              "  <thead>\n",
              "    <tr style=\"text-align: right;\">\n",
              "      <th></th>\n",
              "      <th>Customer</th>\n",
              "      <th>TravelInsurance</th>\n",
              "    </tr>\n",
              "  </thead>\n",
              "  <tbody>\n",
              "    <tr>\n",
              "      <th>0</th>\n",
              "      <td>1491</td>\n",
              "      <td>0</td>\n",
              "    </tr>\n",
              "    <tr>\n",
              "      <th>1</th>\n",
              "      <td>1492</td>\n",
              "      <td>0</td>\n",
              "    </tr>\n",
              "    <tr>\n",
              "      <th>2</th>\n",
              "      <td>1493</td>\n",
              "      <td>1</td>\n",
              "    </tr>\n",
              "    <tr>\n",
              "      <th>3</th>\n",
              "      <td>1494</td>\n",
              "      <td>1</td>\n",
              "    </tr>\n",
              "    <tr>\n",
              "      <th>4</th>\n",
              "      <td>1495</td>\n",
              "      <td>1</td>\n",
              "    </tr>\n",
              "    <tr>\n",
              "      <th>...</th>\n",
              "      <td>...</td>\n",
              "      <td>...</td>\n",
              "    </tr>\n",
              "    <tr>\n",
              "      <th>492</th>\n",
              "      <td>1983</td>\n",
              "      <td>1</td>\n",
              "    </tr>\n",
              "    <tr>\n",
              "      <th>493</th>\n",
              "      <td>1984</td>\n",
              "      <td>0</td>\n",
              "    </tr>\n",
              "    <tr>\n",
              "      <th>494</th>\n",
              "      <td>1985</td>\n",
              "      <td>0</td>\n",
              "    </tr>\n",
              "    <tr>\n",
              "      <th>495</th>\n",
              "      <td>1986</td>\n",
              "      <td>0</td>\n",
              "    </tr>\n",
              "    <tr>\n",
              "      <th>496</th>\n",
              "      <td>1987</td>\n",
              "      <td>0</td>\n",
              "    </tr>\n",
              "  </tbody>\n",
              "</table>\n",
              "<p>497 rows × 2 columns</p>\n",
              "</div>"
            ],
            "text/plain": [
              "     Customer  TravelInsurance\n",
              "0        1491                0\n",
              "1        1492                0\n",
              "2        1493                1\n",
              "3        1494                1\n",
              "4        1495                1\n",
              "..        ...              ...\n",
              "492      1983                1\n",
              "493      1984                0\n",
              "494      1985                0\n",
              "495      1986                0\n",
              "496      1987                0\n",
              "\n",
              "[497 rows x 2 columns]"
            ]
          },
          "metadata": {},
          "execution_count": 57
        }
      ]
    },
    {
      "cell_type": "markdown",
      "metadata": {
        "id": "q6hcaLiUuP5W"
      },
      "source": [
        "### XGBoost"
      ]
    },
    {
      "cell_type": "code",
      "metadata": {
        "id": "6O6e-LFxuVZ5"
      },
      "source": [
        "import xgboost as xgb"
      ],
      "execution_count": null,
      "outputs": []
    },
    {
      "cell_type": "code",
      "metadata": {
        "id": "SP0EPYTvzYHt"
      },
      "source": [
        "dtrain = xgb.DMatrix(X_train, label=y_train)\n",
        "dtest = xgb.DMatrix(X_test)"
      ],
      "execution_count": null,
      "outputs": []
    },
    {
      "cell_type": "code",
      "metadata": {
        "id": "xm0MYIMlul8F"
      },
      "source": [
        "param = {'max_depth': 3, 'eta': 0.4, 'objective': 'binary:hinge'}\n",
        "param['nthread'] = 4\n",
        "param['eval_metric'] = 'auc'"
      ],
      "execution_count": null,
      "outputs": []
    },
    {
      "cell_type": "code",
      "metadata": {
        "colab": {
          "base_uri": "https://localhost:8080/"
        },
        "id": "fgj1EFbfuiDW",
        "outputId": "39b25ef9-0254-441f-bd6e-1d7aecc3d6f6"
      },
      "source": [
        "num_round = 30\n",
        "bst = xgb.train(param, dtrain, num_round)\n",
        "bst.predict(dtest)"
      ],
      "execution_count": null,
      "outputs": [
        {
          "output_type": "execute_result",
          "data": {
            "text/plain": [
              "array([0., 0., 1., 1., 1., 1., 1., 0., 0., 1., 0., 0., 1., 0., 1., 0., 0.,\n",
              "       0., 1., 0., 0., 1., 0., 0., 0., 0., 0., 0., 0., 1., 0., 0., 1., 1.,\n",
              "       0., 0., 1., 0., 0., 1., 0., 0., 1., 0., 0., 0., 1., 0., 0., 0., 0.,\n",
              "       1., 0., 1., 0., 0., 0., 0., 1., 0., 0., 0., 1., 0., 0., 0., 0., 1.,\n",
              "       0., 0., 0., 1., 1., 0., 1., 0., 1., 0., 0., 0., 0., 0., 0., 0., 0.,\n",
              "       0., 0., 0., 1., 1., 0., 0., 0., 0., 0., 0., 0., 0., 0., 0., 0., 0.,\n",
              "       0., 0., 0., 1., 1., 0., 0., 0., 0., 0., 0., 0., 0., 1., 0., 0., 0.,\n",
              "       0., 0., 0., 1., 1., 0., 0., 0., 0., 1., 0., 1., 0., 1., 0., 0., 1.,\n",
              "       0., 1., 0., 0., 0., 0., 0., 0., 1., 0., 0., 1., 0., 0., 1., 1., 0.,\n",
              "       0., 1., 0., 1., 1., 0., 0., 0., 0., 0., 0., 0., 0., 0., 1., 1., 0.,\n",
              "       0., 0., 0., 0., 0., 0., 1., 0., 0., 0., 0., 0., 0., 0., 0., 0., 0.,\n",
              "       1., 1., 0., 0., 1., 1., 0., 0., 0., 0., 0., 0., 0., 0., 0., 0., 1.,\n",
              "       0., 0., 1., 0., 0., 0., 0., 0., 0., 0., 1., 0., 1., 1., 0., 0., 0.,\n",
              "       0., 1., 0., 0., 1., 0., 0., 0., 0., 0., 0., 0., 1., 0., 0., 0., 0.,\n",
              "       0., 1., 0., 1., 0., 0., 0., 0., 0., 0., 0., 0., 0., 0., 0., 0., 0.,\n",
              "       1., 0., 1., 0., 0., 0., 0., 0., 1., 0., 0., 1., 0., 0., 0., 1., 1.,\n",
              "       0., 0., 0., 0., 1., 0., 0., 0., 1., 0., 0., 0., 0., 0., 0., 0., 0.,\n",
              "       0., 0., 0., 0., 0., 0., 0., 0., 0., 0., 1., 0., 0., 0., 0., 1., 0.,\n",
              "       0., 0., 0., 0., 0., 1., 1., 0., 0., 1., 0., 0., 0., 0., 1., 0., 1.,\n",
              "       0., 0., 0., 1., 1., 1., 0., 0., 0., 0., 0., 0., 0., 0., 0., 0., 0.,\n",
              "       0., 0., 0., 0., 0., 0., 0., 1., 0., 1., 0., 0., 0., 0., 0., 0., 1.,\n",
              "       0., 0., 0., 0., 1., 1., 0., 0., 0., 0., 1., 0., 0., 1., 0., 0., 1.,\n",
              "       0., 1., 0., 1., 1., 1., 1., 0., 0., 1., 0., 1., 0., 0., 0., 0., 0.,\n",
              "       0., 0., 0., 0., 0., 0., 0., 0., 0., 0., 1., 0., 0., 0., 0., 0., 0.,\n",
              "       0., 1., 0., 0., 0., 1., 0., 0., 0., 0., 0., 0., 0., 0., 0., 0., 0.,\n",
              "       0., 0., 0., 0., 0., 0., 0., 0., 0., 0., 0., 0., 0., 0., 0., 1., 0.,\n",
              "       0., 1., 0., 1., 0., 0., 0., 0., 0., 0., 0., 1., 0., 0., 0., 1., 1.,\n",
              "       1., 0., 0., 0., 0., 0., 1., 0., 1., 0., 1., 1., 0., 0., 0., 0., 0.,\n",
              "       0., 0., 0., 0., 0., 0., 0., 0., 0., 1., 0., 1., 0., 0., 0., 0., 1.,\n",
              "       0., 0., 0., 0.], dtype=float32)"
            ]
          },
          "metadata": {},
          "execution_count": 61
        }
      ]
    },
    {
      "cell_type": "code",
      "metadata": {
        "colab": {
          "base_uri": "https://localhost:8080/"
        },
        "id": "d8aOlMvg0SUe",
        "outputId": "69ba4111-abf7-41be-fd40-0d015152a7c6"
      },
      "source": [
        "print(classification_report(y_train, bst.predict(dtrain)))"
      ],
      "execution_count": null,
      "outputs": [
        {
          "output_type": "stream",
          "name": "stdout",
          "text": [
            "              precision    recall  f1-score   support\n",
            "\n",
            "           0       0.82      0.96      0.88       958\n",
            "           1       0.90      0.61      0.73       532\n",
            "\n",
            "    accuracy                           0.84      1490\n",
            "   macro avg       0.86      0.79      0.81      1490\n",
            "weighted avg       0.85      0.84      0.83      1490\n",
            "\n"
          ]
        }
      ]
    },
    {
      "cell_type": "code",
      "metadata": {
        "colab": {
          "base_uri": "https://localhost:8080/"
        },
        "id": "h1OBDvLLFbbP",
        "outputId": "68e039e8-4180-4ff2-ddc6-3966b055f035"
      },
      "source": [
        "from imblearn.over_sampling import SMOTE\n",
        "from sklearn.model_selection import train_test_split\n",
        "\n",
        "sm = SMOTE(random_state=2, k_neighbors=15, n_jobs=15)\n",
        "X_train_res, y_train_res = sm.fit_sample(X_train, y_train.ravel())"
      ],
      "execution_count": null,
      "outputs": [
        {
          "output_type": "stream",
          "name": "stderr",
          "text": [
            "/usr/local/lib/python3.7/dist-packages/sklearn/externals/six.py:31: FutureWarning: The module is deprecated in version 0.21 and will be removed in version 0.23 since we've dropped support for Python 2.7. Please rely on the official version of six (https://pypi.org/project/six/).\n",
            "  \"(https://pypi.org/project/six/).\", FutureWarning)\n",
            "/usr/local/lib/python3.7/dist-packages/sklearn/utils/deprecation.py:144: FutureWarning: The sklearn.neighbors.base module is  deprecated in version 0.22 and will be removed in version 0.24. The corresponding classes / functions should instead be imported from sklearn.neighbors. Anything that cannot be imported from sklearn.neighbors is now part of the private API.\n",
            "  warnings.warn(message, FutureWarning)\n",
            "/usr/local/lib/python3.7/dist-packages/sklearn/utils/deprecation.py:87: FutureWarning: Function safe_indexing is deprecated; safe_indexing is deprecated in version 0.22 and will be removed in version 0.24.\n",
            "  warnings.warn(msg, category=FutureWarning)\n"
          ]
        }
      ]
    },
    {
      "cell_type": "code",
      "metadata": {
        "id": "L22VQCCzFjAs"
      },
      "source": [
        "dtrain = xgb.DMatrix(X_train_res, label=y_train_res)\n",
        "dtest = xgb.DMatrix(X_test)"
      ],
      "execution_count": null,
      "outputs": []
    },
    {
      "cell_type": "code",
      "metadata": {
        "colab": {
          "base_uri": "https://localhost:8080/"
        },
        "id": "r1Fovss9Fky6",
        "outputId": "01598e46-2a0b-4643-8d3e-46cca1f45a9d"
      },
      "source": [
        "num_round = 5\n",
        "bst = xgb.train(param, dtrain, num_round)\n",
        "bst.predict(dtest)"
      ],
      "execution_count": null,
      "outputs": [
        {
          "output_type": "execute_result",
          "data": {
            "text/plain": [
              "array([0., 0., 1., 1., 1., 1., 1., 1., 0., 1., 0., 0., 1., 0., 1., 0., 0.,\n",
              "       0., 1., 1., 0., 1., 0., 0., 0., 0., 0., 0., 0., 1., 0., 0., 1., 1.,\n",
              "       0., 0., 1., 0., 0., 1., 0., 0., 1., 0., 0., 0., 1., 1., 0., 0., 0.,\n",
              "       1., 0., 1., 0., 1., 1., 0., 1., 0., 0., 0., 1., 0., 0., 0., 0., 0.,\n",
              "       0., 0., 0., 1., 1., 1., 1., 0., 1., 1., 0., 0., 0., 1., 0., 0., 1.,\n",
              "       0., 0., 0., 1., 1., 0., 0., 0., 0., 0., 0., 1., 0., 0., 0., 1., 1.,\n",
              "       0., 0., 0., 1., 1., 0., 0., 0., 0., 0., 0., 0., 0., 1., 0., 0., 0.,\n",
              "       0., 0., 0., 1., 1., 0., 0., 0., 0., 1., 0., 1., 0., 1., 0., 0., 1.,\n",
              "       0., 1., 0., 1., 0., 0., 1., 0., 1., 1., 0., 1., 1., 0., 1., 1., 0.,\n",
              "       0., 1., 0., 1., 1., 0., 0., 0., 0., 0., 1., 0., 0., 0., 1., 1., 0.,\n",
              "       0., 0., 0., 0., 0., 1., 1., 1., 0., 0., 0., 1., 1., 0., 0., 0., 0.,\n",
              "       1., 1., 0., 0., 1., 1., 0., 0., 0., 0., 0., 0., 0., 0., 0., 0., 1.,\n",
              "       0., 0., 1., 0., 1., 0., 1., 0., 0., 0., 1., 0., 1., 1., 0., 0., 0.,\n",
              "       0., 1., 0., 0., 1., 0., 1., 0., 0., 1., 0., 0., 1., 1., 0., 0., 0.,\n",
              "       0., 1., 0., 1., 0., 0., 0., 0., 0., 0., 1., 0., 0., 0., 1., 0., 0.,\n",
              "       1., 0., 1., 0., 0., 0., 0., 0., 1., 0., 0., 1., 0., 1., 0., 1., 0.,\n",
              "       0., 0., 0., 0., 1., 0., 0., 0., 1., 0., 0., 0., 0., 0., 0., 0., 0.,\n",
              "       0., 0., 0., 0., 1., 0., 0., 0., 0., 1., 1., 0., 0., 0., 0., 1., 1.,\n",
              "       0., 0., 1., 0., 1., 1., 1., 1., 0., 1., 0., 0., 0., 0., 1., 0., 1.,\n",
              "       0., 0., 0., 1., 1., 1., 0., 1., 1., 0., 0., 0., 0., 0., 0., 0., 0.,\n",
              "       0., 0., 1., 0., 0., 0., 1., 1., 1., 1., 0., 0., 0., 1., 0., 0., 1.,\n",
              "       0., 0., 0., 0., 1., 1., 1., 0., 0., 0., 1., 0., 0., 1., 0., 1., 1.,\n",
              "       0., 1., 0., 1., 1., 1., 1., 0., 0., 1., 0., 1., 0., 1., 0., 0., 0.,\n",
              "       0., 0., 0., 0., 0., 0., 1., 0., 0., 0., 1., 0., 0., 0., 0., 0., 1.,\n",
              "       0., 1., 0., 0., 0., 1., 0., 0., 0., 0., 0., 0., 0., 0., 0., 0., 0.,\n",
              "       0., 1., 0., 1., 0., 0., 0., 0., 0., 0., 0., 0., 0., 0., 0., 1., 0.,\n",
              "       0., 1., 0., 0., 0., 0., 0., 0., 0., 0., 0., 1., 0., 1., 0., 1., 1.,\n",
              "       1., 0., 0., 0., 0., 0., 1., 0., 1., 0., 1., 1., 0., 0., 0., 1., 1.,\n",
              "       0., 0., 0., 0., 0., 0., 0., 0., 1., 1., 0., 1., 0., 0., 0., 0., 1.,\n",
              "       0., 0., 0., 0.], dtype=float32)"
            ]
          },
          "metadata": {},
          "execution_count": 65
        }
      ]
    },
    {
      "cell_type": "code",
      "metadata": {
        "colab": {
          "base_uri": "https://localhost:8080/"
        },
        "id": "z9snhwAeFpla",
        "outputId": "53b7d31f-ca60-491a-ef92-3508a8a88b64"
      },
      "source": [
        "print(classification_report(y_train_res, bst.predict(dtrain)))"
      ],
      "execution_count": null,
      "outputs": [
        {
          "output_type": "stream",
          "name": "stdout",
          "text": [
            "              precision    recall  f1-score   support\n",
            "\n",
            "           0       0.73      0.84      0.78       958\n",
            "           1       0.81      0.69      0.75       958\n",
            "\n",
            "    accuracy                           0.77      1916\n",
            "   macro avg       0.77      0.77      0.77      1916\n",
            "weighted avg       0.77      0.77      0.77      1916\n",
            "\n"
          ]
        }
      ]
    },
    {
      "cell_type": "code",
      "metadata": {
        "id": "9mnxCwp94zFO"
      },
      "source": [
        "test_id = test_df[\"Customer\"]\n",
        "test_pred = bst.predict(dtest)\n",
        "\n",
        "submission = pd.DataFrame(list(zip(test_id, [int(x) for x in test_pred])), columns=[\"Customer\", \"TravelInsurance\"])\n",
        "submission.to_csv(\"./travel_insurance_submission_XGBOOST_clasif.csv\", header=True, index=False)"
      ],
      "execution_count": null,
      "outputs": []
    },
    {
      "cell_type": "markdown",
      "metadata": {
        "id": "eZXwxrfViJyZ"
      },
      "source": [
        "### Filtrando un feature utilizando Optimized Random Forest Classifier"
      ]
    },
    {
      "cell_type": "markdown",
      "metadata": {
        "id": "emyoFz-6DE9q"
      },
      "source": [
        "Supongamos que deseamos eliminar la columna de edad, dado que el rango de edad no varía mucho (10 años). "
      ]
    },
    {
      "cell_type": "code",
      "metadata": {
        "id": "HYfSVD6rojcB"
      },
      "source": [
        "transformer = make_column_transformer(\n",
        "    (KBinsDiscretizer(n_bins=5, encode=\"ordinal\", strategy=\"quantile\"), [ \"AnnualIncome\"]),\n",
        "    (OneHotEncoder(categories=\"auto\", dtype=\"int\", handle_unknown=\"ignore\"),\n",
        "     [\"Employment Type\",\"FamilyMembers\", \"GraduateOrNot\", \"FrequentFlyer\", \"EverTravelledAbroad\"]),\n",
        "    remainder=\"passthrough\")\t\t"
      ],
      "execution_count": null,
      "outputs": []
    },
    {
      "cell_type": "code",
      "metadata": {
        "colab": {
          "base_uri": "https://localhost:8080/"
        },
        "id": "T7QMrU6komp4",
        "outputId": "4606cef3-6865-45a1-bd41-19acf237ed11"
      },
      "source": [
        "# The data for training the model\n",
        "X_train = transformer.fit_transform(train_df.drop(columns=[\"Customer\",\"Age\", \"TravelInsurance\"]))\n",
        "y_train = train_df[\"TravelInsurance\"].values\n",
        "\n",
        "# The test data is only for generating the submission\n",
        "X_test = transformer.transform(test_df.drop(columns=[\"Customer\" ,\"Age\"]))\n",
        "print(X_test)"
      ],
      "execution_count": null,
      "outputs": [
        {
          "output_type": "stream",
          "name": "stdout",
          "text": [
            "[[3. 0. 1. ... 1. 0. 0.]\n",
            " [1. 0. 1. ... 1. 0. 1.]\n",
            " [4. 1. 0. ... 0. 1. 0.]\n",
            " ...\n",
            " [2. 0. 1. ... 1. 0. 0.]\n",
            " [1. 1. 0. ... 0. 1. 0.]\n",
            " [2. 1. 0. ... 1. 0. 0.]]\n"
          ]
        }
      ]
    },
    {
      "cell_type": "code",
      "metadata": {
        "colab": {
          "base_uri": "https://localhost:8080/"
        },
        "id": "O-4d-GoQACRf",
        "outputId": "930f5926-bf1f-4f0b-cc4b-296fee167e27"
      },
      "source": [
        "def get_rf_parameters():\n",
        "    n_estimators = [10, 50, 100,200]\n",
        "    max_features = ['auto', 'sqrt', 'log2']\n",
        "    max_depth = [5, 10, 20, 50, None]\n",
        "    min_samples_split = [2, 4, 6, 8]\n",
        "    min_samples_leaf = [1, 2, 4, 6]\n",
        "    bootstrap = [True, False]\n",
        "\n",
        "    random_grid = {'n_estimators':n_estimators,\n",
        "                   'max_features': max_features,\n",
        "                   'max_depth': max_depth,\n",
        "                   'min_samples_split': min_samples_split,\n",
        "                   'min_samples_leaf': min_samples_leaf,\n",
        "                   'bootstrap':bootstrap}\n",
        "    model = ensemble.RandomForestClassifier(random_state =42)\n",
        "    rf_random = RandomizedSearchCV(estimator = model, param_distributions = random_grid, n_iter = 5, cv = 3, verbose =  2, random_state = 42)\n",
        "    rf_random.fit(X_train, y_train)\n",
        "    parameters = rf_random.best_params_\n",
        "    print(\"Best Parameters: \", parameters)\n",
        "    \n",
        "    return parameters\n",
        "\n",
        "\n",
        "rf_par = get_rf_parameters()"
      ],
      "execution_count": null,
      "outputs": [
        {
          "output_type": "stream",
          "name": "stdout",
          "text": [
            "Fitting 3 folds for each of 5 candidates, totalling 15 fits\n",
            "[CV] n_estimators=100, min_samples_split=4, min_samples_leaf=4, max_features=log2, max_depth=5, bootstrap=False \n",
            "[CV]  n_estimators=100, min_samples_split=4, min_samples_leaf=4, max_features=log2, max_depth=5, bootstrap=False, total=   0.1s\n",
            "[CV] n_estimators=100, min_samples_split=4, min_samples_leaf=4, max_features=log2, max_depth=5, bootstrap=False \n"
          ]
        },
        {
          "output_type": "stream",
          "name": "stderr",
          "text": [
            "[Parallel(n_jobs=1)]: Using backend SequentialBackend with 1 concurrent workers.\n",
            "[Parallel(n_jobs=1)]: Done   1 out of   1 | elapsed:    0.1s remaining:    0.0s\n"
          ]
        },
        {
          "output_type": "stream",
          "name": "stdout",
          "text": [
            "[CV]  n_estimators=100, min_samples_split=4, min_samples_leaf=4, max_features=log2, max_depth=5, bootstrap=False, total=   0.1s\n",
            "[CV] n_estimators=100, min_samples_split=4, min_samples_leaf=4, max_features=log2, max_depth=5, bootstrap=False \n",
            "[CV]  n_estimators=100, min_samples_split=4, min_samples_leaf=4, max_features=log2, max_depth=5, bootstrap=False, total=   0.1s\n",
            "[CV] n_estimators=200, min_samples_split=2, min_samples_leaf=6, max_features=sqrt, max_depth=20, bootstrap=False \n",
            "[CV]  n_estimators=200, min_samples_split=2, min_samples_leaf=6, max_features=sqrt, max_depth=20, bootstrap=False, total=   0.3s\n",
            "[CV] n_estimators=200, min_samples_split=2, min_samples_leaf=6, max_features=sqrt, max_depth=20, bootstrap=False \n",
            "[CV]  n_estimators=200, min_samples_split=2, min_samples_leaf=6, max_features=sqrt, max_depth=20, bootstrap=False, total=   0.3s\n",
            "[CV] n_estimators=200, min_samples_split=2, min_samples_leaf=6, max_features=sqrt, max_depth=20, bootstrap=False \n",
            "[CV]  n_estimators=200, min_samples_split=2, min_samples_leaf=6, max_features=sqrt, max_depth=20, bootstrap=False, total=   0.3s\n",
            "[CV] n_estimators=10, min_samples_split=8, min_samples_leaf=2, max_features=sqrt, max_depth=None, bootstrap=True \n",
            "[CV]  n_estimators=10, min_samples_split=8, min_samples_leaf=2, max_features=sqrt, max_depth=None, bootstrap=True, total=   0.0s\n",
            "[CV] n_estimators=10, min_samples_split=8, min_samples_leaf=2, max_features=sqrt, max_depth=None, bootstrap=True \n",
            "[CV]  n_estimators=10, min_samples_split=8, min_samples_leaf=2, max_features=sqrt, max_depth=None, bootstrap=True, total=   0.0s\n",
            "[CV] n_estimators=10, min_samples_split=8, min_samples_leaf=2, max_features=sqrt, max_depth=None, bootstrap=True \n",
            "[CV]  n_estimators=10, min_samples_split=8, min_samples_leaf=2, max_features=sqrt, max_depth=None, bootstrap=True, total=   0.0s\n",
            "[CV] n_estimators=100, min_samples_split=8, min_samples_leaf=1, max_features=log2, max_depth=10, bootstrap=False \n",
            "[CV]  n_estimators=100, min_samples_split=8, min_samples_leaf=1, max_features=log2, max_depth=10, bootstrap=False, total=   0.2s\n",
            "[CV] n_estimators=100, min_samples_split=8, min_samples_leaf=1, max_features=log2, max_depth=10, bootstrap=False \n",
            "[CV]  n_estimators=100, min_samples_split=8, min_samples_leaf=1, max_features=log2, max_depth=10, bootstrap=False, total=   0.2s\n",
            "[CV] n_estimators=100, min_samples_split=8, min_samples_leaf=1, max_features=log2, max_depth=10, bootstrap=False \n",
            "[CV]  n_estimators=100, min_samples_split=8, min_samples_leaf=1, max_features=log2, max_depth=10, bootstrap=False, total=   0.2s\n",
            "[CV] n_estimators=100, min_samples_split=6, min_samples_leaf=4, max_features=log2, max_depth=5, bootstrap=False \n",
            "[CV]  n_estimators=100, min_samples_split=6, min_samples_leaf=4, max_features=log2, max_depth=5, bootstrap=False, total=   0.1s\n",
            "[CV] n_estimators=100, min_samples_split=6, min_samples_leaf=4, max_features=log2, max_depth=5, bootstrap=False \n",
            "[CV]  n_estimators=100, min_samples_split=6, min_samples_leaf=4, max_features=log2, max_depth=5, bootstrap=False, total=   0.1s\n",
            "[CV] n_estimators=100, min_samples_split=6, min_samples_leaf=4, max_features=log2, max_depth=5, bootstrap=False \n",
            "[CV]  n_estimators=100, min_samples_split=6, min_samples_leaf=4, max_features=log2, max_depth=5, bootstrap=False, total=   0.1s\n"
          ]
        },
        {
          "output_type": "stream",
          "name": "stderr",
          "text": [
            "[Parallel(n_jobs=1)]: Done  15 out of  15 | elapsed:    2.3s finished\n"
          ]
        },
        {
          "output_type": "stream",
          "name": "stdout",
          "text": [
            "Best Parameters:  {'n_estimators': 200, 'min_samples_split': 2, 'min_samples_leaf': 6, 'max_features': 'sqrt', 'max_depth': 20, 'bootstrap': False}\n"
          ]
        }
      ]
    },
    {
      "cell_type": "code",
      "metadata": {
        "id": "sTQT8sOfovy5"
      },
      "source": [
        "clf = ensemble.RandomForestClassifier(**rf_par)\n",
        "clf.fit(X_train, y_train);"
      ],
      "execution_count": null,
      "outputs": []
    },
    {
      "cell_type": "markdown",
      "metadata": {
        "id": "UeezmQaTDRdj"
      },
      "source": [
        "Obtenemos entonces las siguientes metricas, que son notoriamente inferiores a las metricas empleando todas las columnas. "
      ]
    },
    {
      "cell_type": "code",
      "metadata": {
        "colab": {
          "base_uri": "https://localhost:8080/"
        },
        "id": "kNRngaqtoyjZ",
        "outputId": "e45aa4e2-7972-484b-e54c-9050aa17a856"
      },
      "source": [
        "print(classification_report(y_train, clf.predict(X_train)))"
      ],
      "execution_count": null,
      "outputs": [
        {
          "output_type": "stream",
          "name": "stdout",
          "text": [
            "              precision    recall  f1-score   support\n",
            "\n",
            "           0       0.79      0.95      0.86       958\n",
            "           1       0.87      0.54      0.67       532\n",
            "\n",
            "    accuracy                           0.81      1490\n",
            "   macro avg       0.83      0.75      0.77      1490\n",
            "weighted avg       0.82      0.81      0.79      1490\n",
            "\n"
          ]
        }
      ]
    },
    {
      "cell_type": "code",
      "metadata": {
        "id": "wz_imSZbFGK4"
      },
      "source": [
        "test_id = test_df[\"Customer\"]\n",
        "test_pred = clf.predict(X_test)\n",
        "\n",
        "submission = pd.DataFrame(list(zip(test_id, test_pred)), columns=[\"Customer\", \"TravelInsurance\"])\n",
        "submission.to_csv(\"./travel_insurance_submission_RF4_optmzd_sin_age_op.csv\", header=True, index=False)"
      ],
      "execution_count": null,
      "outputs": []
    },
    {
      "cell_type": "markdown",
      "metadata": {
        "id": "2mr-KBdJBj3D"
      },
      "source": [
        "Ahora, si eliminamos la columna GRADUADE OR NOT?, obtenemos las siguiente metricas. Que mejoran con respecto al haber eliminado la columna Age pero igual no alcanzan a las metricas usando todas las columnas. \n",
        "\n",
        "             precision    recall  f1-score   support\n",
        "\n",
        "           0       0.83      0.97      0.89       958\n",
        "           1       0.92      0.63      0.75       532\n",
        "\n",
        "    accuracy                           0.85      1490\n",
        "    macro avg      0.87      0.80      0.82      1490\n",
        "    weighted avg   0.86      0.85      0.84      1490\n",
        "\n",
        "\n",
        "\n"
      ]
    },
    {
      "cell_type": "markdown",
      "metadata": {
        "id": "zMpl4P8rD1TE"
      },
      "source": [
        "Finalmente, si decidimos eliminar la columna FrequentFlyer que pensabamos podia ser cuestionable, obtenemos las siguiente metricas: \n",
        "\n",
        "\n",
        "              precision    recall  f1-score   support\n",
        "\n",
        "           0       0.82      0.96      0.88       958\n",
        "           1       0.89      0.61      0.73       532\n",
        "\n",
        "    accuracy                           0.83      1490\n",
        "    macro avg      0.85      0.79      0.80      1490\n",
        "    weighted avg   0.84      0.83      0.83      1490"
      ]
    },
    {
      "cell_type": "markdown",
      "metadata": {
        "id": "Fg1wrKAyEhM3"
      },
      "source": [
        "Que son mas bajas que las metricas al eliminar la columna \"graduade or not\""
      ]
    },
    {
      "cell_type": "markdown",
      "metadata": {
        "id": "jI7rncoWEp4i"
      },
      "source": [
        "Finalmente, lo que menos afecta parece ser eliminar dicha columna. Probamos si obtenemos mejores resultados en la submission y vemos que nos da un score de 0.8181. Finalmente, la mejor clasificacion resultó con RF con los parametros optimizados empleando RandomizedSearchCV.  "
      ]
    }
  ]
}